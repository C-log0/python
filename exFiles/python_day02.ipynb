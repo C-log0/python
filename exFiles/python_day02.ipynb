{
 "cells": [
  {
   "cell_type": "markdown",
   "id": "0e3faf7c",
   "metadata": {},
   "source": [
    "### 기본출력함수\n",
    "- 하이"
   ]
  },
  {
   "cell_type": "code",
   "execution_count": 8,
   "id": "109509f4",
   "metadata": {},
   "outputs": [
    {
     "name": "stdout",
     "output_type": "stream",
     "text": [
      "월요일 좋아~\n",
      "2023 9 4\n",
      "True\n",
      "\n",
      "오늘은 월요일 입니다\n",
      "Today's python\n"
     ]
    }
   ],
   "source": [
    "print(\"월요일 좋아~\")\n",
    "print(2023, 9, 4)\n",
    "print(True)\n",
    "print()\n",
    "print(\"오늘은\", \"월요일\", \"입니다\")\n",
    "print(\"Today's python\")"
   ]
  },
  {
   "cell_type": "code",
   "execution_count": 15,
   "id": "52ddb671",
   "metadata": {},
   "outputs": [
    {
     "name": "stdout",
     "output_type": "stream",
     "text": [
      "P Y T H O N\n",
      "PYTHON\n",
      "010 1111 0000\n",
      "010-1111-0000\n",
      "abcdefg123@naver.com\n"
     ]
    }
   ],
   "source": [
    "print('P','Y','T','H','O','N')\n",
    "print('P','Y','T','H','O','N', sep='')\n",
    "print(\"010\",\"1111\", \"0000\")\n",
    "print(\"010\",\"1111\", \"0000\", sep=\"-\")\n",
    "print(\"abcdefg123\", \"naver.com\", sep=\"@\")"
   ]
  },
  {
   "cell_type": "code",
   "execution_count": 19,
   "id": "ad3fb4ca",
   "metadata": {},
   "outputs": [
    {
     "name": "stdout",
     "output_type": "stream",
     "text": [
      "print-println의 차이라고 이해하면 된다.\n",
      "Welcome To IT World\n"
     ]
    }
   ],
   "source": [
    "# end option\n",
    "print('print-println의 차이라고 이해하면 된다.')\n",
    "print('Welcome To', end=' ')\n",
    "print('IT World')"
   ]
  },
  {
   "cell_type": "code",
   "execution_count": 23,
   "id": "a05a0fc1",
   "metadata": {},
   "outputs": [
    {
     "name": "stdout",
     "output_type": "stream",
     "text": [
      "단일문장 01\n",
      "단일문장 02\n",
      "단일문장 03\n"
     ]
    }
   ],
   "source": [
    "print('''단일문장 01\n",
    "단일문장 02\n",
    "단일문장 03''')"
   ]
  },
  {
   "cell_type": "code",
   "execution_count": 40,
   "id": "c2e21fe7",
   "metadata": {},
   "outputs": [
    {
     "name": "stdout",
     "output_type": "stream",
     "text": [
      "데이터01 데이터02\n",
      "데이터01 데이터02\n",
      "데이터02 데이터01\n",
      "      nice\n",
      "PYTHONSTUDY\n",
      "PYTHO\n",
      "\n",
      "100 200\n",
      "\n",
      "3.14 200.000000\n",
      "123.12\n"
     ]
    }
   ],
   "source": [
    "# 포맷형식을 이용한 출력\n",
    "# %s, %f, %d\n",
    "print('%s %s' %('데이터01', '데이터02'))\n",
    "print('{} {}'.format('데이터01', '데이터02'))\n",
    "print('{1} {0}'.format('데이터01', '데이터02'))\n",
    "print('%10s' % ('nice'))\n",
    "print('%5s' % ('PYTHONSTUDY'))\n",
    "print('%.5s' % ('PYTHONSTUDY'))\n",
    "print()\n",
    "print('%d %d'% (100, 200))\n",
    "print()\n",
    "print('%.2f %f' %(3.14195, 200))\n",
    "print('%.2f' %(123.123456))"
   ]
  },
  {
   "cell_type": "markdown",
   "id": "af3487c0",
   "metadata": {},
   "source": [
    "### 숫자형 연산자 \n",
    "- +, -, *, /, //(몫), %(나머지)"
   ]
  },
  {
   "cell_type": "code",
   "execution_count": 47,
   "id": "93ca8667",
   "metadata": {},
   "outputs": [
    {
     "name": "stdout",
     "output_type": "stream",
     "text": [
      "10\n",
      "10\n",
      "10 20\n",
      ">>>>>>>>>> +\n",
      "10 값과 20 값의 연산의 결과는 = 30\n"
     ]
    }
   ],
   "source": [
    "value01 = 10\n",
    "value02 = 20\n",
    "print(value01)\n",
    "print(value01)\n",
    "print('{} {}'.format(value01, value02))\n",
    "print('>>>>>>>>>> +')\n",
    "print('{} 값과 {} 값의 연산의 결과는 = {}'.format(value01, value02, (value01 + value02)))"
   ]
  },
  {
   "cell_type": "markdown",
   "id": "18ec2e0e",
   "metadata": {},
   "source": [
    "#### input()\n",
    "- 콘솔로부터 데이터를 입력 받을때 사용하는 함수\n",
    "- 왜 캐스팅 함수가 필요한지를 고민해보자\n"
   ]
  },
  {
   "cell_type": "code",
   "execution_count": 53,
   "id": "29e3c430",
   "metadata": {},
   "outputs": [
    {
     "name": "stdout",
     "output_type": "stream",
     "text": [
      "100\n",
      "100\n",
      "100 <class 'str'>\n",
      "100 <class 'str'>\n",
      "\n",
      ">>>>>>>>>>> + 200\n"
     ]
    }
   ],
   "source": [
    "intValue01 = input()\n",
    "intValue02 = input()\n",
    "print(intValue01, type(intValue01))\n",
    "print(intValue02, type(intValue02))\n",
    "print()\n",
    "print('>>>>>>>>>>> +', (int(intValue01)+int(intValue02)))"
   ]
  },
  {
   "cell_type": "code",
   "execution_count": 58,
   "id": "d85b10cf",
   "metadata": {},
   "outputs": [
    {
     "name": "stdout",
     "output_type": "stream",
     "text": [
      "type -  <class 'str'>\n",
      "data -  오늘부터 파이썬 배우는 중\n"
     ]
    }
   ],
   "source": [
    "#### Text Sequence(문자열)\n",
    "str01 = '오늘부터 파이썬 배우는 중'\n",
    "print('type - ', type(str01))\n",
    "print('data - ', str01 )"
   ]
  },
  {
   "cell_type": "code",
   "execution_count": 60,
   "id": "acfa2c8d",
   "metadata": {},
   "outputs": [
    {
     "name": "stdout",
     "output_type": "stream",
     "text": [
      "당신의 이름은 비타500 이고 나이는 500 살 입니다.\n"
     ]
    }
   ],
   "source": [
    "name = '비타500'\n",
    "age = 500\n",
    "print('당신의 이름은 {} 이고 나이는 {} 살 입니다.'.format(name, age))"
   ]
  },
  {
   "cell_type": "code",
   "execution_count": 63,
   "id": "bbea0798",
   "metadata": {},
   "outputs": [
    {
     "name": "stdout",
     "output_type": "stream",
     "text": [
      "c:\\python\\study\\test.txt\n"
     ]
    }
   ],
   "source": [
    "rawData = r'c:\\python\\study\\test.txt'\n",
    "print(rawData)"
   ]
  },
  {
   "cell_type": "code",
   "execution_count": 82,
   "id": "f1242155",
   "metadata": {},
   "outputs": [
    {
     "name": "stdout",
     "output_type": "stream",
     "text": [
      "dir - 인스턴스가 소유하고있는 모든 구성요소를 보여준다.\n",
      "\n",
      "indexing -  맛\n",
      "slicing [ : ] -  맛점\n",
      "\n",
      "반복구문 - for ~ in \n",
      "맛\n",
      "점\n",
      "하\n",
      "세\n",
      "요\n",
      "index = 0 , data = 맛\n",
      "index = 1 , data = 점\n",
      "index = 2 , data = 하\n",
      "index = 3 , data = 세\n",
      "index = 4 , data = 요\n"
     ]
    }
   ],
   "source": [
    "print('dir - 인스턴스가 소유하고있는 모든 구성요소를 보여준다.')\n",
    "sayHello='맛점하세요'\n",
    "print()\n",
    "# print(dir(sayHello))\n",
    "# 열거형(순서)이란 인덱싱과 슬라이싱이 가능하고\n",
    "# 반복구문 사용이 가능하다\n",
    "print('indexing - ', sayHello[0])\n",
    "print('slicing [ : ] - ', sayHello[0 : 2])\n",
    "print()\n",
    "print('반복구문 - for ~ in ')\n",
    "for char in sayHello :\n",
    "    print(char)\n",
    "for idx, char in enumerate(sayHello) :\n",
    "    print('index = {} , data = {}'.format(idx, char))"
   ]
  },
  {
   "cell_type": "code",
   "execution_count": 92,
   "id": "701d7bbe",
   "metadata": {},
   "outputs": [
    {
     "name": "stdout",
     "output_type": "stream",
     "text": [
      "문자열의 길이 - len\n",
      "len -  5\n",
      "퀴즈 - \n",
      "slicing [startidx : endidx -1 : step]\n",
      "answer -  여여여여여여\n"
     ]
    }
   ],
   "source": [
    "print('문자열의 길이 - len')\n",
    "print('len - ', len(sayHello))\n",
    "print('퀴즈 - ')\n",
    "print('slicing [startidx : endidx -1 : step]')\n",
    "gender = '남여남여남여남여남여남여'\n",
    "print('answer - ' , gender[1 : len(gender) : 2] )"
   ]
  },
  {
   "cell_type": "code",
   "execution_count": 116,
   "id": "eeb4458b",
   "metadata": {},
   "outputs": [
    {
     "name": "stdout",
     "output_type": "stream",
     "text": [
      "퀴즈2 - \n",
      "gender 값을 여남여남... 으로 출력한다면?\n",
      "answer -  여남여남여남여남여남여남\n",
      "answer -  여남여남여남여남여남여\n"
     ]
    }
   ],
   "source": [
    "print('퀴즈2 - ')\n",
    "print('gender 값을 여남여남... 으로 출력한다면?')\n",
    "print('answer - ', gender[::-1])\n",
    "print('answer - ', gender[len(gender):0:-1])"
   ]
  },
  {
   "cell_type": "code",
   "execution_count": 124,
   "id": "02fecfb0",
   "metadata": {},
   "outputs": [
    {
     "name": "stdout",
     "output_type": "stream",
     "text": [
      "문자열 객체가 제공하는 구성요소(변수, 함수)에 접근할 수 있다.\n",
      "문자열 함수 - lower(), upper(), count(), startswith(), endswith() etc...\n",
      "\n",
      "upper() -  PYTHON\n"
     ]
    }
   ],
   "source": [
    "print('문자열 객체가 제공하는 구성요소(변수, 함수)에 접근할 수 있다.')\n",
    "print('문자열 함수 - lower(), upper(), count(), startswith(), endswith() etc...')\n",
    "print()\n",
    "str = 'python' # string instance create\n",
    "print('upper() - ', str.upper())"
   ]
  },
  {
   "cell_type": "code",
   "execution_count": 126,
   "id": "b26db3d0",
   "metadata": {
    "scrolled": true
   },
   "outputs": [
    {
     "name": "stdout",
     "output_type": "stream",
     "text": [
      "010 1111 2222 010-1111-2222\n",
      "python Python\n",
      "python Python\n"
     ]
    }
   ],
   "source": [
    "phoneNumber = '010 1111 2222'\n",
    "print(phoneNumber, phoneNumber.replace(' ', '-'))\n",
    "print(str, str.replace('p', 'P'))\n",
    "print(str, str.capitalize())"
   ]
  },
  {
   "cell_type": "code",
   "execution_count": 137,
   "id": "824c882e",
   "metadata": {},
   "outputs": [
    {
     "name": "stdout",
     "output_type": "stream",
     "text": [
      "http://www.samsung.com <class 'list'>\n",
      "http://www.samsung.com samsung\n"
     ]
    }
   ],
   "source": [
    "url = 'http://www.samsung.com'\n",
    "print(url, type(url.split()))\n",
    "print(url, url.split('.')[1])"
   ]
  },
  {
   "cell_type": "code",
   "execution_count": 144,
   "id": "0b86aa28",
   "metadata": {},
   "outputs": [
    {
     "name": "stdout",
     "output_type": "stream",
     "text": [
      "strip(), rstrip(), lstrip()\n",
      "len -  15 7 11 11\n",
      "조건문 - \n",
      "참\n"
     ]
    }
   ],
   "source": [
    "print('strip(), rstrip(), lstrip()')\n",
    "str01 = '    samsung    '\n",
    "str02 = 'samsung'\n",
    "print('len - ', len(str01), len(str02), len(str01.rstrip()), len(str01.lstrip()))\n",
    "print('조건문 - ')\n",
    "if str01.strip() == str02.strip() :\n",
    "    print('참')\n",
    "else :\n",
    "    print('거짓')"
   ]
  },
  {
   "cell_type": "code",
   "execution_count": 150,
   "id": "cd5c79b9",
   "metadata": {},
   "outputs": [
    {
     "name": "stdout",
     "output_type": "stream",
     "text": [
      "startswith, endswith\n",
      "\n",
      "파일 이름이 문자열로 정의되어 있을 때\n",
      "엑셀파일인지 아닌지, 시작문자가 2023인지 아닌지를 판단\n",
      "엑셀파일인지 아닌지 -  False\n",
      "시작 문자가 2023인지 아닌지를 판단 -  True\n"
     ]
    }
   ],
   "source": [
    "print('startswith, endswith')\n",
    "print()\n",
    "print('파일 이름이 문자열로 정의되어 있을 때')\n",
    "print('엑셀파일인지 아닌지, 시작문자가 2023인지 아닌지를 판단')\n",
    "\n",
    "fileName = '2023_데이터사이언스과정.xls'\n",
    "\n",
    "print('엑셀파일인지 아닌지 - ' , fileName.endswith('txt'))\n",
    "print('시작 문자가 2023인지 아닌지를 판단 - ', fileName.startswith('2023'))"
   ]
  },
  {
   "cell_type": "markdown",
   "id": "b4fd5da4",
   "metadata": {},
   "source": [
    "### 리스트\n",
    "- 파이썬은 배열을 제공하지 않는다 (파이썬이 제공하는 하나의 자료구조일 뿐)\n",
    "- 1차원 Vector\n",
    "- 열거형 타입으로 인덱싱과 슬라이싱이 가능하다\n",
    "- 순서가 존재, 중복 데이터 허용. 수정과 삭제가 가능한(mutable) 형식\n",
    "- 인덱스는 0 ~ 시작\n",
    "- 선언 : [], list()\n",
    "- 다양한 타입을 요소로 가질 수 있다."
   ]
  },
  {
   "cell_type": "code",
   "execution_count": 155,
   "id": "29ea67c0",
   "metadata": {},
   "outputs": [
    {
     "name": "stdout",
     "output_type": "stream",
     "text": [
      "type -  <class 'list'> False\n"
     ]
    }
   ],
   "source": [
    "lstTmp = []\n",
    "print('type - ', type(lstTmp), bool(lstTmp))"
   ]
  },
  {
   "cell_type": "code",
   "execution_count": 184,
   "id": "666e35be",
   "metadata": {},
   "outputs": [
    {
     "name": "stdout",
     "output_type": "stream",
     "text": [
      "indexing -  dongA\n",
      "slicing -  [100, 3.14, 'dongA']\n",
      "Me를 추출한다면? -  Me\n",
      "good, Me 추출한다면? -  ['good', 'Me']\n",
      "\n",
      "element -  0 100\n",
      "element -  1 3.14\n",
      "element -  2 dongA\n",
      "element -  3 True\n",
      "element -  4 ['captine', 'good', 'Me']\n",
      "\n",
      "\n"
     ]
    }
   ],
   "source": [
    "lstTmp = [100, 3.14, 'dongA', True, ['captine', 'good', 'Me']]\n",
    "print('indexing - ', lstTmp[2])\n",
    "print('slicing - ', lstTmp[0:3])\n",
    "print('Me를 추출한다면? - ', lstTmp[4][-1])\n",
    "print('good, Me 추출한다면? - ', lstTmp[-1][1:3])\n",
    "print()\n",
    "\n",
    "for idx, element in enumerate(lstTmp) :\n",
    "    print('element - ', idx,  element)\n",
    "    \n",
    "print()\n",
    "print()\n",
    "\n",
    "# for idx in len(lstTmp):\n",
    "#     print(lstTmp[idx])\n",
    "    "
   ]
  },
  {
   "cell_type": "code",
   "execution_count": 187,
   "id": "0b174e59",
   "metadata": {},
   "outputs": [
    {
     "name": "stdout",
     "output_type": "stream",
     "text": [
      "list dir -  ['__add__', '__class__', '__class_getitem__', '__contains__', '__delattr__', '__delitem__', '__dir__', '__doc__', '__eq__', '__format__', '__ge__', '__getattribute__', '__getitem__', '__getstate__', '__gt__', '__hash__', '__iadd__', '__imul__', '__init__', '__init_subclass__', '__iter__', '__le__', '__len__', '__lt__', '__mul__', '__ne__', '__new__', '__reduce__', '__reduce_ex__', '__repr__', '__reversed__', '__rmul__', '__setattr__', '__setitem__', '__sizeof__', '__str__', '__subclasshook__', 'append', 'clear', 'copy', 'count', 'extend', 'index', 'insert', 'pop', 'remove', 'reverse', 'sort']\n"
     ]
    }
   ],
   "source": [
    "print('list dir - ', dir(lstTmp))"
   ]
  },
  {
   "cell_type": "code",
   "execution_count": 225,
   "id": "dfa74f88",
   "metadata": {
    "scrolled": true
   },
   "outputs": [
    {
     "name": "stdout",
     "output_type": "stream",
     "text": [
      "update -  [10, 2, 3, 4, 5, 6, 7, 8, 9]\n",
      "del -  [2, 3, 4, 5, 6, 7, 8, 9]\n",
      "\n",
      "append - 마지막 인덱스에 추가 [2, 3, 4, 5, 6, 7, 8, 9, 100]\n",
      "\n",
      "insert - 특정(원하는) 인덱스에 추가 [100, 2, 3, 4, 5, 6, 7, 8, 9, 100]\n",
      "\n",
      "reverse - 역순으로 데이터를 출력 [100, 9, 8, 7, 6, 5, 4, 3, 2, 100]\n",
      "\n",
      "sort -  [7, 8, 9, 6]\n",
      "\n",
      "remove - 인덱스로 제거하는 것이 아닌 값으로 제거 - \n",
      "lstTmp -  [7, 8, 9, 6]\n",
      "remove -  [8, 9, 6]\n",
      "\n",
      "pop - 값을 꺼내고 원본에서 삭제 \n",
      "[9, 6]\n",
      "extend -  [9, 6, 1, 2, 3, 4, 5]\n"
     ]
    }
   ],
   "source": [
    "lstTmp = [1,2,3,4,5,6,7,8,9]\n",
    "lstTmp[0] = 10\n",
    "print('update - ', lstTmp)\n",
    "del lstTmp[0]\n",
    "print('del - ', lstTmp)\n",
    "print()\n",
    "\n",
    "lstTmp.append(100)\n",
    "print('append - 마지막 인덱스에 추가', lstTmp)\n",
    "print()\n",
    "\n",
    "lstTmp.insert(0, 100)\n",
    "print('insert - 특정(원하는) 인덱스에 추가', lstTmp)\n",
    "print()\n",
    "\n",
    "lstTmp.reverse()\n",
    "print('reverse - 역순으로 데이터를 출력' , lstTmp)\n",
    "print()\n",
    "\n",
    "lstTmp = [6,9,8,7]\n",
    "lstTmp.reverse()\n",
    "print('sort - ', lstTmp)\n",
    "\n",
    "print()\n",
    "print('remove - 인덱스로 제거하는 것이 아닌 값으로 제거 - ')\n",
    "print('lstTmp - ' , lstTmp)\n",
    "lstTmp.remove(7)\n",
    "print('remove - ' , lstTmp)\n",
    "\n",
    "print()\n",
    "print('pop - 값을 꺼내고 원본에서 삭제 ')\n",
    "lstTmp.pop(0)\n",
    "print(lstTmp)\n",
    "\n",
    "secondTmp = [1,2,3,4,5]\n",
    "lstTmp.extend(secondTmp)\n",
    "print('extend - ', lstTmp)"
   ]
  },
  {
   "cell_type": "code",
   "execution_count": 351,
   "id": "d374d523",
   "metadata": {},
   "outputs": [
    {
     "name": "stdout",
     "output_type": "stream",
     "text": [
      "퀴즈 - \n",
      "\n"
     ]
    }
   ],
   "source": [
    "print('퀴즈 - ')\n",
    "print()\n",
    "lstMovies = ['엘리멘탈', '밀수', '오펜하이머', '범죄도시3', '타겟', '명탐정 코난']\n"
   ]
  },
  {
   "cell_type": "code",
   "execution_count": 352,
   "id": "fc4bd315",
   "metadata": {},
   "outputs": [
    {
     "name": "stdout",
     "output_type": "stream",
     "text": [
      ">>>>> 데이터 출력 :  ['엘리멘탈', '밀수', '오펜하이머', '범죄도시3', '타겟', '명탐정 코난']\n",
      ">>>>> 타입        :  <class 'list'>\n"
     ]
    }
   ],
   "source": [
    "print('>>>>> 데이터 출력 : ' , lstMovies)\n",
    "print('>>>>> 타입        : ' , type(lstMovies))"
   ]
  },
  {
   "cell_type": "code",
   "execution_count": 353,
   "id": "793076fd",
   "metadata": {},
   "outputs": [
    {
     "name": "stdout",
     "output_type": "stream",
     "text": [
      "1. 마지막 인덱스에 아바타2를 추가하라\n",
      "append -  ['엘리멘탈', '밀수', '오펜하이머', '범죄도시3', '타겟', '명탐정 코난', '아바타2']\n"
     ]
    }
   ],
   "source": [
    "print('1. 마지막 인덱스에 아바타2를 추가하라')\n",
    "lstMovies.append('아바타2',)\n",
    "print('append - ', lstMovies)"
   ]
  },
  {
   "cell_type": "code",
   "execution_count": 354,
   "id": "96003138",
   "metadata": {},
   "outputs": [
    {
     "name": "stdout",
     "output_type": "stream",
     "text": [
      "2. 범죄도시3와 타겟 사이에 배트맨을 추가하라\n",
      "insert -  ['엘리멘탈', '밀수', '오펜하이머', '범죄도시3', '배트맨', '타겟', '명탐정 코난', '아바타2']\n"
     ]
    }
   ],
   "source": [
    "print('2. 범죄도시3와 타겟 사이에 배트맨을 추가하라')\n",
    "lstMovies.insert(4,'배트맨')\n",
    "print('insert - ', lstMovies)"
   ]
  },
  {
   "cell_type": "code",
   "execution_count": 355,
   "id": "970c3e8c",
   "metadata": {},
   "outputs": [
    {
     "name": "stdout",
     "output_type": "stream",
     "text": [
      "3. 밀수 영화를 삭제하라\n",
      "remove -  ['엘리멘탈', '오펜하이머', '범죄도시3', '배트맨', '타겟', '명탐정 코난', '아바타2']\n"
     ]
    }
   ],
   "source": [
    "print('3. 밀수 영화를 삭제하라')\n",
    "lstMovies.remove('밀수')\n",
    "print('remove - ', lstMovies)"
   ]
  },
  {
   "cell_type": "code",
   "execution_count": 356,
   "id": "9f9fee59",
   "metadata": {},
   "outputs": [
    {
     "name": "stdout",
     "output_type": "stream",
     "text": [
      "4. 오펜하이머를 하이머로 변경 - 문자열함수(replace)\n",
      "replace -  ['엘리멘탈', '하이머', '범죄도시3', '배트맨', '타겟', '명탐정 코난', '아바타2']\n"
     ]
    }
   ],
   "source": [
    "print('4. 오펜하이머를 하이머로 변경 - 문자열함수(replace)')\n",
    "lstMovies[1] = lstMovies[1].replace('오펜하이머','하이머')\n",
    "print('replace - ', lstMovies)"
   ]
  },
  {
   "cell_type": "code",
   "execution_count": 357,
   "id": "c33df172",
   "metadata": {},
   "outputs": [
    {
     "name": "stdout",
     "output_type": "stream",
     "text": [
      "5. 9월 출시예정인 영화 두편을 리스트로 선언하고 기존 lstMovies 추가\n",
      "['해리포터와 혼혈왕자', '아이유 콘서트']\n",
      "lstMovie -  ['엘리멘탈', '하이머', '범죄도시3', '배트맨', '타겟', '명탐정 코난', '아바타2', '해리포터와 혼혈왕자', '아이유 콘서트']\n"
     ]
    }
   ],
   "source": [
    "print('5. 9월 출시예정인 영화 두편을 리스트로 선언하고 기존 lstMovies 추가')\n",
    "lstM = ['해리포터와 혼혈왕자', '아이유 콘서트']\n",
    "print(lstM)\n",
    "lstMovies.extend(lstM)\n",
    "print('lstMovie - ' , lstMovies)"
   ]
  },
  {
   "cell_type": "code",
   "execution_count": 358,
   "id": "675e41e9",
   "metadata": {},
   "outputs": [
    {
     "name": "stdout",
     "output_type": "stream",
     "text": [
      "6. 5번까지 작성된 최종결과를 정렬하여 출력하고 역순으로 다시 출력하라\n",
      "sort - reverse -  ['해리포터와 혼혈왕자', '하이머', '타겟', '엘리멘탈', '아이유 콘서트', '아바타2', '범죄도시3', '배트맨', '명탐정 코난']\n"
     ]
    }
   ],
   "source": [
    "print('6. 5번까지 작성된 최종결과를 정렬하여 출력하고 역순으로 다시 출력하라')\n",
    "lstMovies.sort()\n",
    "lstMovies.reverse()\n",
    "print('sort - reverse - ', lstMovies)"
   ]
  },
  {
   "cell_type": "code",
   "execution_count": 359,
   "id": "4f2bdaf3",
   "metadata": {},
   "outputs": [
    {
     "name": "stdout",
     "output_type": "stream",
     "text": [
      "7. 하이머와 범죄도시3을 삭제하라\n",
      "del -  ['해리포터와 혼혈왕자', '타겟', '엘리멘탈', '아이유 콘서트', '아바타2', '배트맨', '명탐정 코난']\n"
     ]
    }
   ],
   "source": [
    "print('7. 하이머와 범죄도시3을 삭제하라')\n",
    "del lstMovies[1]\n",
    "del lstMovies[5]\n",
    "print('del - ', lstMovies)"
   ]
  },
  {
   "cell_type": "code",
   "execution_count": 361,
   "id": "9c6614da",
   "metadata": {},
   "outputs": [
    {
     "name": "stdout",
     "output_type": "stream",
     "text": [
      "8. 리스트에 저장된 데이터의 갯수를 출력하라\n",
      "len -  7\n"
     ]
    }
   ],
   "source": [
    "print('8. 리스트에 저장된 데이터의 갯수를 출력하라')\n",
    "print('len - ', len(lstMovies))"
   ]
  },
  {
   "cell_type": "code",
   "execution_count": 362,
   "id": "035c0db6",
   "metadata": {},
   "outputs": [
    {
     "name": "stdout",
     "output_type": "stream",
     "text": [
      "9. 슬라이싱을 이용하여 인덱스가 홀수번지인 데이터만 출력하라\n"
     ]
    },
    {
     "data": {
      "text/plain": [
       "['타겟', '아이유 콘서트', '배트맨']"
      ]
     },
     "execution_count": 362,
     "metadata": {},
     "output_type": "execute_result"
    }
   ],
   "source": [
    "print('9. 슬라이싱을 이용하여 인덱스가 홀수번지인 데이터만 출력하라')\n",
    "lstMovies[1 : len(lstMovies) : 2]"
   ]
  },
  {
   "cell_type": "code",
   "execution_count": 364,
   "id": "c9651007",
   "metadata": {},
   "outputs": [
    {
     "name": "stdout",
     "output_type": "stream",
     "text": [
      "10. 데이터를 공백이 아닌 - 를 이용해서 출력\n",
      "해리포터와 혼혈왕자 타겟 엘리멘탈 아이유 콘서트 아바타2 배트맨 명탐정 코난 "
     ]
    }
   ],
   "source": [
    "print('10. 데이터를 공백이 아닌 - 를 이용해서 출력')\n",
    "for element in lstMovies :\n",
    "    print(element, end=' ')"
   ]
  }
 ],
 "metadata": {
  "kernelspec": {
   "display_name": "Python 3 (ipykernel)",
   "language": "python",
   "name": "python3"
  },
  "language_info": {
   "codemirror_mode": {
    "name": "ipython",
    "version": 3
   },
   "file_extension": ".py",
   "mimetype": "text/x-python",
   "name": "python",
   "nbconvert_exporter": "python",
   "pygments_lexer": "ipython3",
   "version": "3.11.4"
  }
 },
 "nbformat": 4,
 "nbformat_minor": 5
}
