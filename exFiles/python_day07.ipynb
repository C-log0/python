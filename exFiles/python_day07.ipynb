{
 "cells": [
  {
   "cell_type": "markdown",
   "id": "e612e043",
   "metadata": {},
   "source": [
    "- util 함수 (zip, map, reduce, filter)\n",
    "- map : 리스트로부터 요소를 하나씩 꺼내서 함수에 적용시킨 다음, \n",
    "    그 결과를 새로운 리스트에 담아서 리턴\n",
    "- reduce : 누적값을 리턴하는 함수\n",
    "- filter : 조건에 만족하는 데이터만 리스트에 담아서 리턴\n",
    "- 변수 = lambda 인자 : 실행문\n",
    "- (lambda 인자 : 실행문)(인자값)\n"
   ]
  },
  {
   "cell_type": "code",
   "execution_count": 20,
   "id": "ec0cc410",
   "metadata": {},
   "outputs": [
    {
     "name": "stdout",
     "output_type": "stream",
     "text": [
      "list comprehension -  [0, 1, 4, 9, 16]\n",
      "map -  <class 'map'>\n",
      "\n",
      "\n",
      "reduce -  10\n",
      "reduce -  abcd\n",
      "filter -  [0, 3, 6, 9, 12, 15, 18]\n"
     ]
    }
   ],
   "source": [
    "from functools import reduce    # functools 에서 제공하는 모듈\n",
    "\n",
    "print('list comprehension - ', [data**2 for data in range(5)])\n",
    "mapTmp = map(lambda x : x**2, range(5))     # list, range ... 열거형 넣어도 ok!\n",
    "print('map - ', type(mapTmp))\n",
    "print()\n",
    "print()\n",
    "print('reduce - ', reduce(lambda x , y : x + y , range(5)))\n",
    "print('reduce - ', reduce(lambda x , y : x + y , 'abcd'))\n",
    "print('filter - ', list(filter(lambda x : x%3 == 0 , range(21))))"
   ]
  },
  {
   "cell_type": "code",
   "execution_count": 25,
   "id": "d55abb1b",
   "metadata": {},
   "outputs": [
    {
     "ename": "ModuleNotFoundError",
     "evalue": "No module named 'ds'",
     "output_type": "error",
     "traceback": [
      "\u001b[1;31m---------------------------------------------------------------------------\u001b[0m",
      "\u001b[1;31mModuleNotFoundError\u001b[0m                       Traceback (most recent call last)",
      "Cell \u001b[1;32mIn[25], line 1\u001b[0m\n\u001b[1;32m----> 1\u001b[0m \u001b[38;5;28;01mfrom\u001b[39;00m \u001b[38;5;21;01mds\u001b[39;00m \u001b[38;5;28;01mimport\u001b[39;00m customerModule\n\u001b[0;32m      3\u001b[0m custmoerModule\u001b[38;5;241m.\u001b[39mcharLength(\u001b[38;5;124m'\u001b[39m\u001b[38;5;124mgood day\u001b[39m\u001b[38;5;124m'\u001b[39m)\n",
      "\u001b[1;31mModuleNotFoundError\u001b[0m: No module named 'ds'"
     ]
    }
   ],
   "source": [
    "from ds import customerModule\n",
    "\n",
    "custmoerModule.charLength('good day')"
   ]
  },
  {
   "cell_type": "markdown",
   "id": "2bb7c114",
   "metadata": {},
   "source": [
    "\n",
    "OOP(Object Oriented Programing)\n",
    "함수 < 클래스(변수, 메서드) < 모듈(xxx.py) < package\n",
    "클래스란?\n",
    "- 함수의 모음\n",
    "- 클래스를 선언하면 인스턴스만의 고유한 변수와 함수(메서드)를 관리할 수 있음\n",
    "- 구성요소 : 초기화함수(initialize, 생성자), 변수, 함수(메서드)\n",
    "\n",
    "결론 : 파이썬의 모든 변수타입은 객체로 취급된다. 즉, 클래스라는 의미임\n",
    "\n",
    "OOP의 4가지 컨셉을 지향\n",
    "- 은닉화\n",
    "- 추상화\n",
    "- 상속\n",
    "- 다형성\n"
   ]
  },
  {
   "cell_type": "code",
   "execution_count": 65,
   "id": "a6f389d1",
   "metadata": {},
   "outputs": [],
   "source": [
    "class person :\n",
    "    \n",
    "    # < default(기본) initailizer >\n",
    "#     def __init__(self) :    # 던더함수 : 클래스로부터 인스턴스 생성할 때\n",
    "                             # 호출되는 초기화 함수\n",
    "                            # self 는 인자에 포함되지 않는다! (인자가 없다고 볼 수 있다)\n",
    "#         print('객체 생성 시 호출되는 초기화 함수입니다.')\n",
    "    \n",
    "    # < special initailizer >\n",
    "    # overriding : 부모에 정의된 메서드를 재정의하는 것을 의미한다.\n",
    "    # 인자를 받기 때문에 special initializer 라고 한다.\n",
    "    # special initializer 정의되면 자동으로(묵시적) default initailizer 정의되지 않는다.\n",
    "    def __init__(self, name, age, gender) : \n",
    "        print('객체 생성 시 호출되는 초기화 함수입니다.')\n",
    "        self.name = name        # self : 인스턴스 지칭하는 변수\n",
    "        self.age = age\n",
    "        self.gender = gender\n",
    "        \n",
    "        \n",
    "    def doing(self) : \n",
    "        print('열공~~~') "
   ]
  },
  {
   "cell_type": "code",
   "execution_count": 66,
   "id": "5ad53360",
   "metadata": {},
   "outputs": [
    {
     "name": "stdout",
     "output_type": "stream",
     "text": [
      "객체 생성 시 호출되는 초기화 함수입니다.\n",
      "type -  <class '__main__.person'>\n",
      "dir -  ['__class__', '__delattr__', '__dict__', '__dir__', '__doc__', '__eq__', '__format__', '__ge__', '__getattribute__', '__getstate__', '__gt__', '__hash__', '__init__', '__init_subclass__', '__le__', '__lt__', '__module__', '__ne__', '__new__', '__reduce__', '__reduce_ex__', '__repr__', '__setattr__', '__sizeof__', '__str__', '__subclasshook__', '__weakref__', 'age', 'doing', 'gender', 'name']\n",
      "열공~~~\n",
      "name -  나\n",
      "age -  10\n",
      "gender -  여성\n"
     ]
    }
   ],
   "source": [
    "# lst = list()      => 객체 생성 (호출)\n",
    "# lst = [1,2,3,4,5]  => 인스턴스 생성\n",
    "\n",
    "person = person('나', 10, '여성')   # 인스턴스 생성 (사용자 정의의 person이라는 클래스로부터)\n",
    "print('type - ', type(person)) \n",
    "print('dir - ', dir(person)) \n",
    "\n",
    "person.doing()\n",
    "\n",
    "print('name - ', person.name)\n",
    "print('age - ', person.age)\n",
    "print('gender - ', person.gender)"
   ]
  },
  {
   "cell_type": "code",
   "execution_count": 50,
   "id": "cc704b2e",
   "metadata": {},
   "outputs": [],
   "source": [
    "def userPrint() : \n",
    "    print('모듈에 정의된 함수')"
   ]
  },
  {
   "cell_type": "code",
   "execution_count": 51,
   "id": "3a8eca9c",
   "metadata": {},
   "outputs": [],
   "source": [
    "def working() :   # 같은 모듈에 있는 함수이므로 \n",
    "    userPrint()      # 함수가 함수를 호출함"
   ]
  },
  {
   "cell_type": "code",
   "execution_count": 52,
   "id": "dcc9ba8d",
   "metadata": {},
   "outputs": [
    {
     "name": "stdout",
     "output_type": "stream",
     "text": [
      "caller - \n",
      "모듈에 정의된 함수\n"
     ]
    }
   ],
   "source": [
    "print('caller - ')\n",
    "working()           # working 함수 호출 -> userPrint() 호출 -> 출력"
   ]
  },
  {
   "cell_type": "markdown",
   "id": "cb4dbdab",
   "metadata": {},
   "source": [
    "퀴즈\n",
    "- account 클래스를 정의하고 싶다(입금하다, 출금하다, 잔액, 계좌번호) \n"
   ]
  },
  {
   "cell_type": "code",
   "execution_count": 110,
   "id": "bff7345e",
   "metadata": {},
   "outputs": [],
   "source": [
    "class account :\n",
    "    def __init__(self , accountNum, accountBalance) :\n",
    "        self.accountNum = accountNum\n",
    "        self.accountBalance = accountBalance\n",
    "        \n",
    "        \n",
    "    def accountInfo(self) :   # 인스턴스의 소유로 만들어주기 위해 self 입력\n",
    "        print('{} 계좌의 잔액은 {} 입니다'.format(self.accountNum , self.accountBalance))\n",
    "        \n",
    "    def withDraw(self, money) :\n",
    "        if self.accountBalance > money :\n",
    "            self.accountBalance = self.accountBalance - money \n",
    "        else :\n",
    "            print('잔액이 부족하여 출금이 부족합니다.')\n",
    "        \n",
    "    def deposit(self, money) :\n",
    "#         print('입금액은 {} 입니다'.format(self.money))\n",
    "        self.accountBalance = self.accountBalance + money\n",
    "  "
   ]
  },
  {
   "cell_type": "code",
   "execution_count": 111,
   "id": "7f8a3fea",
   "metadata": {},
   "outputs": [
    {
     "name": "stdout",
     "output_type": "stream",
     "text": [
      "111-2222-3333 계좌의 잔액은 20000 입니다\n",
      "\n",
      "입금 - \n",
      "\n",
      "출금 - \n",
      "\n",
      "111-2222-3333 계좌의 잔액은 25000 입니다\n"
     ]
    }
   ],
   "source": [
    "myAcc = account('111-2222-3333', 20000)   # 객체 생성 (인자 2개 넣음)\n",
    "# print('myAcc - ', myAcc.accountNum)    # 인스턴스 myAcc가 소유한 accountNum 변수 출력  -> ()없으므로 함수가 아님\n",
    "# print('myAcc - ', myAcc.accountBalance)\n",
    "myAcc.accountInfo()\n",
    "\n",
    "print()\n",
    "print('입금 - ')\n",
    "myAcc.deposit(10000)\n",
    "\n",
    "print()\n",
    "print('출금 - ')\n",
    "myAcc.withDraw(5000)\n",
    "\n",
    "print()\n",
    "myAcc.accountInfo()"
   ]
  },
  {
   "cell_type": "markdown",
   "id": "7aedfafc",
   "metadata": {},
   "source": [
    "#### 예외처리\n",
    "\n",
    "파이썬에서 예외란 XXXXXXError - Exception\n",
    "\n",
    "예외처리 하는 이유 : \n",
    "시스템의 비정상적인 종료를 막고 정상적인 흐름으로 시스템을 종료 시키기 위해서\n",
    "\n",
    "try :              # 기본\n",
    "    예외발생 코드\n",
    "    \n",
    "except :           # 선택\n",
    "    try 블럭에서 발생된 예외를 처리하는 영역\n",
    "    \n",
    "else :             # 선택\n",
    "    예외가 발생하지 않았을 때 수행하는 영역\n",
    "    \n",
    "finally :          # 선택\n",
    "    예외 발생 여부와 상관 없이 항상 수행하는 영역\n"
   ]
  },
  {
   "cell_type": "code",
   "execution_count": 131,
   "id": "497405d1",
   "metadata": {
    "scrolled": true
   },
   "outputs": [
    {
     "name": "stdout",
     "output_type": "stream",
     "text": [
      "1\n",
      "2\n",
      "3\n",
      "예외 발생하지 않을 때 수행하는 영역\n",
      "항상 수행하는 영역\n",
      "system exit\n"
     ]
    }
   ],
   "source": [
    "lst = [1,2,3]\n",
    "\n",
    "try :\n",
    "    \n",
    "    for idx in range(len(lst)) :\n",
    "        print(lst[idx])\n",
    "\n",
    "except IndexError as e :\n",
    "    print('발생된 예외는 {} 이고, 해당 블럭에서 예외를 처리하였습니다.'.format(e))\n",
    "\n",
    "else :\n",
    "    print('예외 발생하지 않을 때 수행하는 영역')\n",
    "\n",
    "finally :\n",
    "    print('항상 수행하는 영역')\n",
    "print('system exit')"
   ]
  },
  {
   "cell_type": "code",
   "execution_count": 155,
   "id": "cbdcf245",
   "metadata": {},
   "outputs": [],
   "source": [
    "def inputAge() :\n",
    "    age = 0\n",
    "    try :\n",
    "        age = int(input('나이를 입력하세요 : '))\n",
    "    except Exception as e :    # 발생되는 error는 모두 대문자로 시작 = class 로 정의되어 있음!\n",
    "        print('발생된 예외는 부모가 처리합니다.')\n",
    "        age = inputAge()    # 재귀함수\n",
    "#     print('함수가 리턴을 합니다.')\n",
    "    print('debug >>>>>>>>>> ', age)\n",
    "    return age"
   ]
  },
  {
   "cell_type": "code",
   "execution_count": 156,
   "id": "e4f784e6",
   "metadata": {},
   "outputs": [
    {
     "name": "stdout",
     "output_type": "stream",
     "text": [
      "나이를 입력하세요 : f\n",
      "발생된 예외는 부모가 처리합니다.\n",
      "나이를 입력하세요 : 1\n",
      "debug >>>>>>>>>>  1\n",
      "debug >>>>>>>>>>  1\n",
      "당신의 나이는 1살 입니다.\n"
     ]
    }
   ],
   "source": [
    "age = inputAge()\n",
    "print('당신의 나이는 {}살 입니다.'.format(age))"
   ]
  },
  {
   "cell_type": "markdown",
   "id": "a4b6cf66",
   "metadata": {},
   "source": [
    "퀴즈\n",
    "- 매개변수로 넘겨받은 각 요소번지의 값에 제곱한 결과를 출력하고싶다\n",
    "- 예외처리를 통해서 문자열의 제곱을 제외한 결과를 출력"
   ]
  },
  {
   "cell_type": "code",
   "execution_count": 184,
   "id": "374459d9",
   "metadata": {},
   "outputs": [],
   "source": [
    "def lstPrint(lst : list) -> None :    # None = 리턴값 없음(함수의 기본 반환값 의미)\n",
    "    for data in lst : \n",
    "        try : \n",
    "            print(data**2)\n",
    "        except Exception as e :\n",
    "            print(e)\n",
    "#         if(type(for data in lst) != 'int') :\n",
    "#             pass\n",
    "    print('>>> function call end <<< ')"
   ]
  },
  {
   "cell_type": "code",
   "execution_count": 185,
   "id": "11b79e92",
   "metadata": {
    "scrolled": true
   },
   "outputs": [
    {
     "name": "stdout",
     "output_type": "stream",
     "text": [
      "100\n",
      "400\n",
      "900\n",
      "unsupported operand type(s) for ** or pow(): 'str' and 'int'\n",
      "1600\n",
      "2500\n",
      ">>> function call end <<< \n"
     ]
    }
   ],
   "source": [
    "tmp = [10,20,30,'me',40,50]\n",
    "lstPrint(tmp)"
   ]
  },
  {
   "cell_type": "markdown",
   "id": "424fde81",
   "metadata": {},
   "source": [
    "#### 파일 입출력\n",
    "- 예외 발생이 많다.\n",
    "- 텍스트 파일, json 형식의 입출력 \n",
    "- csv, xls 파일 : 분석을 위한 데이터 파일 필요(Pandas - DataFrame 통한 입출력)\n",
    "- open(filePath, mode = 'r|w|b' , encoding = '') :     \n",
    "  => 통로를 연결해 주는 함수\n",
    "- r: read, w : write, a : append\n",
    "- with open() as file :   => 자동으로 close 기능 해줌 (추천!)\n",
    "\n"
   ]
  },
  {
   "cell_type": "code",
   "execution_count": 243,
   "id": "7cc8c711",
   "metadata": {},
   "outputs": [
    {
     "name": "stdout",
     "output_type": "stream",
     "text": [
      "파일이 존재합니다\n",
      "type -  <class 'list'>\n",
      "['오늘은 월요일이다', '내일은 화요일이다', '모레는 수요일이다', '주말에 비온다', '슬프다', '']\n",
      "\n",
      "readline -  오늘은 월요일이다\n",
      "\n",
      "readlines -  ['내일은 화요일이다\\n', '모레는 수요일이다\\n', '주말에 비온다\\n', '슬프다\\n']\n"
     ]
    }
   ],
   "source": [
    "try :\n",
    "    path = '../data/greeting.txt'     # 디렉토리 경로\n",
    "    file = open(path, mode = 'r', encoding = 'utf-8')\n",
    "except Exception as e :\n",
    "    print('디렉토리 경로를 확인해주세요')\n",
    "else :\n",
    "    print('파일이 존재합니다')\n",
    "#     print('type - ', type(file))\n",
    "#     print()\n",
    "#     print('dir - ', dir(file))\n",
    "#     print('read - ')\n",
    "#     print(file.read())\n",
    "#     print('type - ', type(file.read()) )\n",
    "#     print()\n",
    "#     txt = file.read()\n",
    "#     print('type - ', type(txt) )\n",
    "#     print()\n",
    "#     print(txt)\n",
    "#     print()\n",
    "#     strInfo(txt)\n",
    "    \n",
    "    lst = txt.split('\\n')\n",
    "    print('type - ', type(lst))\n",
    "    print(lst)\n",
    "    \n",
    "    print()\n",
    "    print('readline - ',file.readline())\n",
    "    print('readlines - ', file.readlines())\n",
    "file.close()    # 파일을 다 썼으면 닫아줘야 함"
   ]
  },
  {
   "cell_type": "code",
   "execution_count": 240,
   "id": "48fadf56",
   "metadata": {},
   "outputs": [],
   "source": [
    "# open ~ as file => close() 작업을 따로 해주지 않아도 됨(위와 동일)\n",
    "with open('../data/greeting.txt', mode='r', encoding='utf-8') as file :\n",
    "    pass   "
   ]
  },
  {
   "cell_type": "code",
   "execution_count": 241,
   "id": "d1eec6c4",
   "metadata": {},
   "outputs": [],
   "source": [
    "# def strInfo(tmp : str) -> None :\n",
    "#     print('type - ', type(tmp))\n",
    "#     print()\n",
    "#     print(tmp)\n",
    "    \n",
    "def strInfo(tmp : list) -> None :\n",
    "    print('type - ', type(tmp))\n",
    "    print()\n",
    "    print(tmp)\n",
    "    \n",
    "    for sentence in tmp :\n",
    "        print('len - ', len(sentence.split()))"
   ]
  },
  {
   "cell_type": "code",
   "execution_count": null,
   "id": "76b6593c",
   "metadata": {},
   "outputs": [],
   "source": []
  },
  {
   "cell_type": "code",
   "execution_count": null,
   "id": "0e8a69c7",
   "metadata": {},
   "outputs": [],
   "source": []
  }
 ],
 "metadata": {
  "kernelspec": {
   "display_name": "Python 3 (ipykernel)",
   "language": "python",
   "name": "python3"
  },
  "language_info": {
   "codemirror_mode": {
    "name": "ipython",
    "version": 3
   },
   "file_extension": ".py",
   "mimetype": "text/x-python",
   "name": "python",
   "nbconvert_exporter": "python",
   "pygments_lexer": "ipython3",
   "version": "3.11.4"
  }
 },
 "nbformat": 4,
 "nbformat_minor": 5
}
