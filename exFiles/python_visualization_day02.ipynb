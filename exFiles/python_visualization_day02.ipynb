{
 "cells": [
  {
   "cell_type": "code",
   "execution_count": 1,
   "metadata": {},
   "outputs": [
    {
     "name": "stdout",
     "output_type": "stream",
     "text": [
      "numpy   version ,  1.24.3\n",
      "pandnas version ,  1.5.3\n"
     ]
    }
   ],
   "source": [
    "import numpy  as np\n",
    "import pandas as pd \n",
    "import matplotlib.pyplot as plt   # 시각화 도와주는 패키지\n",
    "import json   as j \n",
    "\n",
    "# \n",
    "import seaborn as sns \n",
    "import folium as f\n",
    "\n",
    "import warnings\n",
    "warnings.filterwarnings('ignore')\n",
    "\n",
    "print('numpy   version , ' , np.__version__)\n",
    "print('pandnas version , ' , pd.__version__)"
   ]
  },
  {
   "cell_type": "code",
   "execution_count": 2,
   "id": "e8132bc8",
   "metadata": {},
   "outputs": [],
   "source": [
    "def aryInfo(ary) : \n",
    "    print('type - ' , type(ary)) \n",
    "    print('shape - ' , ary.shape)\n",
    "    print('ndim  - ' , ary.ndim)\n",
    "    print('dtype - ' , ary.dtype)\n",
    "    print()\n",
    "    print('data  -')\n",
    "    print(ary) \n",
    "\n",
    "def seriesInfo(s) :\n",
    "    print('type   - ' , type(s)) \n",
    "    print('index  - ' , s.index) \n",
    "    print('values - ' , s.values)\n",
    "    print('dtype  - ' , s.dtype)\n",
    "    print()\n",
    "    print('data  -')\n",
    "    print(s) \n",
    "\n",
    "def frmInfo(frm) : \n",
    "    print('type    - ' , type(frm))\n",
    "    print('shape   - ' , frm.shape)\n",
    "    print('ndim    - ' , frm.ndim)\n",
    "    print('row idx - ' , frm.index , type(frm.index))\n",
    "    print('col idx - ' , frm.columns , type(frm.columns))\n",
    "    print('values  - ' , type(frm.values))\n",
    "    print(frm.values)\n",
    "    print('data - ')\n",
    "    display(frm)"
   ]
  },
  {
   "cell_type": "code",
   "execution_count": 3,
   "id": "2e28afc9",
   "metadata": {},
   "outputs": [],
   "source": [
    "%matplotlib inline\n",
    "\n",
    "# 한글 폰트 문제 해결\n",
    "import platform\n",
    "from matplotlib import font_manager, rc\n",
    "plt.rcParams['axes.unicode_minus'] = False\n",
    "\n",
    "if platform.system() == 'Darwin':\n",
    "    rc('font', family='AppleGothic')\n",
    "elif platform.system() == 'Windows':\n",
    "    path = \"c:/Windows/Fonts/malgun.ttf\"\n",
    "    font_name = font_manager.FontProperties(fname=path).get_name()\n",
    "    rc('font', family=font_name)\n",
    "else:\n",
    "    print('Unknown system... sorry~~~~') \n",
    "\n",
    "\n",
    "# 차트 축 <- 음수 부호 지원\n",
    "import matplotlib\n",
    "matplotlib.rcParams['axes.unicode_minus'] = False    \n",
    "    \n",
    "import warnings\n",
    "warnings.filterwarnings(action='ignore')  "
   ]
  },
  {
   "cell_type": "code",
   "execution_count": 220,
   "id": "c5236fc1",
   "metadata": {},
   "outputs": [
    {
     "data": {
      "text/html": [
       "<div>\n",
       "<style scoped>\n",
       "    .dataframe tbody tr th:only-of-type {\n",
       "        vertical-align: middle;\n",
       "    }\n",
       "\n",
       "    .dataframe tbody tr th {\n",
       "        vertical-align: top;\n",
       "    }\n",
       "\n",
       "    .dataframe thead th {\n",
       "        text-align: right;\n",
       "    }\n",
       "</style>\n",
       "<table border=\"1\" class=\"dataframe\">\n",
       "  <thead>\n",
       "    <tr style=\"text-align: right;\">\n",
       "      <th></th>\n",
       "      <th>manufacturer</th>\n",
       "      <th>model</th>\n",
       "      <th>displ</th>\n",
       "      <th>year</th>\n",
       "      <th>cyl</th>\n",
       "      <th>trans</th>\n",
       "      <th>drv</th>\n",
       "      <th>cty</th>\n",
       "      <th>hwy</th>\n",
       "      <th>fl</th>\n",
       "      <th>class</th>\n",
       "    </tr>\n",
       "  </thead>\n",
       "  <tbody>\n",
       "    <tr>\n",
       "      <th>1</th>\n",
       "      <td>audi</td>\n",
       "      <td>a4</td>\n",
       "      <td>1.8</td>\n",
       "      <td>1999</td>\n",
       "      <td>4</td>\n",
       "      <td>auto(l5)</td>\n",
       "      <td>f</td>\n",
       "      <td>18</td>\n",
       "      <td>29</td>\n",
       "      <td>p</td>\n",
       "      <td>compact</td>\n",
       "    </tr>\n",
       "    <tr>\n",
       "      <th>2</th>\n",
       "      <td>audi</td>\n",
       "      <td>a4</td>\n",
       "      <td>1.8</td>\n",
       "      <td>1999</td>\n",
       "      <td>4</td>\n",
       "      <td>manual(m5)</td>\n",
       "      <td>f</td>\n",
       "      <td>21</td>\n",
       "      <td>29</td>\n",
       "      <td>p</td>\n",
       "      <td>compact</td>\n",
       "    </tr>\n",
       "    <tr>\n",
       "      <th>3</th>\n",
       "      <td>audi</td>\n",
       "      <td>a4</td>\n",
       "      <td>2.0</td>\n",
       "      <td>2008</td>\n",
       "      <td>4</td>\n",
       "      <td>manual(m6)</td>\n",
       "      <td>f</td>\n",
       "      <td>20</td>\n",
       "      <td>31</td>\n",
       "      <td>p</td>\n",
       "      <td>compact</td>\n",
       "    </tr>\n",
       "    <tr>\n",
       "      <th>4</th>\n",
       "      <td>audi</td>\n",
       "      <td>a4</td>\n",
       "      <td>2.0</td>\n",
       "      <td>2008</td>\n",
       "      <td>4</td>\n",
       "      <td>auto(av)</td>\n",
       "      <td>f</td>\n",
       "      <td>21</td>\n",
       "      <td>30</td>\n",
       "      <td>p</td>\n",
       "      <td>compact</td>\n",
       "    </tr>\n",
       "    <tr>\n",
       "      <th>5</th>\n",
       "      <td>audi</td>\n",
       "      <td>a4</td>\n",
       "      <td>2.8</td>\n",
       "      <td>1999</td>\n",
       "      <td>6</td>\n",
       "      <td>auto(l5)</td>\n",
       "      <td>f</td>\n",
       "      <td>16</td>\n",
       "      <td>26</td>\n",
       "      <td>p</td>\n",
       "      <td>compact</td>\n",
       "    </tr>\n",
       "  </tbody>\n",
       "</table>\n",
       "</div>"
      ],
      "text/plain": [
       "  manufacturer model  displ  year  cyl       trans drv  cty  hwy fl    class\n",
       "1         audi    a4    1.8  1999    4    auto(l5)   f   18   29  p  compact\n",
       "2         audi    a4    1.8  1999    4  manual(m5)   f   21   29  p  compact\n",
       "3         audi    a4    2.0  2008    4  manual(m6)   f   20   31  p  compact\n",
       "4         audi    a4    2.0  2008    4    auto(av)   f   21   30  p  compact\n",
       "5         audi    a4    2.8  1999    6    auto(l5)   f   16   26  p  compact"
      ]
     },
     "execution_count": 220,
     "metadata": {},
     "output_type": "execute_result"
    }
   ],
   "source": [
    "mpgFrm = pd.read_excel('../../data/mpg_visualization.xlsx', index_col = 0 )\n",
    "mpgFrm.head()\n",
    "# index_col : 첫 번째 열(인덱스 0)을 데이터프레임의 인덱스로 설정"
   ]
  },
  {
   "cell_type": "code",
   "execution_count": 5,
   "id": "3ae4cee7",
   "metadata": {},
   "outputs": [
    {
     "data": {
      "text/plain": [
       "Index(['Unnamed: 0', 'manufacturer', 'model', 'displ', 'year', 'cyl', 'trans',\n",
       "       'drv', 'cty', 'hwy', 'fl', 'class'],\n",
       "      dtype='object')"
      ]
     },
     "execution_count": 5,
     "metadata": {},
     "output_type": "execute_result"
    }
   ],
   "source": [
    "mpgFrm.columns"
   ]
  },
  {
   "cell_type": "code",
   "execution_count": 10,
   "id": "426ac398",
   "metadata": {},
   "outputs": [
    {
     "data": {
      "text/plain": [
       "(234, 12)"
      ]
     },
     "execution_count": 10,
     "metadata": {},
     "output_type": "execute_result"
    }
   ],
   "source": [
    "# mpgFrm['fl'].unique()    # 연료타입 확인\n",
    "# mpgFrm['trans'].unique()    # 자동, 수동 타입 확인\n",
    "# mpgFrm['cyl'].unique()  # 기통 확인(실린더)\n",
    "mpgFrm.shape      # 행 / 열 개수?\n"
   ]
  },
  {
   "cell_type": "code",
   "execution_count": 13,
   "id": "744326a7",
   "metadata": {},
   "outputs": [
    {
     "name": "stdout",
     "output_type": "stream",
     "text": [
      "<class 'pandas.core.frame.DataFrame'>\n",
      "RangeIndex: 234 entries, 0 to 233\n",
      "Data columns (total 12 columns):\n",
      " #   Column        Non-Null Count  Dtype  \n",
      "---  ------        --------------  -----  \n",
      " 0   Unnamed: 0    234 non-null    int64  \n",
      " 1   manufacturer  234 non-null    object \n",
      " 2   model         234 non-null    object \n",
      " 3   displ         234 non-null    float64\n",
      " 4   year          234 non-null    int64  \n",
      " 5   cyl           234 non-null    int64  \n",
      " 6   trans         234 non-null    object \n",
      " 7   drv           234 non-null    object \n",
      " 8   cty           234 non-null    int64  \n",
      " 9   hwy           234 non-null    int64  \n",
      " 10  fl            234 non-null    object \n",
      " 11  class         234 non-null    object \n",
      "dtypes: float64(1), int64(5), object(6)\n",
      "memory usage: 22.1+ KB\n"
     ]
    }
   ],
   "source": [
    "mpgFrm.describe()   # 정보 확인\n",
    "mpgFrm.info()   # object -> 질적자료 (분포표 만듦)  ※ 양적자료 : object 제외한 나머지"
   ]
  },
  {
   "cell_type": "markdown",
   "id": "d302e3d5",
   "metadata": {},
   "source": [
    "양적 자료(데이터)\n",
    "- 요약 정보의 집계가 되는 컬럼으로, 관측된 값 = 수치 형태의 속성을 가짐\n",
    "- box plot\n",
    "\n",
    "질적 자료(데이터)\n",
    "- 범주 또는 순서 형태의 속성을 가진 자료로, 데이터의 분포를 확인해야 하는 값들\n",
    "- bar plot\n"
   ]
  },
  {
   "cell_type": "code",
   "execution_count": 223,
   "id": "06e8a85e",
   "metadata": {},
   "outputs": [
    {
     "name": "stdout",
     "output_type": "stream",
     "text": [
      "양적자료만 추출하여 서브셋 구축\n"
     ]
    }
   ],
   "source": [
    "print('양적자료만 추출하여 서브셋 구축')\n",
    "subset = mpgFrm.loc[ : , ['displ', 'cyl', 'cty','hwy'] ]\n",
    "# subset"
   ]
  },
  {
   "cell_type": "code",
   "execution_count": 224,
   "id": "f27bb452",
   "metadata": {},
   "outputs": [
    {
     "data": {
      "text/plain": [
       "<Axes: >"
      ]
     },
     "execution_count": 224,
     "metadata": {},
     "output_type": "execute_result"
    },
    {
     "data": {
      "image/png": "[encoded data removed]",
      "text/plain": [
       "<Figure size 640x480 with 1 Axes>"
      ]
     },
     "metadata": {},
     "output_type": "display_data"
    }
   ],
   "source": [
    "subset.boxplot(['cty'])\n",
    "# 3,1사분위 사이의 값 = IQR\n",
    "# 선 위로 나간 동그라미 = 이상치\n"
   ]
  },
  {
   "cell_type": "code",
   "execution_count": 27,
   "id": "02460288",
   "metadata": {},
   "outputs": [
    {
     "name": "stdout",
     "output_type": "stream",
     "text": [
      "질적자료 - 분포 value_counts() \n",
      "제조사의 분포를 확인하고 싶다 - \n"
     ]
    },
    {
     "data": {
      "text/plain": [
       "dodge         37\n",
       "toyota        34\n",
       "volkswagen    27\n",
       "ford          25\n",
       "chevrolet     19\n",
       "audi          18\n",
       "hyundai       14\n",
       "subaru        14\n",
       "nissan        13\n",
       "honda          9\n",
       "jeep           8\n",
       "pontiac        5\n",
       "land rover     4\n",
       "mercury        4\n",
       "lincoln        3\n",
       "Name: manufacturer, dtype: int64"
      ]
     },
     "execution_count": 27,
     "metadata": {},
     "output_type": "execute_result"
    }
   ],
   "source": [
    "print('질적자료 - 분포 value_counts() ')\n",
    "print('제조사의 분포를 확인하고 싶다 - ')\n",
    "mpgFrm['manufacturer'].value_counts()   # =>bar_chart 만들 수 있음\n"
   ]
  },
  {
   "cell_type": "code",
   "execution_count": 28,
   "id": "fe1220ba",
   "metadata": {},
   "outputs": [
    {
     "data": {
      "image/png": "[encoded data removed]",
      "text/plain": [
       "<Figure size 640x480 with 1 Axes>"
      ]
     },
     "metadata": {},
     "output_type": "display_data"
    }
   ],
   "source": [
    "# 시각화\n",
    "plt.figure()\n",
    "\n",
    "# 분포 확인\n",
    "plt.bar(mpgFrm['manufacturer'].value_counts().index,\n",
    "        mpgFrm['manufacturer'].value_counts().values)\n",
    "\n",
    "plt.show()\n",
    "plt.close()"
   ]
  },
  {
   "cell_type": "code",
   "execution_count": 225,
   "id": "c1b8fb14",
   "metadata": {},
   "outputs": [
    {
     "name": "stdout",
     "output_type": "stream",
     "text": [
      "Q1) 배기량(displ)에 따른 고속연비를 확인하고자 한다\n",
      " 배기량 4 이하인 자동차와 5 이상인 자동차 중 고속도로 평균 연비가 높은 지를 확인\n",
      "25.96319018404908\n",
      "18.07894736842105\n"
     ]
    }
   ],
   "source": [
    "print('Q1) 배기량(displ)에 따른 고속연비를 확인하고자 한다')\n",
    "print(' 배기량 4 이하인 자동차와 5 이상인 자동차 중 고속도로 평균 연비가 높은 지를 확인')\n",
    "print(mpgFrm[mpgFrm['displ'] <= 4]['hwy'].mean())\n",
    "print(mpgFrm[mpgFrm['displ'] >= 5 ]['hwy'].mean())"
   ]
  },
  {
   "cell_type": "code",
   "execution_count": 226,
   "id": "4c7b6466",
   "metadata": {},
   "outputs": [
    {
     "name": "stdout",
     "output_type": "stream",
     "text": [
      "Q2) 자동차 제조사에 따른 도시 연비를 비교하려고 한다\n",
      "audi, toyota 두 회사의 모든 차종에 대한 도시연비 평균을 비교\n",
      "audi 도시연비 평균 :  17.61111111111111\n",
      "toyota 도시연비 평균 :  18.529411764705884\n"
     ]
    }
   ],
   "source": [
    "print('Q2) 자동차 제조사에 따른 도시 연비를 비교하려고 한다')\n",
    "print('audi, toyota 두 회사의 모든 차종에 대한 도시연비 평균을 비교')\n",
    "print('audi 도시연비 평균 : ', mpgFrm[mpgFrm['manufacturer'] == 'audi']['cty'].mean())\n",
    "print('toyota 도시연비 평균 : ', mpgFrm[mpgFrm['manufacturer'] == 'toyota']['cty'].mean())"
   ]
  },
  {
   "cell_type": "code",
   "execution_count": 254,
   "id": "2611c984",
   "metadata": {},
   "outputs": [
    {
     "name": "stdout",
     "output_type": "stream",
     "text": [
      "Q3) chevrolet, ford, honda 제조사의 모든 차종에 대한 고속도로 연비 평균을 시각화\n",
      "chevrolet :  15.0\n",
      "ford :  14.0\n",
      "honda :  24.444444444444443\n"
     ]
    }
   ],
   "source": [
    "print('Q3) chevrolet, ford, honda 제조사의 모든 차종에 대한 고속도로 연비 평균을 시각화')\n",
    "# 각각 구하기\n",
    "print('chevrolet : ',mpgFrm[mpgFrm['manufacturer'] == 'chevrolet']['cty'].mean())\n",
    "print('ford : ',mpgFrm[mpgFrm['manufacturer'] == 'ford']['cty'].mean())\n",
    "print('honda : ',mpgFrm[mpgFrm['manufacturer'] == 'honda']['cty'].mean())"
   ]
  },
  {
   "cell_type": "code",
   "execution_count": 78,
   "id": "96489aec",
   "metadata": {},
   "outputs": [],
   "source": [
    "# 같이 구하기\n",
    "c_idx = (mpgFrm['manufacturer'] == 'chevrolet')\n",
    "f_idx = (mpgFrm['manufacturer'] == 'ford')\n",
    "h_idx = (mpgFrm['manufacturer'] == 'honda')\n",
    "\n",
    "subset = mpgFrm.loc[c_idx | f_idx | h_idx , : ]\n",
    "# subset['manufacturer'].unique()     # 3개 차종만 출력됨\n",
    "\n",
    "m_series = subset.groupby('manufacturer')['hwy'].mean()    # key : value 형태 => 시각화\n"
   ]
  },
  {
   "cell_type": "code",
   "execution_count": 79,
   "id": "7ecc693e",
   "metadata": {},
   "outputs": [
    {
     "data": {
      "image/png": "[encoded data removed]",
      "text/plain": [
       "<Figure size 640x480 with 1 Axes>"
      ]
     },
     "metadata": {},
     "output_type": "display_data"
    }
   ],
   "source": [
    "plt.figure()\n",
    "\n",
    "plt.bar(m_series.index,\n",
    "        m_series.values)\n",
    "\n",
    "plt.show()\n",
    "plt.close()\n"
   ]
  },
  {
   "cell_type": "code",
   "execution_count": 261,
   "id": "208df8e1",
   "metadata": {},
   "outputs": [
    {
     "name": "stdout",
     "output_type": "stream",
     "text": [
      "연료가격(price_fl) 파생변수를 추가하려고 한다\n",
      "c: 가스 2.35 , d : 2.38 , e : 2.11 , p : 3.45 , r : 2.22\n"
     ]
    },
    {
     "data": {
      "text/html": [
       "<div>\n",
       "<style scoped>\n",
       "    .dataframe tbody tr th:only-of-type {\n",
       "        vertical-align: middle;\n",
       "    }\n",
       "\n",
       "    .dataframe tbody tr th {\n",
       "        vertical-align: top;\n",
       "    }\n",
       "\n",
       "    .dataframe thead th {\n",
       "        text-align: right;\n",
       "    }\n",
       "</style>\n",
       "<table border=\"1\" class=\"dataframe\">\n",
       "  <thead>\n",
       "    <tr style=\"text-align: right;\">\n",
       "      <th></th>\n",
       "      <th>fl</th>\n",
       "      <th>price_fl</th>\n",
       "    </tr>\n",
       "  </thead>\n",
       "  <tbody>\n",
       "    <tr>\n",
       "      <th>0</th>\n",
       "      <td>c</td>\n",
       "      <td>2.35</td>\n",
       "    </tr>\n",
       "    <tr>\n",
       "      <th>1</th>\n",
       "      <td>d</td>\n",
       "      <td>2.38</td>\n",
       "    </tr>\n",
       "    <tr>\n",
       "      <th>2</th>\n",
       "      <td>e</td>\n",
       "      <td>2.11</td>\n",
       "    </tr>\n",
       "    <tr>\n",
       "      <th>3</th>\n",
       "      <td>p</td>\n",
       "      <td>3.45</td>\n",
       "    </tr>\n",
       "    <tr>\n",
       "      <th>4</th>\n",
       "      <td>r</td>\n",
       "      <td>2.22</td>\n",
       "    </tr>\n",
       "  </tbody>\n",
       "</table>\n",
       "</div>"
      ],
      "text/plain": [
       "  fl price_fl\n",
       "0  c    2.35 \n",
       "1  d    2.38 \n",
       "2  e    2.11 \n",
       "3  p    3.45 \n",
       "4  r     2.22"
      ]
     },
     "execution_count": 261,
     "metadata": {},
     "output_type": "execute_result"
    }
   ],
   "source": [
    "print('연료가격(price_fl) 파생변수를 추가하려고 한다')\n",
    "print('c: 가스 2.35 , d : 2.38 , e : 2.11 , p : 3.45 , r : 2.22')\n",
    "# mpgFrm['fl'].unique()\n",
    "priceFrm = pd.DataFrame({\n",
    "    'fl' : ['c','d','e','p','r'],\n",
    "    'price_fl' : ['2.35 ','2.38 ','2.11 ','3.45 ','2.22']\n",
    "})\n",
    "priceFrm"
   ]
  },
  {
   "cell_type": "code",
   "execution_count": 262,
   "id": "12b28639",
   "metadata": {},
   "outputs": [],
   "source": [
    "# inner join 방식으로 두 프레임 합치기\n",
    "# on에 들어가는 값은 프레임 내의 key 값과 이름이 일치해야 한다.\n",
    "mpgFrm = pd.merge(mpgFrm, priceFrm, how='inner', on = 'fl' )"
   ]
  },
  {
   "cell_type": "code",
   "execution_count": 259,
   "id": "e043995c",
   "metadata": {},
   "outputs": [
    {
     "name": "stdout",
     "output_type": "stream",
     "text": [
      "<class 'pandas.core.frame.DataFrame'>\n",
      "Int64Index: 235 entries, 0 to 234\n",
      "Data columns (total 13 columns):\n",
      " #   Column        Non-Null Count  Dtype  \n",
      "---  ------        --------------  -----  \n",
      " 0   manufacturer  228 non-null    object \n",
      " 1   model         228 non-null    object \n",
      " 2   displ         228 non-null    float64\n",
      " 3   year          228 non-null    float64\n",
      " 4   cyl           228 non-null    float64\n",
      " 5   trans         228 non-null    object \n",
      " 6   drv           228 non-null    object \n",
      " 7   cty           228 non-null    float64\n",
      " 8   hwy           228 non-null    float64\n",
      " 9   fl            234 non-null    object \n",
      " 10  class         234 non-null    object \n",
      " 11  price_fl_x    234 non-null    object \n",
      " 12  price_fl_y    234 non-null    object \n",
      "dtypes: float64(5), object(8)\n",
      "memory usage: 33.8+ KB\n"
     ]
    }
   ],
   "source": [
    "mpgFrm.info()"
   ]
  },
  {
   "cell_type": "code",
   "execution_count": 92,
   "id": "b1503e63",
   "metadata": {},
   "outputs": [
    {
     "data": {
      "text/plain": [
       "Unnamed: 0      0\n",
       "manufacturer    0\n",
       "model           0\n",
       "displ           0\n",
       "year            0\n",
       "cyl             0\n",
       "trans           0\n",
       "drv             0\n",
       "cty             0\n",
       "hwy             0\n",
       "fl              0\n",
       "class           0\n",
       "price_fl        0\n",
       "dtype: int64"
      ]
     },
     "execution_count": 92,
     "metadata": {},
     "output_type": "execute_result"
    }
   ],
   "source": [
    "mpgFrm.isnull().sum()"
   ]
  },
  {
   "cell_type": "code",
   "execution_count": 234,
   "id": "207af567",
   "metadata": {},
   "outputs": [
    {
     "name": "stdout",
     "output_type": "stream",
     "text": [
      "<class 'pandas.core.frame.DataFrame'>\n",
      "Int64Index: 234 entries, 0 to 233\n",
      "Data columns (total 13 columns):\n",
      " #   Column        Non-Null Count  Dtype  \n",
      "---  ------        --------------  -----  \n",
      " 0   manufacturer  234 non-null    object \n",
      " 1   model         234 non-null    object \n",
      " 2   displ         234 non-null    float64\n",
      " 3   year          234 non-null    int64  \n",
      " 4   cyl           234 non-null    int64  \n",
      " 5   trans         234 non-null    object \n",
      " 6   drv           234 non-null    object \n",
      " 7   cty           234 non-null    int64  \n",
      " 8   hwy           234 non-null    int64  \n",
      " 9   fl            234 non-null    object \n",
      " 10  class         234 non-null    object \n",
      " 11  price_fl_x    234 non-null    object \n",
      " 12  price_fl_y    234 non-null    object \n",
      "dtypes: float64(1), int64(4), object(8)\n",
      "memory usage: 25.6+ KB\n"
     ]
    }
   ],
   "source": [
    "mpgFrm.info()"
   ]
  },
  {
   "cell_type": "code",
   "execution_count": 235,
   "id": "012dbbd2",
   "metadata": {},
   "outputs": [
    {
     "data": {
      "text/plain": [
       "manufacturer    0\n",
       "model           0\n",
       "displ           0\n",
       "year            0\n",
       "cyl             0\n",
       "trans           0\n",
       "drv             0\n",
       "cty             0\n",
       "hwy             0\n",
       "fl              0\n",
       "class           0\n",
       "price_fl_x      0\n",
       "price_fl_y      0\n",
       "dtype: int64"
      ]
     },
     "execution_count": 235,
     "metadata": {},
     "output_type": "execute_result"
    }
   ],
   "source": [
    "mpgFrm.isnull().sum()"
   ]
  },
  {
   "cell_type": "code",
   "execution_count": 238,
   "id": "c76bbea0",
   "metadata": {},
   "outputs": [],
   "source": [
    "# 임의로 결측값 부여하기\n",
    "\n",
    "mpgFrm.loc[65, 'hwy'] = np.NaN\n",
    "mpgFrm.loc[12, 'hwy'] = np.NaN\n",
    "mpgFrm.loc[140, 'hwy'] = np.NaN\n",
    "mpgFrm.loc[32, 'hwy'] = np.NaN\n",
    "mpgFrm.loc[167, 'hwy'] = np.NaN\n",
    "mpgFrm.loc[190, 'hwy'] = np.NaN\n",
    "mpgFrm.loc[234, 'hwy'] = np.NaN"
   ]
  },
  {
   "cell_type": "code",
   "execution_count": 239,
   "id": "4fbbca61",
   "metadata": {},
   "outputs": [
    {
     "name": "stdout",
     "output_type": "stream",
     "text": [
      "isnull(= isna) - \n"
     ]
    },
    {
     "data": {
      "text/plain": [
       "drv    7\n",
       "hwy    7\n",
       "dtype: int64"
      ]
     },
     "execution_count": 239,
     "metadata": {},
     "output_type": "execute_result"
    }
   ],
   "source": [
    "print('isnull(= isna) - ')\n",
    "mpgFrm[['drv','hwy']].isna().sum()"
   ]
  },
  {
   "cell_type": "code",
   "execution_count": 240,
   "id": "1ba15123",
   "metadata": {},
   "outputs": [
    {
     "name": "stdout",
     "output_type": "stream",
     "text": [
      "Q3) hwy 결측값을 제외하고 어떤 구동방식의 고속도로평균 연비가 높은지 확인한다면\n",
      "drv\n",
      "4    19.040000\n",
      "f    28.271845\n",
      "r    21.000000\n",
      "Name: hwy, dtype: float64\n",
      "dropna - 결측값 제외 시킴\n",
      "           hwy\n",
      "drv           \n",
      "4    19.040000\n",
      "f    28.271845\n",
      "r    21.000000\n"
     ]
    }
   ],
   "source": [
    "print('Q3) hwy 결측값을 제외하고 어떤 구동방식의 고속도로평균 연비가 높은지 확인한다면')\n",
    "print(mpgFrm.groupby('drv')['hwy'].mean())\n",
    "\n",
    "print('dropna - 결측값 제외 시킴')\n",
    "print(mpgFrm[['drv', 'hwy']].dropna().groupby('drv').mean())\n",
    "\n",
    "# 두 결과의 차이가 없음"
   ]
  },
  {
   "cell_type": "code",
   "execution_count": 242,
   "id": "c8a10c3d",
   "metadata": {},
   "outputs": [
    {
     "name": "stdout",
     "output_type": "stream",
     "text": [
      "구동방식별 고속도로 연비평균을 막대그래프로 시각화\n"
     ]
    },
    {
     "data": {
      "text/plain": [
       "<Figure size 640x480 with 0 Axes>"
      ]
     },
     "metadata": {},
     "output_type": "display_data"
    },
    {
     "data": {
      "image/png": "[encoded data removed]",
      "text/plain": [
       "<Figure size 640x480 with 1 Axes>"
      ]
     },
     "metadata": {},
     "output_type": "display_data"
    }
   ],
   "source": [
    "print('구동방식별 고속도로 연비평균을 막대그래프로 시각화')\n",
    "grpDrvFrm = mpgFrm[['drv', 'hwy']].dropna().groupby('drv').mean()\n",
    "# grpDrvFrm\n",
    "\n",
    "plt.figure()\n",
    "\n",
    "grpDrvFrm.plot(kind = 'bar',\n",
    "               rot = 0)\n",
    "\n",
    "plt.grid()\n",
    "plt.show()\n",
    "plt.close()"
   ]
  },
  {
   "cell_type": "code",
   "execution_count": 133,
   "id": "e3696e89",
   "metadata": {},
   "outputs": [
    {
     "name": "stdout",
     "output_type": "stream",
     "text": [
      "Q4) 구동방식별 고속도로, 도시연비 평균으로 서브셋을 만들고\n",
      "시각화 - multi bar \n"
     ]
    },
    {
     "data": {
      "text/plain": [
       "<Figure size 640x480 with 0 Axes>"
      ]
     },
     "metadata": {},
     "output_type": "display_data"
    },
    {
     "data": {
      "image/png": "[encoded data removed]",
      "text/plain": [
       "<Figure size 640x480 with 1 Axes>"
      ]
     },
     "metadata": {},
     "output_type": "display_data"
    }
   ],
   "source": [
    "print('Q4) 구동방식별 고속도로, 도시연비 평균으로 서브셋을 만들고')\n",
    "print('시각화 - multi bar ')\n",
    "# 구동방식별 고속도로, 도시연비 평균\n",
    "grpDrvFrm = mpgFrm[['drv', 'hwy' , 'cty']].dropna().groupby('drv').mean()\n",
    "# subset\n",
    "\n",
    "# 시각화\n",
    "plt.figure()\n",
    "\n",
    "grpDrvFrm.plot(kind = 'bar',\n",
    "        rot = 0)\n",
    "\n",
    "plt.show()\n",
    "plt.close()\n"
   ]
  },
  {
   "cell_type": "code",
   "execution_count": 139,
   "id": "ac10868f",
   "metadata": {},
   "outputs": [
    {
     "name": "stdout",
     "output_type": "stream",
     "text": [
      "Q5) 해당 클래스별 빈도수를 시각화\n"
     ]
    },
    {
     "data": {
      "image/png": "[encoded data removed]",
      "text/plain": [
       "<Figure size 640x480 with 1 Axes>"
      ]
     },
     "metadata": {},
     "output_type": "display_data"
    }
   ],
   "source": [
    "print('Q5) 해당 클래스별 빈도수를 시각화')\n",
    "# mpgFrm['class'].unique()\n",
    "# mpgFrm['class'].value_counts()    # series => 빈도수 (index : value)\n",
    "\n",
    "# 시각화\n",
    "plt.figure()\n",
    "\n",
    "plt.bar(mpgFrm['class'].value_counts().index,\n",
    "        mpgFrm['class'].value_counts().values)\n",
    "plt.grid()\n",
    "plt.show()\n",
    "plt.close()"
   ]
  },
  {
   "cell_type": "code",
   "execution_count": 243,
   "id": "c173709c",
   "metadata": {},
   "outputs": [
    {
     "name": "stdout",
     "output_type": "stream",
     "text": [
      "Q6) 제조사별 SUV 도시연비 Top5 시각화\n",
      "type -  <class 'pandas.core.frame.DataFrame'>\n"
     ]
    },
    {
     "data": {
      "text/html": [
       "<div>\n",
       "<style scoped>\n",
       "    .dataframe tbody tr th:only-of-type {\n",
       "        vertical-align: middle;\n",
       "    }\n",
       "\n",
       "    .dataframe tbody tr th {\n",
       "        vertical-align: top;\n",
       "    }\n",
       "\n",
       "    .dataframe thead th {\n",
       "        text-align: right;\n",
       "    }\n",
       "</style>\n",
       "<table border=\"1\" class=\"dataframe\">\n",
       "  <thead>\n",
       "    <tr style=\"text-align: right;\">\n",
       "      <th></th>\n",
       "      <th>cty</th>\n",
       "    </tr>\n",
       "    <tr>\n",
       "      <th>manufacturer</th>\n",
       "      <th></th>\n",
       "    </tr>\n",
       "  </thead>\n",
       "  <tbody>\n",
       "    <tr>\n",
       "      <th>chevrolet</th>\n",
       "      <td>12.666667</td>\n",
       "    </tr>\n",
       "    <tr>\n",
       "      <th>dodge</th>\n",
       "      <td>11.857143</td>\n",
       "    </tr>\n",
       "    <tr>\n",
       "      <th>ford</th>\n",
       "      <td>12.888889</td>\n",
       "    </tr>\n",
       "    <tr>\n",
       "      <th>jeep</th>\n",
       "      <td>13.285714</td>\n",
       "    </tr>\n",
       "    <tr>\n",
       "      <th>land rover</th>\n",
       "      <td>11.500000</td>\n",
       "    </tr>\n",
       "    <tr>\n",
       "      <th>lincoln</th>\n",
       "      <td>11.333333</td>\n",
       "    </tr>\n",
       "    <tr>\n",
       "      <th>mercury</th>\n",
       "      <td>13.250000</td>\n",
       "    </tr>\n",
       "    <tr>\n",
       "      <th>nissan</th>\n",
       "      <td>13.750000</td>\n",
       "    </tr>\n",
       "    <tr>\n",
       "      <th>subaru</th>\n",
       "      <td>18.833333</td>\n",
       "    </tr>\n",
       "    <tr>\n",
       "      <th>toyota</th>\n",
       "      <td>14.375000</td>\n",
       "    </tr>\n",
       "  </tbody>\n",
       "</table>\n",
       "</div>"
      ],
      "text/plain": [
       "                    cty\n",
       "manufacturer           \n",
       "chevrolet     12.666667\n",
       "dodge         11.857143\n",
       "ford          12.888889\n",
       "jeep          13.285714\n",
       "land rover    11.500000\n",
       "lincoln       11.333333\n",
       "mercury       13.250000\n",
       "nissan        13.750000\n",
       "subaru        18.833333\n",
       "toyota        14.375000"
      ]
     },
     "metadata": {},
     "output_type": "display_data"
    },
    {
     "name": "stdout",
     "output_type": "stream",
     "text": [
      "\n"
     ]
    },
    {
     "data": {
      "text/html": [
       "<div>\n",
       "<style scoped>\n",
       "    .dataframe tbody tr th:only-of-type {\n",
       "        vertical-align: middle;\n",
       "    }\n",
       "\n",
       "    .dataframe tbody tr th {\n",
       "        vertical-align: top;\n",
       "    }\n",
       "\n",
       "    .dataframe thead th {\n",
       "        text-align: right;\n",
       "    }\n",
       "</style>\n",
       "<table border=\"1\" class=\"dataframe\">\n",
       "  <thead>\n",
       "    <tr style=\"text-align: right;\">\n",
       "      <th></th>\n",
       "      <th>cty</th>\n",
       "    </tr>\n",
       "    <tr>\n",
       "      <th>manufacturer</th>\n",
       "      <th></th>\n",
       "    </tr>\n",
       "  </thead>\n",
       "  <tbody>\n",
       "    <tr>\n",
       "      <th>subaru</th>\n",
       "      <td>18.833333</td>\n",
       "    </tr>\n",
       "    <tr>\n",
       "      <th>toyota</th>\n",
       "      <td>14.375000</td>\n",
       "    </tr>\n",
       "    <tr>\n",
       "      <th>nissan</th>\n",
       "      <td>13.750000</td>\n",
       "    </tr>\n",
       "    <tr>\n",
       "      <th>jeep</th>\n",
       "      <td>13.285714</td>\n",
       "    </tr>\n",
       "    <tr>\n",
       "      <th>mercury</th>\n",
       "      <td>13.250000</td>\n",
       "    </tr>\n",
       "  </tbody>\n",
       "</table>\n",
       "</div>"
      ],
      "text/plain": [
       "                    cty\n",
       "manufacturer           \n",
       "subaru        18.833333\n",
       "toyota        14.375000\n",
       "nissan        13.750000\n",
       "jeep          13.285714\n",
       "mercury       13.250000"
      ]
     },
     "metadata": {},
     "output_type": "display_data"
    }
   ],
   "source": [
    "print('Q6) 제조사별 SUV 도시연비 Top5 시각화')\n",
    "# mpgFrm['manufacturer'].unique()\n",
    "# mpgFrm.groupby('manufacturer').groups\n",
    "\n",
    "# mpgFrm.groupby('manufacturer')['cty'].mean()\n",
    "subset = mpgFrm[ mpgFrm['class'] == 'suv' ]. groupby('manufacturer')[['cty']].mean()\n",
    "print('type - ', type(subset))\n",
    "display(subset)    # => frame\n",
    "print()\n",
    "subset.sort_values(by='cty', ascending=False, inplace=True)\n",
    "display(subset.head())"
   ]
  },
  {
   "cell_type": "code",
   "execution_count": 244,
   "metadata": {},
   "outputs": [
    {
     "data": {
      "image/png": "[encoded data removed]",
      "text/plain": [
       "<Figure size 640x480 with 1 Axes>"
      ]
     },
     "metadata": {},
     "output_type": "display_data"
    }
   ],
   "source": [
    "subset.head(3).plot(kind= 'bar', rot = 0)\n",
    "plt.grid()\n",
    "plt.show()\n",
    "plt.close()"
   ]
  },
  {
   "cell_type": "markdown",
   "id": "09cfb01e",
   "metadata": {},
   "source": [
    "이상치 처리"
   ]
  },
  {
   "cell_type": "code",
   "execution_count": 173,
   "id": "896a7e47",
   "metadata": {},
   "outputs": [
    {
     "data": {
      "text/plain": [
       "<Axes: >"
      ]
     },
     "execution_count": 173,
     "metadata": {},
     "output_type": "execute_result"
    },
    {
     "data": {
      "image/png": "[encoded data removed]",
      "text/plain": [
       "<Figure size 640x480 with 1 Axes>"
      ]
     },
     "metadata": {},
     "output_type": "display_data"
    }
   ],
   "source": [
    "subset = mpgFrm.loc[: , ['cty','hwy']]\n",
    "# subset\n",
    "subset.boxplot()"
   ]
  },
  {
   "cell_type": "code",
   "execution_count": 180,
   "id": "e356b875",
   "metadata": {},
   "outputs": [
    {
     "name": "stdout",
     "output_type": "stream",
     "text": [
      "IQR\n"
     ]
    },
    {
     "data": {
      "text/plain": [
       "cty    14.0\n",
       "hwy    18.0\n",
       "Name: 0.25, dtype: float64"
      ]
     },
     "execution_count": 180,
     "metadata": {},
     "output_type": "execute_result"
    }
   ],
   "source": [
    "print('IQR')\n",
    "# 3,4 분위에 대한 정보 + 1,4 분위에 대한 정보 필요\n",
    "# q = 분위 수\n",
    "# subset['hwy'].quantile(q =0.25)\n",
    "Q1 = subset.quantile(q=0.25)\n",
    "Q1"
   ]
  },
  {
   "cell_type": "code",
   "execution_count": 181,
   "id": "7ce93f58",
   "metadata": {},
   "outputs": [
    {
     "data": {
      "text/plain": [
       "cty    19.0\n",
       "hwy    27.0\n",
       "Name: 0.75, dtype: float64"
      ]
     },
     "execution_count": 181,
     "metadata": {},
     "output_type": "execute_result"
    }
   ],
   "source": [
    "Q3 = subset.quantile(q = 0.75)\n",
    "Q3"
   ]
  },
  {
   "cell_type": "code",
   "execution_count": 182,
   "id": "fedef7b1",
   "metadata": {},
   "outputs": [
    {
     "data": {
      "text/plain": [
       "cty    5.0\n",
       "hwy    9.0\n",
       "dtype: float64"
      ]
     },
     "execution_count": 182,
     "metadata": {},
     "output_type": "execute_result"
    }
   ],
   "source": [
    "IQR = Q3 - Q1\n",
    "IQR"
   ]
  },
  {
   "cell_type": "code",
   "execution_count": 183,
   "id": "4042852b",
   "metadata": {},
   "outputs": [
    {
     "name": "stdout",
     "output_type": "stream",
     "text": [
      "lower fence - 최저 한계치\n"
     ]
    },
    {
     "data": {
      "text/plain": [
       "cty    6.5\n",
       "hwy    4.5\n",
       "dtype: float64"
      ]
     },
     "execution_count": 183,
     "metadata": {},
     "output_type": "execute_result"
    }
   ],
   "source": [
    "print('lower fence - 최저 한계치')\n",
    "lower = Q1 - 1.5 * IQR\n",
    "lower"
   ]
  },
  {
   "cell_type": "code",
   "execution_count": 184,
   "id": "880a725e",
   "metadata": {},
   "outputs": [
    {
     "name": "stdout",
     "output_type": "stream",
     "text": [
      "upper fence - 최고 한계치\n"
     ]
    },
    {
     "data": {
      "text/plain": [
       "cty    26.5\n",
       "hwy    40.5\n",
       "dtype: float64"
      ]
     },
     "execution_count": 184,
     "metadata": {},
     "output_type": "execute_result"
    }
   ],
   "source": [
    "print('upper fence - 최고 한계치')\n",
    "upper = Q3 + 1.5 * IQR\n",
    "upper"
   ]
  },
  {
   "cell_type": "code",
   "execution_count": 185,
   "id": "f13bcb05",
   "metadata": {},
   "outputs": [
    {
     "name": "stdout",
     "output_type": "stream",
     "text": [
      "lower fence 경계값을 얻어 본다면\n"
     ]
    },
    {
     "data": {
      "text/plain": [
       "cty     9.0\n",
       "hwy    12.0\n",
       "dtype: float64"
      ]
     },
     "execution_count": 185,
     "metadata": {},
     "output_type": "execute_result"
    }
   ],
   "source": [
    "print('lower fence 경계값을 얻어 본다면')\n",
    "lower_outlier = subset[subset > lower].min()\n",
    "lower_outlier"
   ]
  },
  {
   "cell_type": "code",
   "execution_count": 187,
   "id": "e3f4bdf7",
   "metadata": {},
   "outputs": [
    {
     "name": "stdout",
     "output_type": "stream",
     "text": [
      "upper fence 경계값을 얻어 본다면\n"
     ]
    },
    {
     "data": {
      "text/plain": [
       "cty    26.0\n",
       "hwy    37.0\n",
       "dtype: float64"
      ]
     },
     "execution_count": 187,
     "metadata": {},
     "output_type": "execute_result"
    }
   ],
   "source": [
    "print('upper fence 경계값을 얻어 본다면')\n",
    "upper_outlier = subset[subset < upper].max()\n",
    "upper_outlier"
   ]
  },
  {
   "cell_type": "code",
   "execution_count": 190,
   "id": "02b493a7",
   "metadata": {},
   "outputs": [
    {
     "name": "stdout",
     "output_type": "stream",
     "text": [
      "cty outlier 확인 - \n"
     ]
    },
    {
     "data": {
      "text/html": [
       "<div>\n",
       "<style scoped>\n",
       "    .dataframe tbody tr th:only-of-type {\n",
       "        vertical-align: middle;\n",
       "    }\n",
       "\n",
       "    .dataframe tbody tr th {\n",
       "        vertical-align: top;\n",
       "    }\n",
       "\n",
       "    .dataframe thead th {\n",
       "        text-align: right;\n",
       "    }\n",
       "</style>\n",
       "<table border=\"1\" class=\"dataframe\">\n",
       "  <thead>\n",
       "    <tr style=\"text-align: right;\">\n",
       "      <th></th>\n",
       "      <th>Unnamed: 0</th>\n",
       "      <th>manufacturer</th>\n",
       "      <th>model</th>\n",
       "      <th>displ</th>\n",
       "      <th>year</th>\n",
       "      <th>cyl</th>\n",
       "      <th>trans</th>\n",
       "      <th>drv</th>\n",
       "      <th>cty</th>\n",
       "      <th>hwy</th>\n",
       "      <th>fl</th>\n",
       "      <th>class</th>\n",
       "      <th>price_fl</th>\n",
       "    </tr>\n",
       "  </thead>\n",
       "  <tbody>\n",
       "    <tr>\n",
       "      <th>119</th>\n",
       "      <td>100.0</td>\n",
       "      <td>honda</td>\n",
       "      <td>civic</td>\n",
       "      <td>1.6</td>\n",
       "      <td>1999.0</td>\n",
       "      <td>4.0</td>\n",
       "      <td>manual(m5)</td>\n",
       "      <td>f</td>\n",
       "      <td>28.0</td>\n",
       "      <td>33.0</td>\n",
       "      <td>r</td>\n",
       "      <td>subcompact</td>\n",
       "      <td>2.22</td>\n",
       "    </tr>\n",
       "    <tr>\n",
       "      <th>196</th>\n",
       "      <td>197.0</td>\n",
       "      <td>toyota</td>\n",
       "      <td>corolla</td>\n",
       "      <td>1.8</td>\n",
       "      <td>2008.0</td>\n",
       "      <td>4.0</td>\n",
       "      <td>manual(m5)</td>\n",
       "      <td>f</td>\n",
       "      <td>28.0</td>\n",
       "      <td>37.0</td>\n",
       "      <td>r</td>\n",
       "      <td>compact</td>\n",
       "      <td>2.22</td>\n",
       "    </tr>\n",
       "    <tr>\n",
       "      <th>230</th>\n",
       "      <td>213.0</td>\n",
       "      <td>volkswagen</td>\n",
       "      <td>jetta</td>\n",
       "      <td>1.9</td>\n",
       "      <td>1999.0</td>\n",
       "      <td>4.0</td>\n",
       "      <td>manual(m5)</td>\n",
       "      <td>f</td>\n",
       "      <td>33.0</td>\n",
       "      <td>44.0</td>\n",
       "      <td>d</td>\n",
       "      <td>compact</td>\n",
       "      <td>2.38</td>\n",
       "    </tr>\n",
       "    <tr>\n",
       "      <th>231</th>\n",
       "      <td>222.0</td>\n",
       "      <td>volkswagen</td>\n",
       "      <td>new beetle</td>\n",
       "      <td>1.9</td>\n",
       "      <td>1999.0</td>\n",
       "      <td>4.0</td>\n",
       "      <td>manual(m5)</td>\n",
       "      <td>f</td>\n",
       "      <td>35.0</td>\n",
       "      <td>44.0</td>\n",
       "      <td>d</td>\n",
       "      <td>subcompact</td>\n",
       "      <td>2.38</td>\n",
       "    </tr>\n",
       "    <tr>\n",
       "      <th>232</th>\n",
       "      <td>223.0</td>\n",
       "      <td>volkswagen</td>\n",
       "      <td>new beetle</td>\n",
       "      <td>1.9</td>\n",
       "      <td>1999.0</td>\n",
       "      <td>4.0</td>\n",
       "      <td>auto(l4)</td>\n",
       "      <td>f</td>\n",
       "      <td>29.0</td>\n",
       "      <td>41.0</td>\n",
       "      <td>d</td>\n",
       "      <td>subcompact</td>\n",
       "      <td>2.38</td>\n",
       "    </tr>\n",
       "  </tbody>\n",
       "</table>\n",
       "</div>"
      ],
      "text/plain": [
       "     Unnamed: 0 manufacturer       model  displ    year  cyl       trans drv  \\\n",
       "119       100.0        honda       civic    1.6  1999.0  4.0  manual(m5)   f   \n",
       "196       197.0       toyota     corolla    1.8  2008.0  4.0  manual(m5)   f   \n",
       "230       213.0   volkswagen       jetta    1.9  1999.0  4.0  manual(m5)   f   \n",
       "231       222.0   volkswagen  new beetle    1.9  1999.0  4.0  manual(m5)   f   \n",
       "232       223.0   volkswagen  new beetle    1.9  1999.0  4.0    auto(l4)   f   \n",
       "\n",
       "      cty   hwy fl       class price_fl  \n",
       "119  28.0  33.0  r  subcompact     2.22  \n",
       "196  28.0  37.0  r     compact     2.22  \n",
       "230  33.0  44.0  d     compact    2.38   \n",
       "231  35.0  44.0  d  subcompact    2.38   \n",
       "232  29.0  41.0  d  subcompact    2.38   "
      ]
     },
     "execution_count": 190,
     "metadata": {},
     "output_type": "execute_result"
    }
   ],
   "source": [
    "print('cty outlier 확인 - ')\n",
    "mpgFrm[mpgFrm['cty'] > upper_outlier['cty']]"
   ]
  },
  {
   "cell_type": "code",
   "execution_count": 191,
   "id": "d52e1ef8",
   "metadata": {},
   "outputs": [
    {
     "name": "stdout",
     "output_type": "stream",
     "text": [
      "hwy outlier 확인 - \n"
     ]
    },
    {
     "data": {
      "text/html": [
       "<div>\n",
       "<style scoped>\n",
       "    .dataframe tbody tr th:only-of-type {\n",
       "        vertical-align: middle;\n",
       "    }\n",
       "\n",
       "    .dataframe tbody tr th {\n",
       "        vertical-align: top;\n",
       "    }\n",
       "\n",
       "    .dataframe thead th {\n",
       "        text-align: right;\n",
       "    }\n",
       "</style>\n",
       "<table border=\"1\" class=\"dataframe\">\n",
       "  <thead>\n",
       "    <tr style=\"text-align: right;\">\n",
       "      <th></th>\n",
       "      <th>Unnamed: 0</th>\n",
       "      <th>manufacturer</th>\n",
       "      <th>model</th>\n",
       "      <th>displ</th>\n",
       "      <th>year</th>\n",
       "      <th>cyl</th>\n",
       "      <th>trans</th>\n",
       "      <th>drv</th>\n",
       "      <th>cty</th>\n",
       "      <th>hwy</th>\n",
       "      <th>fl</th>\n",
       "      <th>class</th>\n",
       "      <th>price_fl</th>\n",
       "    </tr>\n",
       "  </thead>\n",
       "  <tbody>\n",
       "    <tr>\n",
       "      <th>230</th>\n",
       "      <td>213.0</td>\n",
       "      <td>volkswagen</td>\n",
       "      <td>jetta</td>\n",
       "      <td>1.9</td>\n",
       "      <td>1999.0</td>\n",
       "      <td>4.0</td>\n",
       "      <td>manual(m5)</td>\n",
       "      <td>f</td>\n",
       "      <td>33.0</td>\n",
       "      <td>44.0</td>\n",
       "      <td>d</td>\n",
       "      <td>compact</td>\n",
       "      <td>2.38</td>\n",
       "    </tr>\n",
       "    <tr>\n",
       "      <th>231</th>\n",
       "      <td>222.0</td>\n",
       "      <td>volkswagen</td>\n",
       "      <td>new beetle</td>\n",
       "      <td>1.9</td>\n",
       "      <td>1999.0</td>\n",
       "      <td>4.0</td>\n",
       "      <td>manual(m5)</td>\n",
       "      <td>f</td>\n",
       "      <td>35.0</td>\n",
       "      <td>44.0</td>\n",
       "      <td>d</td>\n",
       "      <td>subcompact</td>\n",
       "      <td>2.38</td>\n",
       "    </tr>\n",
       "    <tr>\n",
       "      <th>232</th>\n",
       "      <td>223.0</td>\n",
       "      <td>volkswagen</td>\n",
       "      <td>new beetle</td>\n",
       "      <td>1.9</td>\n",
       "      <td>1999.0</td>\n",
       "      <td>4.0</td>\n",
       "      <td>auto(l4)</td>\n",
       "      <td>f</td>\n",
       "      <td>29.0</td>\n",
       "      <td>41.0</td>\n",
       "      <td>d</td>\n",
       "      <td>subcompact</td>\n",
       "      <td>2.38</td>\n",
       "    </tr>\n",
       "  </tbody>\n",
       "</table>\n",
       "</div>"
      ],
      "text/plain": [
       "     Unnamed: 0 manufacturer       model  displ    year  cyl       trans drv  \\\n",
       "230       213.0   volkswagen       jetta    1.9  1999.0  4.0  manual(m5)   f   \n",
       "231       222.0   volkswagen  new beetle    1.9  1999.0  4.0  manual(m5)   f   \n",
       "232       223.0   volkswagen  new beetle    1.9  1999.0  4.0    auto(l4)   f   \n",
       "\n",
       "      cty   hwy fl       class price_fl  \n",
       "230  33.0  44.0  d     compact    2.38   \n",
       "231  35.0  44.0  d  subcompact    2.38   \n",
       "232  29.0  41.0  d  subcompact    2.38   "
      ]
     },
     "execution_count": 191,
     "metadata": {},
     "output_type": "execute_result"
    }
   ],
   "source": [
    "print('hwy outlier 확인 - ')\n",
    "mpgFrm[mpgFrm['hwy'] > upper_outlier['hwy']]"
   ]
  },
  {
   "cell_type": "code",
   "execution_count": 245,
   "id": "a6960555",
   "metadata": {},
   "outputs": [
    {
     "data": {
      "text/plain": [
       "cty    7\n",
       "hwy    7\n",
       "dtype: int64"
      ]
     },
     "execution_count": 245,
     "metadata": {},
     "output_type": "execute_result"
    }
   ],
   "source": [
    "cleanFrm = mpgFrm.copy()\n",
    "cleanFrm[['cty' , 'hwy']].isna().sum()"
   ]
  },
  {
   "cell_type": "code",
   "execution_count": 198,
   "id": "8a1b4260",
   "metadata": {},
   "outputs": [
    {
     "name": "stdout",
     "output_type": "stream",
     "text": [
      "cty outlier 확인 \n"
     ]
    }
   ],
   "source": [
    "print('cty outlier 확인 ')\n",
    "cty_outlier = mpgFrm[mpgFrm['cty']> upper_outlier['cty']]\n",
    "for idx in cty_outlier.index :\n",
    "    cleanFrm.loc[idx, 'cty'] = np.NaN"
   ]
  },
  {
   "cell_type": "code",
   "execution_count": 246,
   "id": "fba4287e",
   "metadata": {},
   "outputs": [
    {
     "name": "stdout",
     "output_type": "stream",
     "text": [
      "hwy outlier 확인 \n"
     ]
    }
   ],
   "source": [
    "print('hwy outlier 확인 ')\n",
    "hwy_outlier = mpgFrm[mpgFrm['hwy']> upper_outlier['hwy']]\n",
    "for idx in hwy_outlier.index :\n",
    "    cleanFrm.loc[idx, 'hwy'] = np.NaN\n"
   ]
  },
  {
   "cell_type": "code",
   "execution_count": 247,
   "id": "662fbc37",
   "metadata": {},
   "outputs": [
    {
     "data": {
      "text/plain": [
       "cty     7\n",
       "hwy    10\n",
       "dtype: int64"
      ]
     },
     "execution_count": 247,
     "metadata": {},
     "output_type": "execute_result"
    }
   ],
   "source": [
    "cleanFrm[['cty' , 'hwy']].isna().sum()\n",
    "# cleanFrm.isnull().sum()"
   ]
  },
  {
   "cell_type": "code",
   "execution_count": 248,
   "id": "930ac7da",
   "metadata": {},
   "outputs": [
    {
     "name": "stdout",
     "output_type": "stream",
     "text": [
      "Q6) 결측값을 평균으로 대체, cty, hwy\n",
      "이상치 처리 후 구동방식별 도시, 고속도로 연비 평균을 시각화 - \n"
     ]
    }
   ],
   "source": [
    "print('Q6) 결측값을 평균으로 대체, cty, hwy')\n",
    "print('이상치 처리 후 구동방식별 도시, 고속도로 연비 평균을 시각화 - ')\n",
    "\n",
    "# cleanFrm[cleanFrm['cty'] == np.NaN]['cty'] = cleanFrm.mean()\n",
    "# cleanFrm[cleanFrm['hwy'] == np.NaN]['cty'] = cleanFrm.mean()\n",
    "# cleanFrm[['cty','hwy']].isna().sum()\n",
    "# 특정 컬럼에 대해서만 결측값 처리하는 코드\n",
    "cleanFrm.loc[cleanFrm['cty'] != cleanFrm['cty'] ,'cty' ]= cleanFrm['cty'].mean()\n",
    "cleanFrm.loc[cleanFrm['hwy'] != cleanFrm['hwy'] ,'hwy' ]= cleanFrm['hwy'].mean()"
   ]
  },
  {
   "cell_type": "code",
   "execution_count": 251,
   "id": "b4c819a6",
   "metadata": {},
   "outputs": [
    {
     "data": {
      "text/plain": [
       "cty    0\n",
       "hwy    0\n",
       "dtype: int64"
      ]
     },
     "execution_count": 251,
     "metadata": {},
     "output_type": "execute_result"
    }
   ],
   "source": [
    "# cleanFrm.loc[119 , : ]\n",
    "cleanFrm[ ['cty','hwy']].isnull().sum()"
   ]
  },
  {
   "cell_type": "code",
   "execution_count": 252,
   "id": "10949f70",
   "metadata": {},
   "outputs": [
    {
     "data": {
      "text/plain": [
       "<Axes: >"
      ]
     },
     "execution_count": 252,
     "metadata": {},
     "output_type": "execute_result"
    },
    {
     "data": {
      "image/png": "[encoded data removed]",
      "text/plain": [
       "<Figure size 640x480 with 1 Axes>"
      ]
     },
     "metadata": {},
     "output_type": "display_data"
    }
   ],
   "source": [
    "subset = cleanFrm.loc[ :  , ['cty' , 'hwy']]\n",
    "# subset \n",
    "subset.boxplot()"
   ]
  },
  {
   "cell_type": "code",
   "execution_count": 253,
   "id": "db8f24de",
   "metadata": {},
   "outputs": [
    {
     "data": {
      "text/plain": [
       "<Figure size 640x480 with 0 Axes>"
      ]
     },
     "metadata": {},
     "output_type": "display_data"
    },
    {
     "data": {
      "image/png": "[encoded data removed]",
      "text/plain": [
       "<Figure size 640x480 with 1 Axes>"
      ]
     },
     "metadata": {},
     "output_type": "display_data"
    }
   ],
   "source": [
    "# cleanFrm['drv'].unique()\n",
    "grpDrvFrm = cleanFrm[['drv' , 'hwy' , 'cty']].groupby('drv').mean()\n",
    "grpDrvFrm\n",
    "plt.figure()\n",
    "\n",
    "grpDrvFrm.plot(kind = 'bar' , \n",
    "                rot  = 0)\n",
    "plt.grid()\n",
    "plt.show()\n",
    "plt.close()"
   ]
  },
  {
   "cell_type": "code",
   "execution_count": null,
   "id": "a50c6f35",
   "metadata": {},
   "outputs": [],
   "source": []
  }
 ],
 "metadata": {
  "kernelspec": {
   "display_name": "base",
   "language": "python",
   "name": "python3"
  },
  "language_info": {
   "codemirror_mode": {
    "name": "ipython",
    "version": 3
   },
   "file_extension": ".py",
   "mimetype": "text/x-python",
   "name": "python",
   "nbconvert_exporter": "python",
   "pygments_lexer": "ipython3",
   "version": "3.11.4"
  }
 },
 "nbformat": 4,
 "nbformat_minor": 5
}
