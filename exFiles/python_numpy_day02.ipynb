{
 "cells": [
  {
   "cell_type": "code",
   "execution_count": 56,
   "id": "02d1022e",
   "metadata": {},
   "outputs": [],
   "source": [
    "import numpy as np\n",
    "import pandas as pd   # 항상 np와 함께 import 해줌"
   ]
  },
  {
   "cell_type": "code",
   "execution_count": null,
   "id": "faa20c9f",
   "metadata": {},
   "outputs": [],
   "source": [
    "# 배열에 대한 정보를 쉽게 확인하기 위하여 함수를 만들어두면 편리하다\n",
    "def aryInfo(ary) :\n",
    "    print('type - ' , type(ary))\n",
    "    print('shape - ', ary.shape)   \n",
    "    print('ndim - ', ary.ndim)\n",
    "    print('dtype - ', ary.dtype)\n",
    "    print()\n",
    "    print()\n",
    "    print('data - ')\n",
    "    print(ary)     # list 와의 차이점 : ',' 없음. 배열로 보면 됨!"
   ]
  },
  {
   "cell_type": "markdown",
   "id": "20596667",
   "metadata": {},
   "source": [
    "- 전치행렬(transpose matirx)\n",
    "- T"
   ]
  },
  {
   "cell_type": "code",
   "execution_count": 301,
   "id": "6455e540",
   "metadata": {},
   "outputs": [
    {
     "name": "stdout",
     "output_type": "stream",
     "text": [
      "type -  <class 'numpy.ndarray'>\n",
      "shape -  (2, 3)\n",
      "ndim -  2\n",
      "dtype -  int32\n",
      "\n",
      "\n",
      "data - \n",
      "[[1 2 3]\n",
      " [4 5 6]]\n",
      "\n",
      "type -  <class 'numpy.ndarray'>\n",
      "shape -  (3, 2)\n",
      "ndim -  2\n",
      "dtype -  int32\n",
      "\n",
      "\n",
      "data - \n",
      "[[1 4]\n",
      " [2 5]\n",
      " [3 6]]\n"
     ]
    }
   ],
   "source": [
    "ary = np.arange(1,7).reshape(2,3)\n",
    "aryInfo(ary)\n",
    "print()\n",
    "transposeAry = ary.T \n",
    "aryInfo(transposeAry) "
   ]
  },
  {
   "cell_type": "code",
   "execution_count": 302,
   "id": "b8c34e86",
   "metadata": {},
   "outputs": [
    {
     "name": "stdout",
     "output_type": "stream",
     "text": [
      "1차원 배열에 대한 전치행렬이 필요할까요? \n",
      "정답 : 필요하다 \n",
      "이유는 : 함수의 인자로 배열 넘길때 타입이 맞아야 하므로\n",
      "type -  <class 'numpy.ndarray'>\n",
      "shape -  (6,)\n",
      "ndim -  1\n",
      "dtype -  int32\n",
      "\n",
      "\n",
      "data - \n",
      "[1 2 3 4 5 6]\n",
      "type -  <class 'numpy.ndarray'>\n",
      "shape -  (6, 1)\n",
      "ndim -  2\n",
      "dtype -  int32\n",
      "\n",
      "\n",
      "data - \n",
      "[[1]\n",
      " [2]\n",
      " [3]\n",
      " [4]\n",
      " [5]\n",
      " [6]]\n"
     ]
    }
   ],
   "source": [
    "print('1차원 배열에 대한 전치행렬이 필요할까요? ') \n",
    "print('정답 : 필요하다 ')\n",
    "print('이유는 : 함수의 인자로 배열 넘길때 타입이 맞아야 하므로') \n",
    "ary = np.arange(1 , 7)\n",
    "aryInfo(ary)\n",
    "\n",
    "transposeAry = ary.reshape(1,6).T\n",
    "aryInfo(transposeAry)"
   ]
  },
  {
   "cell_type": "markdown",
   "id": "30897dc9",
   "metadata": {},
   "source": [
    "flatten : 다차원 배열을 1차원으로 바꿀때"
   ]
  },
  {
   "cell_type": "code",
   "execution_count": 303,
   "id": "1d947971",
   "metadata": {},
   "outputs": [
    {
     "name": "stdout",
     "output_type": "stream",
     "text": [
      "type -  <class 'numpy.ndarray'>\n",
      "shape -  (6,)\n",
      "ndim -  1\n",
      "dtype -  int32\n",
      "\n",
      "\n",
      "data - \n",
      "[1 2 3 4 5 6]\n"
     ]
    }
   ],
   "source": [
    "aryInfo(transposeAry.flatten() )"
   ]
  },
  {
   "cell_type": "markdown",
   "id": "b6140fbe",
   "metadata": {},
   "source": [
    "- 주의사항) 차원에 대한 주의가 필요함"
   ]
  },
  {
   "cell_type": "code",
   "execution_count": 304,
   "id": "ab03fa9c",
   "metadata": {},
   "outputs": [
    {
     "name": "stdout",
     "output_type": "stream",
     "text": [
      "type -  <class 'numpy.ndarray'>\n",
      "shape -  (10,)\n",
      "ndim -  1\n",
      "dtype -  int32\n",
      "\n",
      "\n",
      "data - \n",
      "[0 1 2 3 4 5 6 7 8 9]\n",
      "\n",
      "[[0 1 2 3 4 5 6 7 8 9]]\n",
      "[[0]\n",
      " [1]\n",
      " [2]\n",
      " [3]\n",
      " [4]\n",
      " [5]\n",
      " [6]\n",
      " [7]\n",
      " [8]\n",
      " [9]]\n",
      "\n",
      "차원의 변경이 아니라 차원증가 - np.newaxis\n",
      "\n",
      "[[0 1 2 3 4 5 6 7 8 9]]\n",
      "[[0]\n",
      " [1]\n",
      " [2]\n",
      " [3]\n",
      " [4]\n",
      " [5]\n",
      " [6]\n",
      " [7]\n",
      " [8]\n",
      " [9]]\n"
     ]
    }
   ],
   "source": [
    "ary = np.arange(10)\n",
    "aryInfo(ary)\n",
    "\n",
    "print()\n",
    "\n",
    "print( ary.reshape(1, 10))\n",
    "print( ary.reshape(10, 1))\n",
    "\n",
    "print()\n",
    "print('차원의 변경이 아니라 차원증가 - np.newaxis')\n",
    "print()\n",
    "print( ary[ np.newaxis , : ] )\n",
    "print( ary[ : ,  np.newaxis ] )"
   ]
  },
  {
   "cell_type": "markdown",
   "id": "644d6fd1",
   "metadata": {},
   "source": [
    "- 배열 연결"
   ]
  },
  {
   "cell_type": "code",
   "execution_count": 305,
   "id": "9f2fd5ae",
   "metadata": {},
   "outputs": [
    {
     "name": "stdout",
     "output_type": "stream",
     "text": [
      "hstack() - 행의갯수가 동일한 두개의 배열을 연결 - \n"
     ]
    }
   ],
   "source": [
    "print('hstack() - 행의갯수가 동일한 두개의 배열을 연결 - ') \n",
    "ary01 = np.ones((3,4))\n",
    "ary02 = np.zeros((3,4))"
   ]
  },
  {
   "cell_type": "code",
   "execution_count": 306,
   "id": "ee9dd565",
   "metadata": {},
   "outputs": [
    {
     "name": "stdout",
     "output_type": "stream",
     "text": [
      "type -  <class 'numpy.ndarray'>\n",
      "shape -  (3, 4)\n",
      "ndim -  2\n",
      "dtype -  float64\n",
      "\n",
      "\n",
      "data - \n",
      "[[1. 1. 1. 1.]\n",
      " [1. 1. 1. 1.]\n",
      " [1. 1. 1. 1.]]\n",
      "\n",
      "type -  <class 'numpy.ndarray'>\n",
      "shape -  (3, 4)\n",
      "ndim -  2\n",
      "dtype -  float64\n",
      "\n",
      "\n",
      "data - \n",
      "[[0. 0. 0. 0.]\n",
      " [0. 0. 0. 0.]\n",
      " [0. 0. 0. 0.]]\n",
      "\n",
      "hstack - \n",
      "[[1. 1. 1. 1. 0. 0. 0. 0.]\n",
      " [1. 1. 1. 1. 0. 0. 0. 0.]\n",
      " [1. 1. 1. 1. 0. 0. 0. 0.]]\n"
     ]
    }
   ],
   "source": [
    "aryInfo(ary01)\n",
    "print()\n",
    "aryInfo(ary02)\n",
    "print()\n",
    "print('hstack - ')\n",
    "print( np.hstack([ary01, ary02]))"
   ]
  },
  {
   "cell_type": "code",
   "execution_count": 307,
   "id": "91d5fb9e",
   "metadata": {},
   "outputs": [
    {
     "name": "stdout",
     "output_type": "stream",
     "text": [
      "vstack() - 열의갯수가 동일한 두개의 배열을 연결 - \n"
     ]
    }
   ],
   "source": [
    "print('vstack() - 열의갯수가 동일한 두개의 배열을 연결 - ') \n",
    "ary01 = np.ones((3,4))\n",
    "ary02 = np.zeros((3,4))"
   ]
  },
  {
   "cell_type": "code",
   "execution_count": 308,
   "id": "ba2e3577",
   "metadata": {},
   "outputs": [
    {
     "name": "stdout",
     "output_type": "stream",
     "text": [
      "vstack - \n",
      "[[1. 1. 1. 1.]\n",
      " [1. 1. 1. 1.]\n",
      " [1. 1. 1. 1.]\n",
      " [0. 0. 0. 0.]\n",
      " [0. 0. 0. 0.]\n",
      " [0. 0. 0. 0.]]\n"
     ]
    }
   ],
   "source": [
    "print('vstack - ')\n",
    "print( np.vstack([ary01, ary02]))"
   ]
  },
  {
   "cell_type": "code",
   "execution_count": 309,
   "id": "5d8cb1d7",
   "metadata": {},
   "outputs": [
    {
     "name": "stdout",
     "output_type": "stream",
     "text": [
      "[[1. 1. 1. 1.]\n",
      " [1. 1. 1. 1.]\n",
      " [1. 1. 1. 1.]]\n",
      "\n",
      "[[0. 0. 0. 0.]\n",
      " [0. 0. 0. 0.]\n",
      " [0. 0. 0. 0.]]\n"
     ]
    }
   ],
   "source": [
    "print(ary01)\n",
    "print()\n",
    "print(ary02)"
   ]
  },
  {
   "cell_type": "code",
   "execution_count": 310,
   "id": "a29b1a39",
   "metadata": {},
   "outputs": [
    {
     "name": "stdout",
     "output_type": "stream",
     "text": [
      "stack - 사용자가 지정한 축(x,y)\n",
      "축 axis = 0 , axis = 1\n",
      "shape axis=0 - 2*3*4 , axis=1 3*2*4 \n",
      "type -  <class 'numpy.ndarray'>\n",
      "shape -  (3, 2, 4)\n",
      "ndim -  3\n",
      "dtype -  float64\n",
      "\n",
      "\n",
      "data - \n",
      "[[[1. 1. 1. 1.]\n",
      "  [0. 0. 0. 0.]]\n",
      "\n",
      " [[1. 1. 1. 1.]\n",
      "  [0. 0. 0. 0.]]\n",
      "\n",
      " [[1. 1. 1. 1.]\n",
      "  [0. 0. 0. 0.]]]\n"
     ]
    }
   ],
   "source": [
    "print('stack - 사용자가 지정한 축(x,y)')\n",
    "print('축 axis = 0 , axis = 1')\n",
    "print('shape axis=0 - 2*3*4 , axis=1 3*2*4 ')\n",
    "ary01 = np.ones((3,4))\n",
    "ary02 = np.zeros((3,4))\n",
    "\n",
    "aryInfo( np.stack([ary01, ary02] , axis =1))"
   ]
  },
  {
   "cell_type": "code",
   "execution_count": 62,
   "id": "d69abf23",
   "metadata": {},
   "outputs": [
    {
     "name": "stdout",
     "output_type": "stream",
     "text": [
      "tile() - 동일한 배열을 반복하여 연결\n"
     ]
    },
    {
     "data": {
      "text/plain": [
       "array([[1, 2, 3, 1, 2, 3, 1, 2, 3],\n",
       "       [4, 5, 6, 4, 5, 6, 4, 5, 6],\n",
       "       [1, 2, 3, 1, 2, 3, 1, 2, 3],\n",
       "       [4, 5, 6, 4, 5, 6, 4, 5, 6],\n",
       "       [1, 2, 3, 1, 2, 3, 1, 2, 3],\n",
       "       [4, 5, 6, 4, 5, 6, 4, 5, 6]])"
      ]
     },
     "execution_count": 62,
     "metadata": {},
     "output_type": "execute_result"
    }
   ],
   "source": [
    "print('tile() - 동일한 배열을 반복하여 연결')\n",
    "ary = np.arange(1,7).reshape(-1,3)\n",
    "# np.tile(ary, 3)\n",
    "np.tile(ary, (3,3))"
   ]
  },
  {
   "cell_type": "code",
   "execution_count": 91,
   "id": "06d6e029",
   "metadata": {},
   "outputs": [],
   "source": [
    "# 위 결과가 나올 수 있도록 함수를 이용하여 작성해 보세요~~~\n",
    "# 붙이기 : hstack(), arange(), vstack() 붙이기,  tile() 반복\n",
    "#\n",
    "# array([[   0.,    0.,    0.,    1.,    1.],\n",
    "#        [   0.,    0.,    0.,    1.,    1.],\n",
    "#        [   0.,    0.,    0.,    1.,    1.],\n",
    "#        [  10.,   20.,   30.,   40.,   50.],\n",
    "#        [  60.,   70.,   80.,   90.,  100.],\n",
    "#        [ 110.,  120.,  130.,  140.,  150.],\n",
    "#        [   0.,    0.,    0.,    1.,    1.],\n",
    "#        [   0.,    0.,    0.,    1.,    1.],\n",
    "#        [   0.,    0.,    0.,    1.,    1.],\n",
    "#        [  10.,   20.,   30.,   40.,   50.],\n",
    "#        [  60.,   70.,   80.,   90.,  100.],\n",
    "#        [ 110.,  120.,  130.,  140.,  150.]])"
   ]
  },
  {
   "cell_type": "code",
   "execution_count": 117,
   "id": "ce96f1bc",
   "metadata": {},
   "outputs": [],
   "source": [
    "ary01 = np.zeros((3,3))\n",
    "ary02 = np.ones((3,2))\n",
    "ary12 = np.hstack([ary01, ary02])\n",
    "ary03 = np.arange(10,160,10).reshape(3,5)\n",
    "ary123 = np.vstack([ary12, ary03])\n",
    "answerAry = np.tile(ary123, (2,1))"
   ]
  },
  {
   "cell_type": "code",
   "execution_count": 119,
   "id": "5894abc7",
   "metadata": {},
   "outputs": [
    {
     "name": "stdout",
     "output_type": "stream",
     "text": [
      "[[  0.   0.   0.   1.   1.]\n",
      " [  0.   0.   0.   1.   1.]\n",
      " [  0.   0.   0.   1.   1.]\n",
      " [ 10.  20.  30.  40.  50.]\n",
      " [ 60.  70.  80.  90. 100.]\n",
      " [110. 120. 130. 140. 150.]\n",
      " [  0.   0.   0.   1.   1.]\n",
      " [  0.   0.   0.   1.   1.]\n",
      " [  0.   0.   0.   1.   1.]\n",
      " [ 10.  20.  30.  40.  50.]\n",
      " [ 60.  70.  80.  90. 100.]\n",
      " [110. 120. 130. 140. 150.]]\n"
     ]
    }
   ],
   "source": [
    "# print(ary123)\n",
    "print(answerAry)   # 숫자 뒤의 '.''은 실수형이라는 의미\n"
   ]
  },
  {
   "cell_type": "markdown",
   "id": "a644ad66",
   "metadata": {},
   "source": [
    "#### 데이터 삭제\n",
    "- delete()\n",
    "- 기준 axis = 0(행) , axis = 1(열)\n",
    "- 기준을 정의하지 않는다면 1차원으로 변경되어 삭제시킴\n",
    "- 리턴이 있다(원본배열에 적용하는 것이 아니라 변경된 새로운 리턴)\n",
    "  => 따라서 변경된 값을 사용하기 위해서는 새로운 변수에 저장해주어야 함"
   ]
  },
  {
   "cell_type": "code",
   "execution_count": 312,
   "id": "fb3b8bd4",
   "metadata": {
    "scrolled": true
   },
   "outputs": [
    {
     "name": "stdout",
     "output_type": "stream",
     "text": [
      "type -  <class 'numpy.ndarray'>\n",
      "shape -  (3, 4)\n",
      "ndim -  2\n",
      "dtype -  int32\n",
      "\n",
      "\n",
      "data - \n",
      "[[0 4 2 0]\n",
      " [9 9 4 6]\n",
      " [7 8 3 8]]\n"
     ]
    }
   ],
   "source": [
    "ary = np.random.randint(0, 10, (3,4))\n",
    "aryInfo(ary)"
   ]
  },
  {
   "cell_type": "code",
   "execution_count": 313,
   "id": "bb7a7b8e",
   "metadata": {},
   "outputs": [
    {
     "data": {
      "text/plain": [
       "array([[0, 4, 2, 0],\n",
       "       [7, 8, 3, 8]])"
      ]
     },
     "execution_count": 313,
     "metadata": {},
     "output_type": "execute_result"
    }
   ],
   "source": [
    "# np.delete(ary, 0, axis = 0)\n",
    "\n",
    "NewAry = np.delete(ary, 1, axis = 0 )\n",
    "# 삭제 할 배열 / 삭제할 값 / 축의 방향(0 or 1)\n",
    "NewAry"
   ]
  },
  {
   "cell_type": "code",
   "execution_count": 314,
   "id": "cc90e9d2",
   "metadata": {},
   "outputs": [
    {
     "data": {
      "text/plain": [
       "array([0, 2, 0, 9, 9, 4, 6, 7, 8, 3, 8])"
      ]
     },
     "execution_count": 314,
     "metadata": {},
     "output_type": "execute_result"
    }
   ],
   "source": [
    "# 축의 방향 지정 하지 않을 경우 1차원으로 변경시키고, [1]의 값을 삭제시킴\n",
    "np.delete(ary,1)   #  '3' 이 지워진 것 볼 수 있다"
   ]
  },
  {
   "cell_type": "markdown",
   "id": "ffc159ed",
   "metadata": {},
   "source": [
    "#### 통계함수 (차원 축소 함수 = demension reduction)\n",
    "- 기술적통계(min, max, sum, mean, median, std, var, etc...)\n",
    "- all, any\n",
    "- 중요) argmin, argmax : 인덱스를 리턴한다\n"
   ]
  },
  {
   "cell_type": "code",
   "execution_count": 315,
   "id": "30ec5ed6",
   "metadata": {},
   "outputs": [
    {
     "name": "stdout",
     "output_type": "stream",
     "text": [
      "data -  (10,) 1 int32\n",
      "sum  -  55\n",
      "mean  -  5.5\n",
      "median  -  5.5\n",
      "max  -  10\n",
      "min  -  1\n",
      "var  -  8.25\n",
      "std  -  2.8722813232690143\n",
      "quartile -  1.0\n",
      "quartile -  3.25\n",
      "quartile -  5.5\n",
      "quartile -  7.75\n",
      "quartile -  10.0\n"
     ]
    }
   ],
   "source": [
    "ary = np.array([1,2,3,4,5,6,7,8,9,10])\n",
    "print('data - ', ary.shape , ary.ndim, ary.dtype)\n",
    "print('sum  - ', np.sum(ary))\n",
    "print('mean  - ', np.mean(ary))     # 평균\n",
    "print('median  - ', np.median(ary))   # 중위수\n",
    "print('max  - ', np.max(ary))    # 리턴 : 인덱스 ***\n",
    "print('min  - ', np.min(ary))\n",
    "print('var  - ', np.var(ary))    # 분산\n",
    "print('std  - ', np.std(ary))     # 표준편차\n",
    "print('quartile - ', np.percentile(ary, 0))\n",
    "print('quartile - ', np.percentile(ary, 25)) # 1사분위\n",
    "print('quartile - ', np.percentile(ary, 50)) # 2사분위\n",
    "print('quartile - ', np.percentile(ary, 75)) \n",
    "print('quartile - ', np.percentile(ary, 100)) "
   ]
  },
  {
   "cell_type": "code",
   "execution_count": 316,
   "id": "1531e7de",
   "metadata": {},
   "outputs": [
    {
     "name": "stdout",
     "output_type": "stream",
     "text": [
      "argmin -  1\n",
      "argmax -  10\n",
      "\n",
      "any -  True\n",
      "all -  False\n"
     ]
    }
   ],
   "source": [
    "print('argmin - ' , ary[ np.argmin(ary) ])  # 최소값의 index 값\n",
    "print('argmax - ' , ary[ np.argmax(ary) ])\n",
    "print()\n",
    "print('any - ', np.any([True, False, True]))  # 하나라도 True 값 가지면 => True\n",
    "print('all - ', np.all([True, False, True]))  # 모두 True 값 가지면 => True"
   ]
  },
  {
   "cell_type": "code",
   "execution_count": 317,
   "id": "f3f510cf",
   "metadata": {},
   "outputs": [
    {
     "name": "stdout",
     "output_type": "stream",
     "text": [
      "type -  <class 'numpy.ndarray'>\n",
      "shape -  (4, 5)\n",
      "ndim -  2\n",
      "dtype -  int32\n",
      "\n",
      "\n",
      "data - \n",
      "[[ 1  2  3  4  5]\n",
      " [ 6  7  8  9 10]\n",
      " [11 12 13 14 15]\n",
      " [16 17 18 19 20]]\n"
     ]
    }
   ],
   "source": [
    "ary = np.arange(1, 21).reshape(4,-1)\n",
    "aryInfo(ary)"
   ]
  },
  {
   "cell_type": "code",
   "execution_count": 318,
   "id": "77a9b147",
   "metadata": {},
   "outputs": [
    {
     "name": "stdout",
     "output_type": "stream",
     "text": [
      "2차원 배열에서 자원축소함수를 적용하기 위해서는 axis 설정이 중요!\n",
      "0 : 열 , 1 : 행\n",
      "sum -  210 <class 'numpy.int32'>\n",
      "sum -  [34 38 42 46 50] <class 'numpy.ndarray'>\n",
      "sum -  [15 40 65 90] <class 'numpy.ndarray'>\n"
     ]
    }
   ],
   "source": [
    "print('2차원 배열에서 자원축소함수를 적용하기 위해서는 axis 설정이 중요!')\n",
    "print('0 : 열 , 1 : 행')\n",
    "print('sum - ', np.sum(ary) , type(np.sum(ary)))\n",
    "print('sum - ', np.sum(ary, axis=0) , type(np.sum(ary, axis=0)))\n",
    "print('sum - ', np.sum(ary, axis=1) , type(np.sum(ary, axis=1)))"
   ]
  },
  {
   "cell_type": "markdown",
   "id": "cb03ffa2",
   "metadata": {},
   "source": [
    "Quiz\n"
   ]
  },
  {
   "cell_type": "code",
   "execution_count": 319,
   "id": "c02bba46",
   "metadata": {},
   "outputs": [
    {
     "name": "stdout",
     "output_type": "stream",
     "text": [
      "type -  <class 'numpy.ndarray'>\n",
      "shape -  (5, 6)\n",
      "ndim -  2\n",
      "dtype -  int32\n",
      "\n",
      "\n",
      "data - \n",
      "[[28841 56277 83643 44548 61018 17825]\n",
      " [30150 19305 41603 13474 63174 97246]\n",
      " [30259 69345 76423 18364 96371 36227]\n",
      " [69841 43011 26783  4241 89268 35514]\n",
      " [49484 82210 64117 77025  6083 61325]]\n"
     ]
    }
   ],
   "source": [
    "ary = np.random.randint( 0, 100000, (5,6))\n",
    "aryInfo(ary)"
   ]
  },
  {
   "cell_type": "code",
   "execution_count": 320,
   "id": "55f9bda5",
   "metadata": {},
   "outputs": [
    {
     "name": "stdout",
     "output_type": "stream",
     "text": [
      "전체의 최대값 -  97246\n",
      "행 합 -  [292152 264952 326989 268658 340244] (5,)\n",
      "행 합을 열로 추가 - \n",
      "[[ 28841  56277  83643  44548  61018  17825 292152]\n",
      " [ 30150  19305  41603  13474  63174  97246 264952]\n",
      " [ 30259  69345  76423  18364  96371  36227 326989]\n",
      " [ 69841  43011  26783   4241  89268  35514 268658]\n",
      " [ 49484  82210  64117  77025   6083  61325 340244]]\n",
      "[292152 264952 326989 268658 340244]\n",
      "\n",
      "각 행의 최대값 -  [83643 97246 96371 89268 82210]\n",
      "각 행의 최대값 열로 추가-  [[28841 56277 83643 44548 61018 17825 83643]\n",
      " [30150 19305 41603 13474 63174 97246 97246]\n",
      " [30259 69345 76423 18364 96371 36227 96371]\n",
      " [69841 43011 26783  4241 89268 35514 89268]\n",
      " [49484 82210 64117 77025  6083 61325 82210]]\n",
      "각 열의 평균 -  [41715.  54029.6 58513.8 31530.4 63182.8 49627.4]\n",
      "각 열의 평균 행으로 추가 -  [[28841.  56277.  83643.  44548.  61018.  17825. ]\n",
      " [30150.  19305.  41603.  13474.  63174.  97246. ]\n",
      " [30259.  69345.  76423.  18364.  96371.  36227. ]\n",
      " [69841.  43011.  26783.   4241.  89268.  35514. ]\n",
      " [49484.  82210.  64117.  77025.   6083.  61325. ]\n",
      " [41715.  54029.6 58513.8 31530.4 63182.8 49627.4]]\n",
      "\n",
      "각 열의 최소값 -  [28841 19305 26783  4241  6083 17825]\n"
     ]
    }
   ],
   "source": [
    "print('전체의 최대값 - ', np.max(ary))\n",
    "print('행 합 - ', np.sum(ary, axis=1), np.sum(ary, axis=1).shape) # (열개수=5,행개수=1)\n",
    "sumAry = np.sum(ary , axis = 1).reshape(5,-1)\n",
    "print('행 합을 열로 추가 - ')\n",
    "print(np.hstack([ary, sumAry]))\n",
    "\n",
    "# print( [ ary[0].sum() for idx in range(ary.shape[0])] ) => list 형식이므로 [,,,,]\n",
    "print( np.array([ ary[idx].sum() for idx in range(ary.shape[0])]) )  # => 배열로 바꿔주기\n",
    "\n",
    "print()\n",
    "print('각 행의 최대값 - ', np.max(ary, axis = 1))\n",
    "maxAry = np.max(ary, axis = 1).reshape(5,-1)\n",
    "print('각 행의 최대값 열로 추가- ', np.hstack( [ary, maxAry]) )\n",
    "print('각 열의 평균 - ', np.mean(ary, axis = 0))   \n",
    "meanAry = np.mean(ary, axis = 0).reshape(1,-1)\n",
    "print('각 열의 평균 행으로 추가 - ', np.vstack( [ary, meanAry]))\n",
    "print()\n",
    "print('각 열의 최소값 - ', np.min(ary , axis = 0))"
   ]
  },
  {
   "cell_type": "markdown",
   "id": "91a31328",
   "metadata": {},
   "source": [
    "sorting\n",
    "- np.sort() : 원본에 대한 변경 X(inplace = False)\n",
    "- any.sort() : 원본에 대한 변경 O(inplace = True)"
   ]
  },
  {
   "cell_type": "code",
   "execution_count": 332,
   "id": "d246bec3",
   "metadata": {},
   "outputs": [
    {
     "name": "stdout",
     "output_type": "stream",
     "text": [
      "[0 1 2 3 4 5 6 7 8 9]\n",
      "\n",
      "shuffle 결과 :  [9 0 2 1 8 6 7 4 3 5]\n",
      "np.sort - \n",
      "newAry -  [0 1 2 3 4 5 6 7 8 9]\n",
      "ary -  [9 0 2 1 8 6 7 4 3 5]\n",
      "desc(역순) - \n",
      "[9 8 7 6 5 4 3 2 1 0]\n"
     ]
    }
   ],
   "source": [
    "ary = np.arange(10)   # 10자리 배열 생성\n",
    "print(ary)\n",
    "print()\n",
    "np.random.shuffle(ary)    # random 으로 shuffle 해줌\n",
    "print('shuffle 결과 : ' , ary)  # ----------------------------\n",
    "print('np.sort - ')\n",
    "# print(np.sort(ary))   # sorting(정렬) 했지만 원본에 반영되지 않았으므로 사용하려면 새 변수에 저장 필요\n",
    "newAry = np.sort(ary)  # 변수에 넣어주기\n",
    "print('newAry - ', newAry) # sorting 된 상태로 출력됨!!\n",
    "\n",
    "print('ary - ', ary) # 원본 출력 (확인용) => 원래의 shuffle된 순서로 출력됨\n",
    "\n",
    "print('desc(역순) - ')\n",
    "newAry = np.sort(ary)[::-1]\n",
    "print(newAry)"
   ]
  },
  {
   "cell_type": "code",
   "execution_count": 322,
   "id": "ee9d8661",
   "metadata": {},
   "outputs": [
    {
     "name": "stdout",
     "output_type": "stream",
     "text": [
      "행렬에 대한 정렬 - \n",
      "[[16 11 15 15]\n",
      " [ 8 15  5  1]\n",
      " [12 16 10  5]\n",
      " [ 3 15  8  1]]\n"
     ]
    }
   ],
   "source": [
    "print('행렬에 대한 정렬 - ')\n",
    "ary = np.random.randint(1,17, (4,4))\n",
    "print(ary)"
   ]
  },
  {
   "cell_type": "code",
   "execution_count": 323,
   "id": "e3fabfbe",
   "metadata": {},
   "outputs": [
    {
     "name": "stdout",
     "output_type": "stream",
     "text": [
      "열 정렬 - \n",
      "[[ 3 11  5  1]\n",
      " [ 8 15  8  1]\n",
      " [12 15 10  5]\n",
      " [16 16 15 15]]\n",
      "\n",
      "행 정렬 - \n",
      "[[11 15 15 16]\n",
      " [ 1  5  8 15]\n",
      " [ 5 10 12 16]\n",
      " [ 1  3  8 15]]\n"
     ]
    }
   ],
   "source": [
    "# 행/열에 대해서도 정렬은 가능하다\n",
    "\n",
    "print('열 정렬 - ')\n",
    "print(np.sort(ary, axis = 0))\n",
    "# 데이터 분석은 열을 기준으로 함\n",
    "# print(ary)\n",
    "print()\n",
    "print('행 정렬 - ')\n",
    "print(np.sort(ary, axis = 1))\n"
   ]
  },
  {
   "cell_type": "markdown",
   "id": "7fdad7b5",
   "metadata": {},
   "source": [
    "- 만약, 정렬된 인덱스를 필요로 한다면?\n",
    "- np.argsort()"
   ]
  },
  {
   "cell_type": "code",
   "execution_count": 324,
   "id": "d130010c",
   "metadata": {},
   "outputs": [
    {
     "name": "stdout",
     "output_type": "stream",
     "text": [
      "[4 3 5 7]\n"
     ]
    }
   ],
   "source": [
    "ary = np.array([4,3,5,7])   # 1) sort => [3,4,5,7] \n",
    "print(ary)  "
   ]
  },
  {
   "cell_type": "code",
   "execution_count": 334,
   "id": "0ceb5cb4",
   "metadata": {},
   "outputs": [
    {
     "name": "stdout",
     "output_type": "stream",
     "text": [
      "[1 3 2 8 7 9 5 6 4 0]\n",
      "\n",
      "[0 1 2 3 4 5 6 7 8 9]\n",
      "[9 8 7 6 5 4 3 2 1 0]\n"
     ]
    }
   ],
   "source": [
    "sortIdx = np.argsort(ary)  # 2) index의 값 0,1,2,3 부여 \n",
    "print(sortIdx)   # 3) 출력 시 [1,0,2,3]\n",
    "print()\n",
    "print(ary[sortIdx])\n",
    "print(ary[sortIdx][::-1])  # 역순 출력"
   ]
  },
  {
   "cell_type": "code",
   "execution_count": 338,
   "id": "b1ab37f2",
   "metadata": {},
   "outputs": [
    {
     "name": "stdout",
     "output_type": "stream",
     "text": [
      "[[ 2 14 10  4]\n",
      " [13  5  4  4]\n",
      " [10 15 13  6]\n",
      " [ 5  4  8 11]]\n"
     ]
    }
   ],
   "source": [
    "ary = np.random.randint(1, 17, (4,4))\n",
    "print(ary)"
   ]
  },
  {
   "cell_type": "code",
   "execution_count": 341,
   "id": "4c02b6e8",
   "metadata": {},
   "outputs": [
    {
     "data": {
      "text/plain": [
       "array([[0, 3, 1, 0],\n",
       "       [3, 1, 3, 1],\n",
       "       [2, 0, 0, 2],\n",
       "       [1, 2, 2, 3]], dtype=int64)"
      ]
     },
     "execution_count": 341,
     "metadata": {},
     "output_type": "execute_result"
    }
   ],
   "source": [
    "# np.argsort(ary, axis = 1)  # 행(1)의 방향을 기준으로 index를 sorting 함\n",
    "np.argsort(ary, axis = 0)  # 열(0)의 방향을 기준으로 index를 sorting 함"
   ]
  },
  {
   "cell_type": "markdown",
   "id": "5924f90d",
   "metadata": {},
   "source": [
    "- 배열에병합이 아닌 행, 열 추가하는 방법\n",
    "- np.concatenate()\n",
    "- 축의 방향을 설정하여 추가 axis = \n",
    "   "
   ]
  },
  {
   "cell_type": "code",
   "execution_count": 328,
   "id": "142e172c",
   "metadata": {},
   "outputs": [
    {
     "name": "stdout",
     "output_type": "stream",
     "text": [
      "type -  <class 'numpy.ndarray'>\n",
      "shape -  (2, 3)\n",
      "ndim -  2\n",
      "dtype -  int32\n",
      "\n",
      "\n",
      "data - \n",
      "[[1 2 3]\n",
      " [4 5 6]]\n"
     ]
    }
   ],
   "source": [
    "ary = np.array([[1,2,3],[4,5,6]])\n",
    "aryInfo(ary)"
   ]
  },
  {
   "cell_type": "code",
   "execution_count": 329,
   "id": "ba44a6c3",
   "metadata": {},
   "outputs": [
    {
     "name": "stdout",
     "output_type": "stream",
     "text": [
      "[[1 2 3]\n",
      " [4 5 6]\n",
      " [7 8 9]]\n",
      "\n",
      "[[1 2 3]\n",
      " [4 5 6]\n",
      " [7 8 9]]\n",
      "\n"
     ]
    }
   ],
   "source": [
    "rowAry = np.array([7,8,9])\n",
    "# np.vstack([ary,rowAry])\n",
    "print( np.concatenate( (ary, rowAry[ np.newaxis , : ]), axis = 0) )\n",
    "print()\n",
    "print( np.concatenate( (ary, rowAry.reshape(1,3)), axis = 0) )\n",
    "print()"
   ]
  },
  {
   "cell_type": "code",
   "execution_count": 331,
   "id": "33e9fd36",
   "metadata": {},
   "outputs": [
    {
     "name": "stdout",
     "output_type": "stream",
     "text": [
      "[[ 1  2  3 10]\n",
      " [ 4  5  6 11]]\n",
      "\n",
      "[[ 1  2  3 10]\n",
      " [ 4  5  6 11]]\n"
     ]
    }
   ],
   "source": [
    "# colAry= np.array([10,11,12])   # 행/열 수 맞지않아 오류 발생함\n",
    "\n",
    "# print(ary)\n",
    "\n",
    "colAry = np.array([10,11])\n",
    "\n",
    "print( np.concatenate( (ary, colAry[ : , np.newaxis  ]) , axis = 1) )\n",
    "print()\n",
    "print( np.concatenate( (ary, colAry.reshape(2,1)) , axis = 1) )"
   ]
  },
  {
   "cell_type": "code",
   "execution_count": null,
   "id": "8e9ee46b",
   "metadata": {},
   "outputs": [],
   "source": []
  },
  {
   "cell_type": "code",
   "execution_count": null,
   "id": "b4751bd0",
   "metadata": {},
   "outputs": [],
   "source": []
  }
 ],
 "metadata": {
  "kernelspec": {
   "display_name": "Python 3 (ipykernel)",
   "language": "python",
   "name": "python3"
  },
  "language_info": {
   "codemirror_mode": {
    "name": "ipython",
    "version": 3
   },
   "file_extension": ".py",
   "mimetype": "text/x-python",
   "name": "python",
   "nbconvert_exporter": "python",
   "pygments_lexer": "ipython3",
   "version": "3.11.4"
  }
 },
 "nbformat": 4,
 "nbformat_minor": 5
}
