{
 "cells": [
  {
   "cell_type": "markdown",
   "id": "76966f47",
   "metadata": {},
   "source": [
    "#### 함수(function - OOP method)\n",
    "- 전처리를 하기위한 용도\n",
    "- 코드의 재활용을 위해서\n",
    "- 변수타입으로 사용될 수 있다."
   ]
  },
  {
   "cell_type": "code",
   "execution_count": 92,
   "id": "b5e71aae",
   "metadata": {
    "scrolled": true
   },
   "outputs": [
    {
     "name": "stdout",
     "output_type": "stream",
     "text": [
      "누적 값 확인 - \n",
      "sum -  25\n",
      "\n",
      "total -  25\n"
     ]
    }
   ],
   "source": [
    "lst = [1,3,5,7,9]\n",
    "print('누적 값 확인 - ')\n",
    "print('sum - ', sum(lst))\n",
    "print()\n",
    "total = 0\n",
    "for data in lst :\n",
    "    total += data\n",
    "print('total - ',total)"
   ]
  },
  {
   "cell_type": "code",
   "execution_count": 93,
   "id": "16876252",
   "metadata": {},
   "outputs": [
    {
     "name": "stdout",
     "output_type": "stream",
     "text": [
      "case01 - 인자x, 리턴o - \n",
      "working - \n"
     ]
    }
   ],
   "source": [
    "print('case01 - 인자x, 리턴o - ')\n",
    "print('working - ')\n",
    "def sumCalc() : \n",
    "    print('function call')"
   ]
  },
  {
   "cell_type": "code",
   "execution_count": 94,
   "id": "b71e448a",
   "metadata": {},
   "outputs": [
    {
     "name": "stdout",
     "output_type": "stream",
     "text": [
      "caller - \n",
      "function call\n",
      "result -  None\n"
     ]
    }
   ],
   "source": [
    "print('caller - ')\n",
    "print('result - ', sumCalc())"
   ]
  },
  {
   "cell_type": "code",
   "execution_count": 95,
   "id": "5aeda1f0",
   "metadata": {},
   "outputs": [
    {
     "name": "stdout",
     "output_type": "stream",
     "text": [
      "case02 - 인자o, 리턴o - \n"
     ]
    }
   ],
   "source": [
    "print('case02 - 인자o, 리턴o - ')\n",
    "def sayEcho(msg) :\n",
    "    return msg    "
   ]
  },
  {
   "cell_type": "code",
   "execution_count": 96,
   "id": "08b31b28",
   "metadata": {},
   "outputs": [
    {
     "name": "stdout",
     "output_type": "stream",
     "text": [
      "result -  hello\n"
     ]
    }
   ],
   "source": [
    "result = sayEcho('hello')\n",
    "print('result - ', result)"
   ]
  },
  {
   "cell_type": "code",
   "execution_count": 97,
   "id": "3aa07237",
   "metadata": {},
   "outputs": [
    {
     "ename": "TypeError",
     "evalue": "sayEcho() missing 1 required positional argument: 'msg'",
     "output_type": "error",
     "traceback": [
      "\u001b[1;31m---------------------------------------------------------------------------\u001b[0m",
      "\u001b[1;31mTypeError\u001b[0m                                 Traceback (most recent call last)",
      "Cell \u001b[1;32mIn[97], line 1\u001b[0m\n\u001b[1;32m----> 1\u001b[0m sayEcho()\n",
      "\u001b[1;31mTypeError\u001b[0m: sayEcho() missing 1 required positional argument: 'msg'"
     ]
    }
   ],
   "source": [
    "sayEcho()"
   ]
  },
  {
   "cell_type": "code",
   "execution_count": 98,
   "id": "dceda1bc",
   "metadata": {},
   "outputs": [
    {
     "name": "stdout",
     "output_type": "stream",
     "text": [
      "case03 - 인자x, 리턴x - \n"
     ]
    }
   ],
   "source": [
    "print('case03 - 인자x, 리턴x - ')\n",
    "def sayEcho() :\n",
    "       pass\n",
    "    "
   ]
  },
  {
   "cell_type": "code",
   "execution_count": 99,
   "id": "a5026af4",
   "metadata": {},
   "outputs": [],
   "source": [
    "sayEcho()"
   ]
  },
  {
   "cell_type": "code",
   "execution_count": 100,
   "id": "40eaddd1",
   "metadata": {},
   "outputs": [
    {
     "name": "stdout",
     "output_type": "stream",
     "text": [
      "case04 - 인자o, 리턴x - \n"
     ]
    }
   ],
   "source": [
    "print('case04 - 인자o, 리턴x - ')\n",
    "def sayEcho(msg) :\n",
    "       pass"
   ]
  },
  {
   "cell_type": "code",
   "execution_count": 101,
   "id": "45701984",
   "metadata": {},
   "outputs": [],
   "source": [
    "sayEcho('hi')"
   ]
  },
  {
   "cell_type": "code",
   "execution_count": 102,
   "id": "39f95466",
   "metadata": {},
   "outputs": [
    {
     "name": "stdout",
     "output_type": "stream",
     "text": [
      "인자를 세개 받아서 2번째 인자에 따라서 사칙연산한 결과를 리턴하는 함수 userCalc() 함수를 정의한다면?\n"
     ]
    }
   ],
   "source": [
    "print('인자를 세개 받아서 2번째 인자에 따라서 사칙연산한 결과를 리턴하는 함수 userCalc() 함수를 정의한다면?')\n",
    "\n",
    "def userCalc(x : int, operator : str, y : int) :\n",
    "    if operator == '+':\n",
    "        return x + y\n",
    "    if operator == '-':\n",
    "        return x - y\n",
    "    if operator == '*':\n",
    "        return x * y\n",
    "    if operator == '/':\n",
    "        return x / y\n",
    "    \n",
    "    \n",
    "# def userCalc(x, operator, y) :\n",
    "#     result = 0\n",
    "#     if operator == '+':\n",
    "#         result = x + y\n",
    "#     if operator == '-':\n",
    "#         result = x - y\n",
    "#     if operator == '*':\n",
    "#         result = x * y\n",
    "#     if operator == '/':\n",
    "#         result = x / y\n",
    "#     return result"
   ]
  },
  {
   "cell_type": "code",
   "execution_count": 103,
   "id": "6b73f1a6",
   "metadata": {},
   "outputs": [
    {
     "name": "stdout",
     "output_type": "stream",
     "text": [
      "caller - \n",
      "+ =  None\n"
     ]
    }
   ],
   "source": [
    "print('caller - ')\n",
    "result = userCalc(10, '/ ', 10)\n",
    "print('+ = ', result)"
   ]
  },
  {
   "cell_type": "code",
   "execution_count": 104,
   "id": "7532aba5",
   "metadata": {},
   "outputs": [],
   "source": [
    "def leapYear(year) :\n",
    "    if (year % 4 == 0) and (year % 100 != 0) or (year % 400 == 0) :\n",
    "        return '윤년입니다'\n",
    "    else :\n",
    "        return '평년입니다'"
   ]
  },
  {
   "cell_type": "code",
   "execution_count": 105,
   "id": "1b3c480d",
   "metadata": {},
   "outputs": [
    {
     "name": "stdout",
     "output_type": "stream",
     "text": [
      "result -  평년입니다\n"
     ]
    }
   ],
   "source": [
    "result = leapYear(2023)\n",
    "print('result - ', result)"
   ]
  },
  {
   "cell_type": "markdown",
   "id": "2ade067e",
   "metadata": {},
   "source": [
    "#### 퀴즈\n",
    "- 두개의 인자를 받는 함수를 정의한다 (oddEvenFunc)\n",
    "- 두 인자의 값의 범위의 홀수의 합, 짝수의 합을 반환한다."
   ]
  },
  {
   "cell_type": "code",
   "execution_count": 106,
   "id": "86a07145",
   "metadata": {},
   "outputs": [],
   "source": [
    "def oddEvenFunc(start : int , end : int) :\n",
    "    evenSum = oddSum = 0\n",
    "    for data in range(start, end+1):\n",
    "        if data % 2 == 0 :\n",
    "            evenSum += data\n",
    "        else :\n",
    "            oddSum += data\n",
    "    return (oddSum, evenSum)  # 리턴값은 튜플()임!"
   ]
  },
  {
   "cell_type": "code",
   "execution_count": 107,
   "id": "c2de5ced",
   "metadata": {},
   "outputs": [
    {
     "name": "stdout",
     "output_type": "stream",
     "text": [
      "짝수의 합 :  2550\n",
      "홀수의 합 :  2500\n"
     ]
    }
   ],
   "source": [
    "oddSum , evenSum = oddEvenFunc(1, 100)   # 리턴은 튜플()형식으로 반환되어야 한다.\n",
    "print('짝수의 합 : ', evenSum)\n",
    "print('홀수의 합 : ', oddSum)"
   ]
  },
  {
   "cell_type": "code",
   "execution_count": 108,
   "id": "ccaffe56",
   "metadata": {},
   "outputs": [],
   "source": [
    "# list로 return 하기\n",
    "\n",
    "def oddEvenFunc(start : int , end : int) :\n",
    "    lst = []\n",
    "    evenSum = oddSum = 0\n",
    "    for data in range(start, end+1):\n",
    "        if data % 2 == 0 :\n",
    "            evenSum += data\n",
    "        else :\n",
    "            oddSum += data\n",
    "    lst.append(oddSum)\n",
    "    lst.append(evenSum)\n",
    "    return lst  # 리턴값은 list임!\n",
    "    # return [oddSum, evenSum]  => 변수(lst) 선언 없이 써도 되지만,,,\n",
    "    "
   ]
  },
  {
   "cell_type": "code",
   "execution_count": 109,
   "id": "53dae5b0",
   "metadata": {},
   "outputs": [
    {
     "name": "stdout",
     "output_type": "stream",
     "text": [
      "type :  <class 'list'>\n",
      "짝수의 합 :  2550\n",
      "짝수의 합 :  2500\n"
     ]
    }
   ],
   "source": [
    "oddEvenLst = oddEvenFunc(1, 100)\n",
    "print('type : ',type(oddEvenLst))\n",
    "print('짝수의 합 : ', oddEvenLst[1])\n",
    "print('짝수의 합 : ', oddEvenLst[0])"
   ]
  },
  {
   "cell_type": "code",
   "execution_count": 110,
   "id": "7046e279",
   "metadata": {},
   "outputs": [],
   "source": [
    "# dict로 return 하기\n",
    "\n",
    "def oddEvenFunc(start : int , end : int) :\n",
    "    dictTmp = {}\n",
    "    evenSum = oddSum = 0\n",
    "    for data in range(start, end+1):\n",
    "        if data % 2 == 0 :\n",
    "            evenSum += data\n",
    "        else :\n",
    "            oddSum += data\n",
    "            \n",
    "    dictTmp['odd'] = oddSum # odd라는 key 값으로 oddSum을 받겠다\n",
    "    dictTmp['even'] = evenSum # even라는 key 값으로 evenSum을 받겠다\n",
    "    return dictTmp  # 리턴값은 dict임!"
   ]
  },
  {
   "cell_type": "code",
   "execution_count": 111,
   "id": "93a742f1",
   "metadata": {},
   "outputs": [
    {
     "name": "stdout",
     "output_type": "stream",
     "text": [
      "type :  <class 'dict'>\n",
      "짝수의 합 :  2550\n",
      "짝수의 합 :  2500\n"
     ]
    }
   ],
   "source": [
    "oddEvenLst = oddEvenFunc(1, 100)\n",
    "print('type : ',type(oddEvenLst))\n",
    "print('짝수의 합 : ', oddEvenLst['even'])  # key 이름으로 접근함\n",
    "print('짝수의 합 : ', oddEvenLst['odd'])   # key 이름으로 접근함"
   ]
  },
  {
   "cell_type": "code",
   "execution_count": 112,
   "id": "c33350ac",
   "metadata": {},
   "outputs": [],
   "source": [
    "def isSsn(jumin : str) :\n",
    "    print('param - ', jumin , type(jumin))   # 디버깅용!\n",
    "    if jumin.split('-')[1][0] in ['1','3'] : # in [list] 내에 특정값이 있는가?\n",
    "        return '남자'\n",
    "    else :\n",
    "        return '여자'"
   ]
  },
  {
   "cell_type": "code",
   "execution_count": 113,
   "id": "778e584f",
   "metadata": {},
   "outputs": [
    {
     "name": "stdout",
     "output_type": "stream",
     "text": [
      "param -  xxxxxx-4xxxxxx <class 'str'>\n",
      "당신의 성별은 여자 임\n"
     ]
    }
   ],
   "source": [
    "gender = isSsn('xxxxxx-4xxxxxx')\n",
    "print('당신의 성별은 {} 임'.format(gender))"
   ]
  },
  {
   "cell_type": "code",
   "execution_count": 114,
   "id": "f0020b93",
   "metadata": {},
   "outputs": [
    {
     "name": "stdout",
     "output_type": "stream",
     "text": [
      "http://www.naver.com\n"
     ]
    }
   ],
   "source": [
    "companyName = 'naver'\n",
    "print('http://www.'+companyName+'.com')"
   ]
  },
  {
   "cell_type": "code",
   "execution_count": 115,
   "id": "67917b17",
   "metadata": {},
   "outputs": [],
   "source": [
    "nameLst = ['naver','google','samsung','SK','LG']"
   ]
  },
  {
   "cell_type": "code",
   "execution_count": 116,
   "id": "4c335c04",
   "metadata": {},
   "outputs": [],
   "source": [
    "def makeUrl(lst : list) :  # 변수명 설정. return 타입과 형태만 일치하면 됨\n",
    "    print('debug >>>>>> ', type(lst))\n",
    "    a = []   # 2) 리턴을 위한 list 변수(a) 선언\n",
    "    for comp in lst :   # 3) 하나씩 돌아가면서 꺼내서\n",
    "        a.append('http://www.'+comp+'.com')   # 4) 만들어 준 값을 a 변수에 넣음\n",
    "    return a   # 5) return 해줌 "
   ]
  },
  {
   "cell_type": "code",
   "execution_count": 117,
   "id": "61427365",
   "metadata": {},
   "outputs": [
    {
     "name": "stdout",
     "output_type": "stream",
     "text": [
      "caller -\n",
      "debug >>>>>>  <class 'list'>\n",
      "['http://www.naver.com', 'http://www.google.com', 'http://www.samsung.com', 'http://www.SK.com', 'http://www.LG.com']\n"
     ]
    }
   ],
   "source": [
    "print('caller -')\n",
    "urls = makeUrl(nameLst) # urls - list  1) makeUrl 함수에 nameLst 를 넣어 호출 => 6) return값인 a 를 urls 에 넣음\n",
    "print(urls)    # 7) 호출"
   ]
  },
  {
   "cell_type": "code",
   "execution_count": 118,
   "id": "5258b6e9",
   "metadata": {},
   "outputs": [
    {
     "name": "stdout",
     "output_type": "stream",
     "text": [
      "list comprehension - \n"
     ]
    }
   ],
   "source": [
    "print('list comprehension - ')\n",
    "def makeUrl(lst : list) :  \n",
    "    print('debug >>>>>> ', type(lst))\n",
    "\n",
    "    result = ['http://www.'+a+'.com' for a in lst]\n",
    "    return result\n"
   ]
  },
  {
   "cell_type": "code",
   "execution_count": 119,
   "id": "a9a7a540",
   "metadata": {},
   "outputs": [
    {
     "name": "stdout",
     "output_type": "stream",
     "text": [
      "caller -\n",
      "debug >>>>>>  <class 'list'>\n",
      "['http://www.naver.com', 'http://www.google.com', 'http://www.samsung.com', 'http://www.SK.com', 'http://www.LG.com']\n"
     ]
    }
   ],
   "source": [
    "print('caller -')\n",
    "urls = makeUrl(nameLst) \n",
    "print(urls)   "
   ]
  },
  {
   "cell_type": "code",
   "execution_count": 120,
   "id": "4ebbcba7",
   "metadata": {},
   "outputs": [],
   "source": [
    "numLst = [45,36,12,26,42,81,3,4,9,16,94,34,50,23,11]"
   ]
  },
  {
   "cell_type": "code",
   "execution_count": 121,
   "id": "7899c67d",
   "metadata": {},
   "outputs": [],
   "source": [
    "# 짝수만 추출하여 리스트로 \n",
    "'''\n",
    "[실행문(의 결과) for data in 열거형]  => 실행문을 결과에 넣겠다\n",
    "'''\n",
    "def pickEven(lst : list) :\n",
    "    evenLst = [] \n",
    "#     print('debug >>>>>> ', type(lst))\n",
    "#     result = [num for num in lst if num%2 == 0] # list com~ (list안에 for 쓰는 문법)\n",
    "    \n",
    "    # for ~ in 구문으로 바꿔보기\n",
    "    for data in numLst :\n",
    "        if data%2 == 0:\n",
    "#             print(data)\n",
    "            evenLst.append(data)\n",
    "    return evenLst"
   ]
  },
  {
   "cell_type": "code",
   "execution_count": 122,
   "id": "6499ddd9",
   "metadata": {},
   "outputs": [
    {
     "name": "stdout",
     "output_type": "stream",
     "text": [
      "result -  [36, 12, 26, 42, 4, 16, 94, 34, 50]\n"
     ]
    }
   ],
   "source": [
    "results = pickEven(numLst)\n",
    "print('result - ', results)"
   ]
  },
  {
   "cell_type": "code",
   "execution_count": 123,
   "id": "028db746",
   "metadata": {},
   "outputs": [],
   "source": [
    "def myColor(name, colors, isTrue) :\n",
    "    if isTrue :\n",
    "        print('{} 님은 {}색을 좋아합니다'.format(name,colors))\n",
    "    else :\n",
    "        print('{} 님은 {}색을 싫어합니다'.format(name,colors))"
   ]
  },
  {
   "cell_type": "code",
   "execution_count": 124,
   "id": "9c200a1d",
   "metadata": {},
   "outputs": [
    {
     "name": "stdout",
     "output_type": "stream",
     "text": [
      "caller - \n",
      "세번째 인자를 가지고 좋고/싫음 판별\n",
      "출력예시) xxx님은 xxxx색을 좋아(싫어)합니다.\n",
      "\n",
      "A 님은 초록색을 싫어합니다\n",
      "B 님은 노랑색을 좋아합니다\n",
      "C 님은 하양색을 싫어합니다\n",
      "D 님은 보라색을 좋아합니다\n"
     ]
    }
   ],
   "source": [
    "print('caller - ')\n",
    "print('세번째 인자를 가지고 좋고/싫음 판별')\n",
    "print('출력예시) xxx님은 xxxx색을 좋아(싫어)합니다.')  # return 값 없음\n",
    "                                        # input은 있지만 output은 없고 print만 함\n",
    "                                        # 변수 = 함수(list명) 형태가 아니므로..\n",
    "print()\n",
    "myColor('A', '초록', False)   # 함수가 4번 호출됨 => 호출될 때 마다 값 들어옴\n",
    "myColor('B', '노랑', True)\n",
    "myColor('C', '하양', False)\n",
    "myColor('D', '보라', True)"
   ]
  },
  {
   "cell_type": "code",
   "execution_count": 125,
   "id": "dcacf0b5",
   "metadata": {},
   "outputs": [],
   "source": [
    "lst = [  # list 안의 데이터가 dict 타입\n",
    "    { 'name' : '김', 'color' : '빨강', 'flag' : True },\n",
    "    { 'name' : '오', 'color' : '노랑', 'flag' : False },\n",
    "    { 'name' : '손', 'color' : '파랑', 'flag' : True },\n",
    "    { 'name' : '박', 'color' : '검정', 'flag' : False }\n",
    "]"
   ]
  },
  {
   "cell_type": "code",
   "execution_count": 126,
   "id": "baea15b5",
   "metadata": {},
   "outputs": [
    {
     "name": "stdout",
     "output_type": "stream",
     "text": [
      "동일결과 나오도록 구현 - \n"
     ]
    }
   ],
   "source": [
    "print('동일결과 나오도록 구현 - ')"
   ]
  },
  {
   "cell_type": "code",
   "execution_count": 127,
   "id": "a5821db3",
   "metadata": {},
   "outputs": [],
   "source": [
    "def myColor(lst) :\n",
    "    print('param - ', type(lst))\n",
    "    for data in lst :\n",
    "        print('data type - ', type(data), data)\n",
    "        if data['flag'] :\n",
    "            print('{} 님은 {}색을 좋아합니다'.format(data['name'],data['color']))\n",
    "        else :\n",
    "            print('{} 님은 {}색을 싫어합니다'.format(data['name'],data['color']))"
   ]
  },
  {
   "cell_type": "code",
   "execution_count": 128,
   "id": "b17cad5d",
   "metadata": {},
   "outputs": [
    {
     "name": "stdout",
     "output_type": "stream",
     "text": [
      "param -  <class 'list'>\n",
      "data type -  <class 'dict'> {'name': '김', 'color': '빨강', 'flag': True}\n",
      "김 님은 빨강색을 좋아합니다\n",
      "data type -  <class 'dict'> {'name': '오', 'color': '노랑', 'flag': False}\n",
      "오 님은 노랑색을 싫어합니다\n",
      "data type -  <class 'dict'> {'name': '손', 'color': '파랑', 'flag': True}\n",
      "손 님은 파랑색을 좋아합니다\n",
      "data type -  <class 'dict'> {'name': '박', 'color': '검정', 'flag': False}\n",
      "박 님은 검정색을 싫어합니다\n"
     ]
    }
   ],
   "source": [
    "myColor(lst)   # 함수 호출 / return 타입 없음"
   ]
  },
  {
   "cell_type": "code",
   "execution_count": 129,
   "id": "5b024108",
   "metadata": {},
   "outputs": [],
   "source": [
    "# 변수의 스코프 (Variable scope)\n",
    "# 전역(global), 지역(local)\n",
    "\n",
    "data = [1,2,3,4] # global scope\n",
    "\n",
    "for d in data :   # d 는 for문 내에서 사용하는 지역변수\n",
    "    pass\n",
    "\n",
    "# print(d)      # d를 for문 밖에서 사용하려고 하면 오류 발생 => 4\n",
    "\n",
    "def userFunc() :\n",
    "    localVar = 100     # local scope\n",
    "    print(data)\n"
   ]
  },
  {
   "cell_type": "code",
   "execution_count": 130,
   "id": "d084f382",
   "metadata": {},
   "outputs": [
    {
     "name": "stdout",
     "output_type": "stream",
     "text": [
      "[1, 2, 3, 4]\n"
     ]
    }
   ],
   "source": [
    "userFunc()"
   ]
  },
  {
   "cell_type": "code",
   "execution_count": 131,
   "id": "62c21c57",
   "metadata": {},
   "outputs": [
    {
     "name": "stdout",
     "output_type": "stream",
     "text": [
      "* 튜플\n"
     ]
    }
   ],
   "source": [
    "print('* 튜플')\n",
    "def avgFunc(*scores) :   # 가변인자 = (*인자) = 프로그램이 묵시적으로 튜플형식임을 선언함\n",
    "    pass"
   ]
  },
  {
   "cell_type": "code",
   "execution_count": 132,
   "id": "5f7ca498",
   "metadata": {},
   "outputs": [],
   "source": [
    "avgFunc()\n",
    "avgFunc(100)\n",
    "avgFunc(100,200)\n",
    "avgFunc([1,2,3,4], [1,2,3,4])"
   ]
  },
  {
   "cell_type": "code",
   "execution_count": 133,
   "id": "85d6247b",
   "metadata": {},
   "outputs": [
    {
     "name": "stdout",
     "output_type": "stream",
     "text": [
      "** 딕셔너리\n"
     ]
    }
   ],
   "source": [
    "print('** 딕셔너리')   # 딕셔너리를 인자로 받는 함수(약속임)\n",
    "def avgFunc(**kwargs) :  \n",
    "    print('type - ' , type(kwargs))"
   ]
  },
  {
   "cell_type": "code",
   "execution_count": 134,
   "id": "8d375005",
   "metadata": {},
   "outputs": [
    {
     "name": "stdout",
     "output_type": "stream",
     "text": [
      "type -  <class 'dict'>\n",
      "type -  <class 'dict'>\n"
     ]
    }
   ],
   "source": [
    "# avgFunc()    # key : value 값 필요하므로 두개가 들어가야 함\n",
    "avgFunc(name = '나')   # key = 'value'\n",
    "avgFunc(name = '나', age = 1)"
   ]
  },
  {
   "cell_type": "code",
   "execution_count": 135,
   "id": "bfcf7fb2",
   "metadata": {},
   "outputs": [],
   "source": [
    "def mixTypeFunc(args01, args02, *args03, **args04) :\n",
    "    pass\n",
    "# 값01, 02, 튜플(값 여러개 가능), 딕셔너리(값 여러개 가능)\n",
    "# 여러가지 값을 동시에 넣어줄 수도 있다."
   ]
  },
  {
   "cell_type": "code",
   "execution_count": 136,
   "id": "bb853621",
   "metadata": {},
   "outputs": [],
   "source": [
    "mixTypeFunc('str', True, 1,'2',3, age = 20, gender ='f')"
   ]
  },
  {
   "cell_type": "code",
   "execution_count": 137,
   "id": "14b25112",
   "metadata": {},
   "outputs": [],
   "source": [
    "def closingMent() :     # return 은 있고, input은 없는 3번 type(도표)\n",
    "    msg = '안녕히가세요.주말은 짧아요.당연함 이틀임'\n",
    "    lst = []\n",
    "    for char in msg :\n",
    "        lst.append(char)\n",
    "    return lst"
   ]
  },
  {
   "cell_type": "code",
   "execution_count": 138,
   "id": "0ce3673f",
   "metadata": {},
   "outputs": [
    {
     "name": "stdout",
     "output_type": "stream",
     "text": [
      "['안', '녕', '히', '가', '세', '요', '.', '주', '말', '은', ' ', '짧', '아', '요', '.', '당', '연', '함', ' ', '이', '틀', '임']\n"
     ]
    }
   ],
   "source": [
    "result = closingMent()  # 함수의 이름을 변수에 담을 수 있다.\n",
    "print(result)"
   ]
  },
  {
   "cell_type": "code",
   "execution_count": 139,
   "id": "76afe054",
   "metadata": {},
   "outputs": [
    {
     "name": "stdout",
     "output_type": "stream",
     "text": [
      "type -  <class 'function'>\n"
     ]
    }
   ],
   "source": [
    "msg = closingMent    \n",
    "print('type - ', type(msg))"
   ]
  },
  {
   "cell_type": "code",
   "execution_count": 140,
   "id": "e6d79a33",
   "metadata": {},
   "outputs": [
    {
     "name": "stdout",
     "output_type": "stream",
     "text": [
      "['안', '녕', '히', '가', '세', '요', '.', '주', '말', '은', ' ', '짧', '아', '요', '.', '당', '연', '함', ' ', '이', '틀', '임']\n"
     ]
    }
   ],
   "source": [
    "print(msg())    # 변수에 function을 담아서 호출함"
   ]
  },
  {
   "cell_type": "code",
   "execution_count": 141,
   "id": "626aaed2",
   "metadata": {},
   "outputs": [
    {
     "name": "stdout",
     "output_type": "stream",
     "text": [
      "lambda 형식) : lambda 인자 : 실행문\n"
     ]
    }
   ],
   "source": [
    "# lambda function\n",
    "print('lambda 형식) : lambda 인자 : 실행문')\n",
    "def hap(x, y) :\n",
    "    return x + y"
   ]
  },
  {
   "cell_type": "code",
   "execution_count": 142,
   "id": "93c738a9",
   "metadata": {
    "scrolled": true
   },
   "outputs": [
    {
     "name": "stdout",
     "output_type": "stream",
     "text": [
      "\n",
      "result : 30\n",
      "lamdaFunc(10,20) : 30\n"
     ]
    }
   ],
   "source": [
    "result = hap(10,20)\n",
    "# print(result)\n",
    "print()\n",
    "# result = lambda x , y : x + y (10, 20)\n",
    "result = (lambda x , y : x + y)(10, 20)   # 람다함수는 () 씌워주면 바로 실행\n",
    "print('result :',result)\n",
    "lamdaFunc = lambda x,y : x+y #  뒤의 함수를 앞의 변수에 할당해줌\n",
    "print('lamdaFunc(10,20) :', lamdaFunc(10,20))"
   ]
  },
  {
   "cell_type": "code",
   "execution_count": 143,
   "id": "0bf9fef1",
   "metadata": {},
   "outputs": [
    {
     "name": "stdout",
     "output_type": "stream",
     "text": [
      "함수의 중첩 - \n"
     ]
    }
   ],
   "source": [
    "print('함수의 중첩 - ')\n",
    "\n",
    "def outerFunc(num) :\n",
    "    result = 0\n",
    "    def innerFunc(num) :\n",
    "        print(result + num)     # inner 에서의 result 는 전역변수 result 호출가능\n",
    "                                # 바깥에서는 inner 의 변수는 호출 불가능\n"
   ]
  },
  {
   "cell_type": "code",
   "execution_count": null,
   "id": "3c3bc50f",
   "metadata": {},
   "outputs": [],
   "source": []
  }
 ],
 "metadata": {
  "kernelspec": {
   "display_name": "Python 3 (ipykernel)",
   "language": "python",
   "name": "python3"
  },
  "language_info": {
   "codemirror_mode": {
    "name": "ipython",
    "version": 3
   },
   "file_extension": ".py",
   "mimetype": "text/x-python",
   "name": "python",
   "nbconvert_exporter": "python",
   "pygments_lexer": "ipython3",
   "version": "3.11.4"
  }
 },
 "nbformat": 4,
 "nbformat_minor": 5
}
