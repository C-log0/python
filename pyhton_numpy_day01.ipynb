{
 "cells": [
  {
   "cell_type": "markdown",
   "id": "6e6d6b07",
   "metadata": {},
   "source": [
    "Numpy 학습목표\n",
    "- 배열의 데이터타입 (인공지능에서 사용하게 될 데이터타입)\n",
    "- 생성, 다루는 방법\n",
    "- 통계에 관련된 함수를 지원\n",
    "- 벡터화 연산, 행렬 연산\n",
    "- 파이썬의 리스트(다양한 요소의 타입들 가질 수 있음)와는 다르다(넘파이는 요소의 타입들이 같아야 함)\n",
    "- 원소의 개수를 변경할 수 없다(resizing x)\n",
    "- 배열의 차원, 크기, 타입(배열 안에 들어있는 요소의 타입. 변수타입 의미 아님!)(ndim, shape, dtype)"
   ]
  },
  {
   "cell_type": "code",
   "execution_count": 87,
   "id": "477d0107",
   "metadata": {},
   "outputs": [],
   "source": [
    "import numpy as np\n",
    "import pandas as pd   # 항상 np와 함께 import 해줌"
   ]
  },
  {
   "cell_type": "markdown",
   "id": "b3aeeaea",
   "metadata": {},
   "source": [
    "- 배열을 생성하는 함수 : array(), arange(), reshape() "
   ]
  },
  {
   "cell_type": "code",
   "execution_count": 88,
   "id": "0ce0775b",
   "metadata": {},
   "outputs": [
    {
     "name": "stdout",
     "output_type": "stream",
     "text": [
      "type -  <class 'list'>\n",
      "type -  <class 'numpy.ndarray'>\n",
      "shape -  (5,)\n",
      "ndim -  1\n",
      "dtype -  int32\n"
     ]
    }
   ],
   "source": [
    "lst = [1,2,3,4,5]\n",
    "print('type - ' , type(lst))\n",
    "\n",
    "ary = np.array(lst) \n",
    "print('type - ' , type(ary))\n",
    "print('shape - ', ary.shape)   \n",
    "print('ndim - ', ary.ndim)   # => 1 : 열만 있는 1차원\n",
    "print('dtype - ', ary.dtype)"
   ]
  },
  {
   "cell_type": "code",
   "execution_count": 89,
   "id": "9e9ee7d6",
   "metadata": {},
   "outputs": [],
   "source": [
    "# 배열에 대한 정보를 쉽게 확인하기 위하여 함수를 만들어두면 편리하다\n",
    "def aryInfo(ary) :\n",
    "    print('type - ' , type(ary))\n",
    "    print('shape - ', ary.shape)   \n",
    "    print('ndim - ', ary.ndim)\n",
    "    print('dtype - ', ary.dtype)\n",
    "    print()\n",
    "    print()\n",
    "    print('data - ')\n",
    "    print(ary)     # list 와의 차이점 : ',' 없음. 배열로 보면 됨!"
   ]
  },
  {
   "cell_type": "code",
   "execution_count": 90,
   "id": "9fc44c52",
   "metadata": {},
   "outputs": [
    {
     "name": "stdout",
     "output_type": "stream",
     "text": [
      "type -  <class 'numpy.ndarray'>\n",
      "shape -  (5,)\n",
      "ndim -  1\n",
      "dtype -  int32\n",
      "\n",
      "\n",
      "data - \n",
      "[1 2 3 4 5]\n"
     ]
    }
   ],
   "source": [
    "aryInfo(ary)"
   ]
  },
  {
   "cell_type": "code",
   "execution_count": 91,
   "id": "16288c7b",
   "metadata": {},
   "outputs": [
    {
     "name": "stdout",
     "output_type": "stream",
     "text": [
      "[1, 2, 3, 4, 5, 6, 7, 8, 9, 1, 2, 3, 4, 5, 6, 7, 8, 9]\n",
      "[ 2  4  6  8 10 12 14 16 18]\n"
     ]
    }
   ],
   "source": [
    "# 각 요소의 값에 제곱하기 (1.반복구문 2. list comprehention)\n",
    "lst = [1,2,3,4,5,6,7,8,9]\n",
    "print(lst * 2)  # 반복 구문임\n",
    "\n",
    "# 벡터화 연산\n",
    "ary = np.array(lst)\n",
    "print(ary * 2)   "
   ]
  },
  {
   "cell_type": "code",
   "execution_count": 92,
   "id": "9f904b5c",
   "metadata": {},
   "outputs": [
    {
     "name": "stdout",
     "output_type": "stream",
     "text": [
      "산술연산 - \n",
      "[11 22 33 44 55]\n"
     ]
    }
   ],
   "source": [
    "print('산술연산 - ')\n",
    "# 배열의 shape 이 동일하면 ...\n",
    "ary01 = np.array([1,2,3,4,5])\n",
    "ary02 = np.array([10,20,30,40,50])\n",
    "\n",
    "print(ary01 + ary02)\n",
    "# 반복 구문을 사용해서 더하지 않고도 연산이 가능"
   ]
  },
  {
   "cell_type": "code",
   "execution_count": 93,
   "id": "fe345b07",
   "metadata": {},
   "outputs": [
    {
     "name": "stdout",
     "output_type": "stream",
     "text": [
      "비교연산 - \n",
      "[False  True False False False]\n",
      "[False  True False False False]\n",
      "indexing -  1\n",
      "indexing -  2\n",
      "slicing -  [1 2 3]\n",
      "boolean indexing -  [2]\n"
     ]
    }
   ],
   "source": [
    "print('비교연산 - ')\n",
    "print(ary01 == 2)\n",
    "\n",
    "booleanMasking = (ary01 == 2 )  # array 가 2인 곳을 True 로 만듦\n",
    "print(booleanMasking)\n",
    "\n",
    "print('indexing - ', ary01[0])\n",
    "print('indexing - ', ary01[1])\n",
    "print('slicing - ', ary01[0:3])\n",
    "print('boolean indexing - ', ary01[booleanMasking]) # True인 번지의 인덱싱 값만 출력해줌"
   ]
  },
  {
   "cell_type": "code",
   "execution_count": 94,
   "id": "bf39b23f",
   "metadata": {},
   "outputs": [
    {
     "name": "stdout",
     "output_type": "stream",
     "text": [
      "논리연산 - \n",
      "[False  True  True  True  True]\n",
      "\n",
      "[False  True False False False]\n",
      "[False  True  True  True  True]\n",
      "[False  True False False False]\n",
      "[False  True  True  True  True]\n"
     ]
    }
   ],
   "source": [
    "print('논리연산 - ')\n",
    "\n",
    "print( ary02 > 10)\n",
    "print()\n",
    "print((ary01 == 2))\n",
    "print((ary02 > 10))\n",
    "print((ary01 == 2) & (ary02 > 10))   # and 연산 = 논리곱\n",
    "print((ary01 == 2) | (ary02 > 10))   # or 연산 = 논리합"
   ]
  },
  {
   "cell_type": "markdown",
   "id": "4eb1a102",
   "metadata": {},
   "source": [
    "- 2차원 배열(행렬, matrix) : list of list\n",
    "\n"
   ]
  },
  {
   "cell_type": "code",
   "execution_count": 95,
   "id": "45112f9b",
   "metadata": {},
   "outputs": [
    {
     "name": "stdout",
     "output_type": "stream",
     "text": [
      "2*3 배열을 생성하고 싶다면?\n",
      "[1, 2, 3]\n",
      "1\n",
      "[1, 2, 3]\t1\t[1, 2, 3]\t2\t[1, 2, 3]\t3\t[4, 5, 6]\t4\t[4, 5, 6]\t5\t[4, 5, 6]\t6\t\n",
      "[1, 2, 3]\t1\t[1, 2, 3]\t2\t[1, 2, 3]\t3\t[4, 5, 6]\t4\t[4, 5, 6]\t5\t[4, 5, 6]\t6\t\n"
     ]
    }
   ],
   "source": [
    "print('2*3 배열을 생성하고 싶다면?')\n",
    "\n",
    "lst = [[1,2,3],[4,5,6]] # 2행 3열\n",
    "print(lst[0])   # 첫번째 열 출력 => list 형식\n",
    "print(lst[0][0])   # list의 [0] 값\n",
    "\n",
    "for row in lst :\n",
    "    for rIdx, row in enumerate(lst) :\n",
    "        for cIdx, col in enumerate(row) :\n",
    "            print(row, end='\\t')\n",
    "            print(col, end='\\t')\n",
    "    print()"
   ]
  },
  {
   "cell_type": "code",
   "execution_count": 96,
   "id": "8983c60f",
   "metadata": {},
   "outputs": [
    {
     "name": "stdout",
     "output_type": "stream",
     "text": [
      "type -  <class 'numpy.ndarray'>\n",
      "shape -  (2, 3)\n",
      "ndim -  2\n",
      "dtype -  int32\n",
      "\n",
      "\n",
      "data - \n",
      "[[1 2 3]\n",
      " [4 5 6]]\n",
      "\n",
      "2\n",
      "3\n"
     ]
    }
   ],
   "source": [
    "ary = np.array(lst)\n",
    "aryInfo(ary)\n",
    "print()\n",
    "print(len(ary))\n",
    "print(len(ary[0]))"
   ]
  },
  {
   "cell_type": "code",
   "execution_count": 118,
   "id": "dcb6c879",
   "metadata": {},
   "outputs": [
    {
     "name": "stdout",
     "output_type": "stream",
     "text": [
      "2 * 3 * 4 배열을 생성하고 싶다면?\n",
      "type -  <class 'numpy.ndarray'>\n",
      "shape -  (2, 3, 4)\n",
      "ndim -  3\n",
      "dtype -  int32\n",
      "\n",
      "\n",
      "data - \n",
      "[[[ 1  2  3  4]\n",
      "  [ 5  6  7  8]\n",
      "  [ 9 10 11 12]]\n",
      "\n",
      " [[13 14 15 16]\n",
      "  [17 18 19 20]\n",
      "  [21 22 23 24]]]\n",
      "\n",
      "2\n",
      "3\n",
      "3\n"
     ]
    }
   ],
   "source": [
    "print('2 * 3 * 4 배열을 생성하고 싶다면?')\n",
    "        # 3*4 짜리 2차원 배열이 2개 있는 것 => 3차원으로 봄\n",
    "    # 요소 값 입력하기\n",
    "lst = [ [ [1,2,3,4],[5,6,7,8],[9,10,11,12] ] , \n",
    "       [ [13,14,15,16],[17,18,19,20],[21,22,23,24] ] ]\n",
    "\n",
    "ary = np.array(lst)   # 배열 만들기\n",
    "aryInfo(ary)\n",
    "print()\n",
    "print(len(ary))\n",
    "print(len(ary[0]))\n",
    "print(len(ary[1]))"
   ]
  },
  {
   "cell_type": "markdown",
   "id": "4268fd53",
   "metadata": {},
   "source": [
    "- astype() : 요소의 타입을 변경할 때\n",
    "- 1차원, 2차원 적용이 가능\n"
   ]
  },
  {
   "cell_type": "code",
   "execution_count": 105,
   "id": "4ffa576f",
   "metadata": {},
   "outputs": [
    {
     "name": "stdout",
     "output_type": "stream",
     "text": [
      "type -  <class 'numpy.ndarray'>\n",
      "shape -  (2, 3, 4)\n",
      "ndim -  3\n",
      "dtype -  float64\n",
      "\n",
      "\n",
      "data - \n",
      "[[[ 1.  2.  3.  4.]\n",
      "  [ 5.  6.  7.  8.]\n",
      "  [ 9. 10. 11. 12.]]\n",
      "\n",
      " [[13. 14. 15. 16.]\n",
      "  [17. 18. 19. 20.]\n",
      "  [21. 22. 23. 24.]]]\n"
     ]
    }
   ],
   "source": [
    "aryInfo(ary.astype(np.float64))   # dtype을 float64(타입)로 변경"
   ]
  },
  {
   "cell_type": "markdown",
   "id": "50c1b3f3",
   "metadata": {},
   "source": [
    "- 배열에서 인덱싱, 슬라이싱\n",
    "- 차이점 : boolean indexing이 있음"
   ]
  },
  {
   "cell_type": "code",
   "execution_count": 117,
   "id": "2110b030",
   "metadata": {},
   "outputs": [
    {
     "name": "stdout",
     "output_type": "stream",
     "text": [
      "[행,열]\n",
      "type -  <class 'numpy.ndarray'>\n",
      "shape -  (2, 4)\n",
      "ndim -  2\n",
      "dtype -  int32\n",
      "\n",
      "\n",
      "data - \n",
      "[[1 2 3 4]\n",
      " [5 6 7 8]]\n",
      "\n",
      "첫번째 행의 첫번째 열 값을 추출 -  1 1\n",
      "두번째 행의 첫번째 열 값을 추출 -  5 5\n",
      "마지막 행의 마지막 열 값을 추출 -  8 8\n",
      "첫번째 행의 전체 열 값을 추출 -  [1 2 3 4] [1 2 3 4]\n",
      "두번째 행의 전체 열 값을 추출 -  [5 6 7 8] [5 6 7 8]\n",
      "두번째 행의 두번째 열부터 끝까지의 값을 추출 -  [6 7 8] [6 7 8]\n"
     ]
    }
   ],
   "source": [
    "print('[행,열]')\n",
    "ary = np.array( [ [1,2,3,4] , [5,6,7,8] ] )\n",
    "aryInfo(ary)\n",
    "print()\n",
    "print('첫번째 행의 첫번째 열 값을 추출 - ', ary[0,0], ary[0][0])\n",
    "print('두번째 행의 첫번째 열 값을 추출 - ', ary[1,0], ary[1][0])\n",
    "print('마지막 행의 마지막 열 값을 추출 - ', ary[-1,-1], ary[-1][-1])\n",
    "print('첫번째 행의 전체 열 값을 추출 - ', ary[0, : ],  ary[0][:])   # 열에 대한 슬라이싱 => 전체 가져오기\n",
    "print('두번째 행의 전체 열 값을 추출 - ', ary[1, : ], ary[1][:])\n",
    "print('두번째 행의 두번째 열부터 끝까지의 값을 추출 - ', ary[1, 1:], ary[1][1:])"
   ]
  },
  {
   "cell_type": "code",
   "execution_count": 130,
   "id": "4d3fa94c",
   "metadata": {},
   "outputs": [
    {
     "name": "stdout",
     "output_type": "stream",
     "text": [
      "fancy indexing - 정수배열 인덱싱(첨자), 불린 배열 인덱싱(T/F)\n",
      "\n",
      "\n",
      "Q. 짝수의 원소(2의 배수)만 출력한다면 - \n",
      "boolean 인덱싱 -  [0 2 4 6 8]\n",
      "정수 배열 인덱싱 -  [0 2 4 6 8]\n"
     ]
    }
   ],
   "source": [
    "print('fancy indexing - 정수배열 인덱싱(첨자), 불린 배열 인덱싱(T/F)')\n",
    "print()\n",
    "ary = np.array([0,1,2,3,4,5,6,7,8,9])\n",
    "# aryInfo(ary)\n",
    "print()\n",
    "print('Q. 짝수의 원소(2의 배수)만 출력한다면 - ')\n",
    "# print('dir - ', dir(ary))\n",
    "\n",
    "# for data in ary :\n",
    "#     if data % 2 == 0 :\n",
    "#         print(data)\n",
    "\n",
    "print('boolean 인덱싱 - ', ary[ ary % 2 == 0] )\n",
    "\n",
    "evenIdx = np.array([0,2,4,6,8])\n",
    "print('정수 배열 인덱싱 - ', ary[evenIdx])"
   ]
  },
  {
   "cell_type": "markdown",
   "id": "4ea79142",
   "metadata": {},
   "source": [
    "#### Quiz.\n",
    "- 3의 배수만 출력\n",
    "- 4로 나누어 1이 남는 값들만 출력\n",
    "- 3의 배수이고 4로 나누어 1이 남는 값들만 출력"
   ]
  },
  {
   "cell_type": "code",
   "execution_count": 138,
   "id": "5b8b602a",
   "metadata": {},
   "outputs": [
    {
     "name": "stdout",
     "output_type": "stream",
     "text": [
      "1번.  [ 3  6  9 12 15 18]\n",
      "2번.  [ 1  5  9 13 17]\n",
      "1번.  [9]\n"
     ]
    }
   ],
   "source": [
    "# arange() 로 범위를 주고 그 범위에 맞는 배열 만들 수 있다\n",
    "ary = np.arange(1,21)\n",
    "# aryInfo(ary)\n",
    "\n",
    "print('1번. ',ary[ ary % 3 == 0])\n",
    "print('2번. ',ary[ ary % 4 == 1])\n",
    "print('1번. ',ary[ (ary % 3 == 0) & (ary % 4 == 1)])"
   ]
  },
  {
   "cell_type": "markdown",
   "id": "27d0a2e9",
   "metadata": {},
   "source": [
    "- reshape() : 배열을 변형 시켜주는 함수"
   ]
  },
  {
   "cell_type": "code",
   "execution_count": 184,
   "id": "7089d488",
   "metadata": {},
   "outputs": [
    {
     "name": "stdout",
     "output_type": "stream",
     "text": [
      "type -  <class 'numpy.ndarray'>\n",
      "shape -  (3, 4)\n",
      "ndim -  2\n",
      "dtype -  int32\n",
      "\n",
      "\n",
      "data - \n",
      "[[ 1  2  3  4]\n",
      " [ 5  6  7  8]\n",
      " [ 9 10 11 12]]\n",
      "\n",
      "정수 배열 인덱싱을 이용해서 모든 행의 0,3 열 값 출력 >>>  [[ 1  4]\n",
      " [ 5  8]\n",
      " [ 9 12]]\n",
      "불린 배열 인덱싱을 이용해서 모든 행의 0,3 열 값 출력 >>>  [[ 1  4]\n",
      " [ 5  8]\n",
      " [ 9 12]]\n",
      "5 값 추출 5 <class 'numpy.int32'>\n",
      "[2 10] 값 추출 >>>  [ 2 10]\n",
      "[2] [10] 값 추출 >>>  [[ 2]\n",
      " [10]]\n",
      "[1 3] [9 11] 값 추출 >>> \n"
     ]
    }
   ],
   "source": [
    "# np.arange(1,13)  # 1차원 배열\n",
    "ary = np.arange(1,13).reshape(-1,4)  # 2차원 배열 만들고 싶을 때, 변형 함수 사용\n",
    "aryInfo(ary)\n",
    "print()\n",
    "colIdx = [0,3]\n",
    "print('정수 배열 인덱싱을 이용해서 모든 행의 0,3 열 값 출력 >>> ', ary[ : , colIdx])\n",
    "boolIdx = [True, False, False, True]\n",
    "print('불린 배열 인덱싱을 이용해서 모든 행의 0,3 열 값 출력 >>> ', ary[ : , boolIdx])\n",
    "print('5 값 추출', ary[1,0], type(ary[1,0]))\n",
    "print('[2 10] 값 추출 >>> ', ary[[0, 2], 1])  # 2차원 배열이 리턴 됨\n",
    "print('[2] [10] 값 추출 >>> ', ary[[0,2], 1:2])\n",
    "print('[1 3] [9 11] 값 추출 >>> ')"
   ]
  },
  {
   "cell_type": "code",
   "execution_count": null,
   "id": "443c4771",
   "metadata": {},
   "outputs": [],
   "source": []
  },
  {
   "cell_type": "code",
   "execution_count": null,
   "id": "a64022ba",
   "metadata": {},
   "outputs": [],
   "source": []
  },
  {
   "cell_type": "code",
   "execution_count": null,
   "id": "4a950e20",
   "metadata": {},
   "outputs": [],
   "source": []
  },
  {
   "cell_type": "code",
   "execution_count": null,
   "id": "651bc4d7",
   "metadata": {},
   "outputs": [],
   "source": []
  }
 ],
 "metadata": {
  "kernelspec": {
   "display_name": "Python 3 (ipykernel)",
   "language": "python",
   "name": "python3"
  },
  "language_info": {
   "codemirror_mode": {
    "name": "ipython",
    "version": 3
   },
   "file_extension": ".py",
   "mimetype": "text/x-python",
   "name": "python",
   "nbconvert_exporter": "python",
   "pygments_lexer": "ipython3",
   "version": "3.11.4"
  }
 },
 "nbformat": 4,
 "nbformat_minor": 5
}
