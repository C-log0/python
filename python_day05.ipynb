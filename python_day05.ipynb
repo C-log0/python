{
 "cells": [
  {
   "cell_type": "markdown",
   "id": "f4fbd4c7",
   "metadata": {},
   "source": [
    "#### 반복구문\n",
    "- for ~ in collection(열거형) :\n",
    "- for ~ else\n",
    "- while\n",
    "- break, continue"
   ]
  },
  {
   "cell_type": "code",
   "execution_count": null,
   "id": "2bf26160",
   "metadata": {},
   "outputs": [],
   "source": [
    "for value in range(10) :\n",
    "    print(value , end='\\t')\n",
    "    \n",
    "print()\n",
    "\n",
    "for value in range(1, 10, 2) :\n",
    "    print(value , end='\\t')"
   ]
  },
  {
   "cell_type": "code",
   "execution_count": null,
   "id": "c4d94d3f",
   "metadata": {},
   "outputs": [],
   "source": [
    "scores = []\n",
    "sumTmp = 0\n",
    "meanTmp = 0\n",
    "for idx in range(10) :\n",
    "    score = int(input('성적을 입력하세요 : '))\n",
    "    scores.append(score)\n",
    "    sumTmp += score  # sumTmp = sumTmp + score\n",
    "    \n",
    "print('총합 : ', sumTmp)\n",
    "print('총합 : ', sum(scores))\n",
    "print()\n",
    "print('평균 : ', meanTmp / len(scores))\n",
    "print('평균 : ', sum(scores) / len(scores))"
   ]
  },
  {
   "cell_type": "code",
   "execution_count": null,
   "id": "20af784e",
   "metadata": {},
   "outputs": [],
   "source": [
    "msg = 'see u next time' # 문자열 타입\n",
    "print('dir - ',dir(msg))\n",
    "\n",
    "print()\n",
    "\n",
    "for char in msg :\n",
    "    print(char, end=' ')\n",
    "    \n",
    "for idx in range(len(msg)) :     # 인덱스 역할\n",
    "    print(msg[idx], end='')"
   ]
  },
  {
   "cell_type": "code",
   "execution_count": null,
   "id": "c9bb33ae",
   "metadata": {},
   "outputs": [],
   "source": [
    "tupleTmp = (46,6,3,4,6,3,5,7,4,6,74)\n",
    "print('dir - ', dir(tupleTmp))\n",
    "\n",
    "print()\n",
    "\n",
    "for idx, data in enumerate(tupleTmp) :   # enumerate 는 tuple 형식으로 데이터 넘겨줌\n",
    "    print(idx, data, end='\\n')"
   ]
  },
  {
   "cell_type": "code",
   "execution_count": null,
   "id": "f378db8a",
   "metadata": {},
   "outputs": [],
   "source": [
    "print('리스트에 정의된 요소를 카운트하고 싶다면?')\n",
    "print('{ 1 : 4 , ~~ }')\n",
    "\n",
    "lstTmp = [1,1,5,1,3,4,3,5,5,5,3,1,3,2,2,5]\n",
    "freq={}\n",
    "for data in lstTmp :\n",
    "    if data in freq :\n",
    "        freq[data] += 1\n",
    "    else :\n",
    "        freq[data] = 1\n",
    "print()\n",
    "print(freq)"
   ]
  },
  {
   "cell_type": "code",
   "execution_count": null,
   "id": "b7368ff5",
   "metadata": {},
   "outputs": [],
   "source": [
    "print('guess game')\n",
    "print('1 ~ 100 사이의 난수를 생성하고 숫자를 맞춰보는 게임')\n",
    "\n",
    "from random import randint # random 이라는 모듈이 가지고 있는 함수 (random.~~ 대신)\n",
    "\n",
    "answer = randint(1,100)\n",
    "print('answer - ', answer)"
   ]
  },
  {
   "cell_type": "code",
   "execution_count": null,
   "id": "0e195589",
   "metadata": {},
   "outputs": [],
   "source": [
    "guess = int(input('1 ~ 100 사이의 숫자를 입력하세요 : '))\n",
    "if guess == answer :\n",
    "    print('정답')http://localhost:8888/notebooks/python_day05.ipynb#\n",
    "elif guess > answer :\n",
    "    print('down!')\n",
    "else :\n",
    "    print('up!')"
   ]
  },
  {
   "cell_type": "markdown",
   "id": "9fc8b9ae",
   "metadata": {},
   "source": [
    "퀴즈\n",
    "- 반복구문을 이용하여 횟수 10번으로 제한하고 정답을 맞췄을 경우 시도한 횟수와 정답을 출력하는 구문\n"
   ]
  },
  {
   "cell_type": "code",
   "execution_count": null,
   "id": "f8fad00f",
   "metadata": {},
   "outputs": [],
   "source": [
    "# from random import randint\n",
    "answer = randint(1, 100)\n",
    "tries = 1\n",
    "\n",
    "# print(answer)\n",
    "for idx in range(10) :   # 10번 시도 가능\n",
    "    guess = int(input('1 ~ 100 사이의 숫자를 입력하세요 : '))\n",
    "    if guess == answer :\n",
    "        print('정답!')\n",
    "        break\n",
    "    elif guess > answer :\n",
    "        print('down!')\n",
    "    else :\n",
    "        print('up!')\n",
    "    tries += 1    # 한번 시도 시, tries 가 1 증가한다\n",
    "print('정답 : {}, 횟수 : {}'.format(answer, tries))"
   ]
  },
  {
   "cell_type": "markdown",
   "id": "8ff3f62b",
   "metadata": {},
   "source": [
    "퀴즈\n",
    "- 4년에 한번씩 열리는 아시안게임이 있다\n",
    "- 올해부터 향후 50년동안 열리게 되는 아시안게임의 년도를 출력\n",
    "- 한 줄에 년도 5개를 출력하라\n",
    "- escape sequence : \\n, \\t"
   ]
  },
  {
   "cell_type": "code",
   "execution_count": null,
   "id": "bae8467a",
   "metadata": {
    "scrolled": false
   },
   "outputs": [],
   "source": [
    "cnt = 0   # count\n",
    "for year in range(2023, 2074, 4) :   # 2073 + 1 해주어야 2073 까지 출력 가능!\n",
    "    cnt += 1\n",
    "    if cnt % 5 == 0 :\n",
    "        print(year, end='\\n')\n",
    "    else :\n",
    "        print(year, end='\\t')\n",
    "\n",
    "print()\n",
    "print('1 ~ 50 사이의 숫자 중 3의 배수만 한 줄에 5개씩 출력 - ')\n",
    "cnt = 0   # 변수 다시 선언\n",
    "for num in range(3,51, 3) :\n",
    "    cnt += 1\n",
    "    if cnt % 5 == 0 :\n",
    "        print(num, end = '\\n')\n",
    "    else :\n",
    "        print(num, end = '\\t')\n",
    "        \n",
    "print()\n",
    "print('other case - ')\n",
    "cnt = 0 \n",
    "for year in range(1, 51) :\n",
    "    \n",
    "    if year % 3 == 0 :\n",
    "        cnt += 1\n",
    "        if cnt % 5 == 0 :\n",
    "            print(year, end = '\\n')\n",
    "        else :\n",
    "            print(year, end = '\\t')"
   ]
  },
  {
   "cell_type": "code",
   "execution_count": null,
   "id": "26ba4f22",
   "metadata": {},
   "outputs": [],
   "source": [
    "print('구구단 - ')\n",
    "dan = int(input('단을 입력하세요 : '))\n",
    "\n",
    "for gu in range(1,10):\n",
    "    print('{} * {} = {}'.format(dan, gu, (dan*gu)))"
   ]
  },
  {
   "cell_type": "code",
   "execution_count": null,
   "id": "ef48ded9",
   "metadata": {},
   "outputs": [],
   "source": [
    "print('구구단 - ')\n",
    "\n",
    "for row in range(2,10) :\n",
    "    print('>>>>>>>>>>>>>>> row', row)\n",
    "    for col in range(1,10) :\n",
    "#         print('col', col , end = '\\t')\n",
    "        print('{} * {} = {}'.format(row, col, (row * col) , end = '\\t'))\n",
    "    print()\n",
    "    \n",
    "print()"
   ]
  },
  {
   "cell_type": "code",
   "execution_count": null,
   "id": "6ab9de5d",
   "metadata": {},
   "outputs": [],
   "source": [
    "for row in range(2,10) :\n",
    "    print(row, '단')\n",
    "    for col in range(1,10) :\n",
    "#         print('row', col , end = '\\t')\n",
    "        print('{} * {} = {}'.format(row, col, (row * col)) , end = ' ')\n",
    "    print()"
   ]
  },
  {
   "cell_type": "code",
   "execution_count": null,
   "id": "9d21a872",
   "metadata": {},
   "outputs": [],
   "source": [
    "print('break , continue - ')\n",
    "print()\n",
    "for row in range(2,10) :\n",
    "\n",
    "    if row == 5 :\n",
    "        continue\n",
    "    print('>>>>>>>>> row ,', row)\n",
    "    for col in range(1,10) :\n",
    "        print('{} * {} = {}'.format(row, col, (row * col) , end = '\\t'))\n",
    "    print()\n",
    "        if row == 3 :\n",
    "            break\n"
   ]
  },
  {
   "cell_type": "code",
   "execution_count": null,
   "id": "c8c79f42",
   "metadata": {},
   "outputs": [],
   "source": [
    "print('for ~ else ')\n",
    "numbers = [23, 14, 33, 76, 86, 77, 89, 60, 11, 39, 84]\n",
    "find = 100\n",
    "\n",
    "for data in numbers :   # 시작, 끝 (반복의 횟수 알 수 있음)\n",
    "    if data == find :)\n",
    "        print('find')\n",
    "        break\n",
    "else :\n",
    "    print('not found')"
   ]
  },
  {
   "cell_type": "markdown",
   "id": "0a624453",
   "metadata": {},
   "source": [
    "while , while ~ else\n",
    "- 반복 횟수를 알 수 없음(for문과 차이). 특정 조건을 만족할 때 까지\n",
    "- 변수 생성 불가 True / False 로 판단\n",
    "- 조건식 False가 될 때까지 무한반복\n",
    "- for 변수 in 열거형(튜플, 리스트, 문자열 등 반복 가능한 객체) :"
   ]
  },
  {
   "cell_type": "code",
   "execution_count": null,
   "id": "cb53b02b",
   "metadata": {},
   "outputs": [],
   "source": [
    "'''\n",
    "초기식\n",
    "while 조건식 :\n",
    "    실행문\n",
    "    증감식\n",
    "'''\n",
    "tmp = 0\n",
    "for value in range(1,11) :\n",
    "    tmp += value\n",
    "print(tmp)\n",
    "print()\n",
    "print('while -')\n",
    "tmp = 0\n",
    "idx = 1\n",
    "while idx <= 10 :\n",
    "    print('idx , ', idx)\n",
    "    tmp += idx\n",
    "    idx += 1\n"
   ]
  },
  {
   "cell_type": "code",
   "execution_count": null,
   "id": "9bc01cf3",
   "metadata": {},
   "outputs": [],
   "source": [
    "lst = []   # 비어있는 리스트\n",
    "print('bool - ', bool(lst))\n",
    "while lst :    # 리스트에 값을 넣어주더라도 증감식이 없으므로 무한루프 발생\n",
    "    print('True')   # 값이 없으므로 출력되지 않는다\n",
    "    \n",
    "print()\n",
    "\n",
    "lst =['한','조','류','고','최']\n",
    "print('bool - ', bool(lst))\n",
    "while lst :\n",
    "    print(lst.pop())"
   ]
  },
  {
   "cell_type": "code",
   "execution_count": null,
   "id": "4920be4a",
   "metadata": {},
   "outputs": [],
   "source": [
    "cnt = 5\n",
    "while cnt > 0 :\n",
    "    print(cnt)\n",
    "    \n",
    "    if cnt == 2 :\n",
    "#         continue   => 아래의 -1이 수행되지않으므로 무한루프 발생\n",
    "        break\n",
    "    \n",
    "    cnt -= 1"
   ]
  },
  {
   "cell_type": "code",
   "execution_count": null,
   "id": "51ceeb51",
   "metadata": {},
   "outputs": [],
   "source": [
    "print('guess game - while ')\n",
    "answer = randint(1,100)\n",
    "print(answer)\n",
    "\n",
    "isFlag = True\n",
    "while isFlag :\n",
    "    guess = int(input('1 ~ 100 사이의 숫자를 입력하세요 : '))\n",
    "    if guess == answer :\n",
    "        print('정답')\n",
    "        isFlag = False  # break 역할\n",
    "    elif guess> answer :\n",
    "        print('down!')\n",
    "    else :\n",
    "        print('up!')\n",
    "\n",
    "    "
   ]
  },
  {
   "cell_type": "markdown",
   "id": "2e2551ca",
   "metadata": {},
   "source": [
    "- while ~ else"
   ]
  },
  {
   "cell_type": "code",
   "execution_count": null,
   "id": "95694a7b",
   "metadata": {},
   "outputs": [],
   "source": [
    "cnt = 10\n",
    "while cnt > 0 :\n",
    "    print(cnt)\n",
    "    cnt -= 1\n",
    "    \n",
    "print('-----------------')\n",
    "\n",
    "cnt = 10\n",
    "while cnt > 0 :\n",
    "    cnt -= 1\n",
    "    print(cnt)\n",
    "    \n"
   ]
  },
  {
   "cell_type": "code",
   "execution_count": null,
   "id": "9e96d574",
   "metadata": {},
   "outputs": [],
   "source": [
    "cnt = 10\n",
    "while cnt > 0 :\n",
    "    print(cnt)\n",
    "    if cnt == 5 :\n",
    "        break\n",
    "    cnt -= 1\n",
    "else :\n",
    "    print('while ~ else ')"
   ]
  },
  {
   "cell_type": "markdown",
   "id": "3deba8b3",
   "metadata": {},
   "source": [
    "퀴즈\n",
    "- while\n",
    "- 1 ~ 100 까지의 합, 5의 배수의 합\n",
    "- 3의 배수이면서 5의 배수의 합"
   ]
  },
  {
   "cell_type": "code",
   "execution_count": null,
   "id": "11499345",
   "metadata": {},
   "outputs": [],
   "source": [
    "cnt = 0\n",
    "sum01 = 0\n",
    "sum02 = 0\n",
    "sum03 = 0\n",
    "# cnt = sum01 = sum02 = sum 03 = 0  => 파이썬에서만 허용하는 변수선언(초기화) 문법\n",
    "\n",
    "while cnt <= 100 :\n",
    "    sum01 += cnt\n",
    "    \n",
    "    if cnt % 5 == 0 :\n",
    "        sum02 += cnt\n",
    "        \n",
    "    if cnt % 3 == 0 and cnt % 5 == 0  :\n",
    "        sum03 += cnt\n",
    "        \n",
    "    cnt += 1\n",
    "print()\n",
    "#     sum01 += cnt\n",
    "print('sum 1~100',sum01)\n",
    "print('sum 1~100',sum02)\n",
    "print('sum 1~100',sum03)"
   ]
  },
  {
   "cell_type": "code",
   "execution_count": null,
   "id": "b514fd59",
   "metadata": {},
   "outputs": [],
   "source": [
    "inputDatas = []\n",
    "\n",
    "while True :\n",
    "    data = input('먹고싶은 음식을 입력하세요 : (종료를 원하시면 엔터를 입력하세요 )')\n",
    "    if data == '' :\n",
    "        break\n",
    "    inputDatas.append(data)"
   ]
  },
  {
   "cell_type": "code",
   "execution_count": null,
   "id": "d5658bca",
   "metadata": {},
   "outputs": [],
   "source": [
    "for food in inputDatas :\n",
    "    print(food , end='\\t')"
   ]
  },
  {
   "cell_type": "code",
   "execution_count": null,
   "id": "9fb934e0",
   "metadata": {},
   "outputs": [],
   "source": [
    "msg = '문자열 데이터를 while 구문으로 구현할 수 있을까?'\n",
    "for char in msg :\n",
    "    print(char, end=' ')\n",
    "\n",
    "print()\n",
    "print('case01 - ')\n",
    "\n",
    "idx = 0\n",
    "print(len(msg))\n",
    "while msg :\n",
    "    print(msg[idx], end =' ')\n",
    "    idx += 1          # idx = 29\n",
    "    \n",
    "    if idx == len(msg) :      # len(msg) = 30\n",
    "        break\n",
    "\n",
    "print()\n",
    "print('case02 - ')\n",
    "idx = 0\n",
    "while idx < len(msg) :\n",
    "    print(msg[idx], end =' ')\n",
    "    idx += 1"
   ]
  },
  {
   "cell_type": "markdown",
   "id": "5ce66e92",
   "metadata": {},
   "source": [
    "퀴즈\n",
    "- 아래 문자열을 이용하여 몇문장인지, 그리고 각 문장의 단어의 수를 확인하고 싶다면?"
   ]
  },
  {
   "cell_type": "code",
   "execution_count": null,
   "id": "88551bdd",
   "metadata": {},
   "outputs": [],
   "source": [
    "str = '''안녕하세요.\n",
    "오늘은 목요일 목요일 입니다.\n",
    "내일 드디어 끝난다.\n",
    "파이팅 입니다.\n",
    "하루만 버티자'''\n",
    "# 문장의 끝에는 \\n이 있다!\n",
    "\n",
    "sent = len(str.split('\\n'))\n",
    "print('문장 수 : ',sent)\n",
    "\n",
    "words = len(str.split())\n",
    "print('단어 수 : ', words)\n",
    "\n"
   ]
  },
  {
   "cell_type": "code",
   "execution_count": null,
   "id": "12b4c8fb",
   "metadata": {},
   "outputs": [],
   "source": [
    "sentences = []\n",
    "words     = []\n",
    "for s in str.split('\\n') :  # s = 하나의 문장을 의미\n",
    "#     print(s)\n",
    "    sentences.append(s)\n",
    "    words.append( len(s.split()) )\n",
    "            \n",
    "print ('문장 수 : ', len(sentences))\n",
    "print ('단어 수 : ', len(words))\n",
    "\n",
    "result = dict(zip(sentences, words))\n",
    "print(result)"
   ]
  },
  {
   "cell_type": "code",
   "execution_count": null,
   "id": "08e43a55",
   "metadata": {},
   "outputs": [],
   "source": [
    "str.split('\\n') # list에 넣어줌\n"
   ]
  },
  {
   "cell_type": "markdown",
   "id": "dda15462",
   "metadata": {},
   "source": [
    "#### 실습"
   ]
  },
  {
   "cell_type": "code",
   "execution_count": null,
   "id": "cd1d5bc5",
   "metadata": {},
   "outputs": [],
   "source": [
    "# 문제 01\n",
    "\n",
    "# 아래 리스트에서 세 글자 이상인 문자만 출력한다면?\n",
    "# hint - len()\n",
    "print()\n",
    "tmpList = ['I' , 'AM' , 'study' , 'PYTHON' , 'language' , '!']\n",
    "\n",
    "for word in tmpList :\n",
    "    if len(word) >= 3 :\n",
    "        print(word)\n",
    "   "
   ]
  },
  {
   "cell_type": "code",
   "execution_count": null,
   "id": "acce7920",
   "metadata": {},
   "outputs": [],
   "source": [
    "# 문제 02 \n",
    "\n",
    "# 확장자를 제외하고 파일 이름만 출력한다면?\n",
    "# split()\n",
    "tmpList = ['greeting.py' , 'ex01.py' , 'intro.hwp' , 'bigdata.doc']\n",
    "\n",
    "for file in tmpList :\n",
    "    print(file.split('.')[0])\n",
    "    "
   ]
  },
  {
   "cell_type": "code",
   "execution_count": null,
   "id": "a7f16c74",
   "metadata": {},
   "outputs": [],
   "source": [
    "# 문제 03\n",
    "\n",
    "# 인덱스 번호와 요소값을 확인한다면 ? \n",
    "tmpList = ['greeting.py' , 'ex01.py' , 'intro.hwp' , 'bigdata.doc']\n",
    "\n",
    "for idx in range(len(tmpList)) :\n",
    "    print(idx, '번 : ' , tmpList[idx])\n",
    "\n",
    "    "
   ]
  },
  {
   "cell_type": "code",
   "execution_count": null,
   "id": "f01399f6",
   "metadata": {},
   "outputs": [],
   "source": [
    "# 문제 04\n",
    "\n",
    "# 아래와 같이 리스트의 데이터를 출력하라. 단, for문과 range문을 사용하라.\n",
    "price_list = [32100, 32150, 32000, 32500]\n",
    "# for data in price_list :\n",
    "#     print(data)\n",
    "\n",
    "print()\n",
    "\n",
    "for idx in range( len(price_list) ) :\n",
    "    print(price_list[idx])"
   ]
  },
  {
   "cell_type": "code",
   "execution_count": null,
   "id": "5e576f39",
   "metadata": {},
   "outputs": [],
   "source": [
    "# 문제 05\n",
    "\n",
    "# 리스트에 주식 종목이름이 저장돼 있다.\n",
    "lst = [\"SK하이닉스\", \"삼성전자\", \"LG전자\"]\n",
    "# 저장된 문자열의 길이를 출력하라.\n",
    "\n",
    "# print(lst[0])\n",
    "# length = len(lst[0])\n",
    "# print(length)\n",
    "\n",
    "for jm in lst :\n",
    "    print(len(jm))\n"
   ]
  },
  {
   "cell_type": "code",
   "execution_count": null,
   "id": "0bc292bd",
   "metadata": {},
   "outputs": [],
   "source": [
    "# 문제 06\n",
    "\n",
    "# 리스트에는 동물이름이 문자열로 저장돼 있다.\n",
    "lst = ['dog', 'cat', 'parrot']\n",
    "# 동물 이름과 글자수를 다음과 같이 출력하라\n",
    "\n",
    "for animal in lst :\n",
    "    print( animal,len(animal) )"
   ]
  },
  {
   "cell_type": "code",
   "execution_count": null,
   "id": "57268228",
   "metadata": {},
   "outputs": [],
   "source": [
    "# 문제 07\n",
    "\n",
    "# 리스트에 동물 이름 저장돼 있다.\n",
    "lst = ['dog', 'cat', 'parrot']\n",
    "# for문을 사용해서 동물 이름의 첫 글자만 출력하라.\n",
    "\n",
    "for ani in lst :\n",
    "    print(ani[0])"
   ]
  },
  {
   "cell_type": "code",
   "execution_count": null,
   "id": "7d82a07c",
   "metadata": {},
   "outputs": [],
   "source": [
    "# 문제 08\n",
    "\n",
    "# 리스트에는 네 개의 문자열이 바인딩돼 있다.\n",
    "lst = [\"가\", \"나\", \"다\", \"라\"]\n",
    "# for문을 사용해서 다음과 같이 출력하고 \n",
    "# 반대로도 출력하라 \n",
    "    # 가\n",
    "    # 다\n",
    "for idx, data in enumerate(lst) :\n",
    "#     print(data)\n",
    "    if idx % 2 == 0 :\n",
    "        print(data)\n",
    "    \n",
    "    "
   ]
  },
  {
   "cell_type": "code",
   "execution_count": null,
   "id": "37279555",
   "metadata": {},
   "outputs": [],
   "source": [
    "# 문제 09\n",
    "\n",
    "# 리스트에는 네 개의 정수가 저장돼 있다.\n",
    "lst = [3, -20, -3, 44]\n",
    "# for문을 사용해서 리스트의 음수를 출력하라.\n",
    "\n",
    "for data in lst :\n",
    "    if data < 0 :\n",
    "        print(data)"
   ]
  },
  {
   "cell_type": "code",
   "execution_count": null,
   "id": "4b8c5aad",
   "metadata": {},
   "outputs": [],
   "source": [
    "# 문제 10\n",
    "\n",
    "# 리스트에서 대문자(소문자)만 화면에 출력하라.\n",
    "# hint - isupper\n",
    "lst = [\"A\", \"b\", \"c\", \"D\"]\n",
    "for data in lst :\n",
    "    if (data).isupper() :\n",
    "        print(data)"
   ]
  },
  {
   "cell_type": "code",
   "execution_count": null,
   "id": "966ae31b",
   "metadata": {},
   "outputs": [],
   "source": [
    "# 문제 11\n",
    "\n",
    "# 제공되는 문자열을 이용하여 모든 문자를 대문자로 변경하라.\n",
    "name = 'FineApplE'\n",
    "\n",
    "# for data in name :\n",
    "print(name.upper())"
   ]
  },
  {
   "cell_type": "code",
   "execution_count": null,
   "id": "2528caae",
   "metadata": {},
   "outputs": [],
   "source": [
    "# 문제 12\n",
    " \n",
    "apart = [ [\"101호\", \"102호\"], [\"201호\", \"202호\"], [\"301호\", \"302호\"] ] # list\n",
    "\n",
    "# 해당 데이터를 이용하여\n",
    "# 아래와 같이 출력하라\n",
    "#         101 호\n",
    "#         102 호\n",
    "#         201 호\n",
    "#         202 호\n",
    "#         301 호\n",
    "#         302 호\n",
    "\n",
    "# print(apart[0], type(apart[0]))\n",
    "# print(apart[0][0])\n",
    "# print(apart[0][1])\n",
    "\n",
    "for row in apart :\n",
    "#     print(row)\n",
    "    for home in row :\n",
    "        print(home)\n",
    "    print('*' * 5)"
   ]
  },
  {
   "cell_type": "code",
   "execution_count": null,
   "id": "c224dd5f",
   "metadata": {},
   "outputs": [],
   "source": [
    "# 문제 13\n",
    "\n",
    "# 오늘 실습한 구구단을 while 구문을 이용하여 작성하라.\n",
    "\n",
    "# for row in range(2,10) :\n",
    "#     print('>>>>>>>>>>>>>>> row', row)\n",
    "#     for col in range(1,10) :\n",
    "#         print('{} * {} = {}'.format(row, col, (row * col) , end = '\\t'))\n",
    "#     print()\n",
    "    \n",
    "# gu = 1\n",
    "# dan = 2\n",
    "# while gu <= 9 :\n",
    "    \n",
    "#     print(dan)\n",
    "#     while dan < 10 :\n",
    "#         print(dan)\n",
    "#         dan += 1\n",
    "# print('{}*{} = {}'.format(gu, dan, gu * dan))\n",
    "    "
   ]
  },
  {
   "cell_type": "code",
   "execution_count": null,
   "id": "ca924592",
   "metadata": {},
   "outputs": [],
   "source": []
  }
 ],
 "metadata": {
  "kernelspec": {
   "display_name": "Python 3 (ipykernel)",
   "language": "python",
   "name": "python3"
  },
  "language_info": {
   "codemirror_mode": {
    "name": "ipython",
    "version": 3
   },
   "file_extension": ".py",
   "mimetype": "text/x-python",
   "name": "python",
   "nbconvert_exporter": "python",
   "pygments_lexer": "ipython3",
   "version": "3.11.4"
  }
 },
 "nbformat": 4,
 "nbformat_minor": 5
}
