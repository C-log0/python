{
 "cells": [
  {
   "cell_type": "code",
   "execution_count": 41,
   "id": "015e04bd",
   "metadata": {},
   "outputs": [],
   "source": [
    "def readFile(path, encoding):\n",
    "    with open(path, mode = 'r', encoding = encoding) as file:\n",
    "#         text = file.read() # - 전체 문장을 하나의 str, file.readline() - 한문장 str, file.readLines() - list로 리턴\n",
    "#         print(type(text) , text)\n",
    "        \n",
    "        # case 01\n",
    "#         txt = file.readline()\n",
    "#         while txt != '' :\n",
    "#             txt = file.readline()\n",
    "#             print(type(txt) , txt)\n",
    "        \n",
    "        # case 02\n",
    "        print()\n",
    "        print('readlines() - ')\n",
    "        # list는 변수에 담아와야함\n",
    "        lst = file.readlines()\n",
    "        for idx, sentence in enumerate(lst):\n",
    "            print('idx - ', idx, sentence)\n",
    "\n",
    "def writeFile(path, encoding):\n",
    "    with open(path, mode = 'w', encoding = encoding) as file :\n",
    "#         print('dir - ', dir(file))\n",
    "        data = input('데이터를 입력하세요 : ')\n",
    "        while data != '' :     # 증감식 없으면 무한루프됨...\n",
    "            file.write(data+'\\n')\n",
    "            data = input('데이터를 입력하세요 : ')\n",
    "        \n",
    "def appendFile(path, encoding):\n",
    "    with open(path, mode = 'a', encoding = encoding) as file :\n",
    "        print('dir - ', dir(file))\n",
    "        data = input('데이터를 입력하세요 : ')\n",
    "        while data != '' :     \n",
    "            file.write(data+'\\n')\n",
    "            data = input('데이터를 입력하세요 : ')\n",
    "\n",
    "def fileSampleFunc(path, mode, encoding):\n",
    "    if mode == 'r' :\n",
    "        readFile(path, encoding)\n",
    "    elif mode == 'w':\n",
    "        writeFile(path, encoding)\n",
    "    else: # append\n",
    "        appendFile(path, encoding)"
   ]
  },
  {
   "cell_type": "code",
   "execution_count": 42,
   "id": "b41ed7aa",
   "metadata": {
    "scrolled": true
   },
   "outputs": [
    {
     "name": "stdout",
     "output_type": "stream",
     "text": [
      "mode = r 읽기 - \n",
      "\n",
      "readlines() - \n",
      "idx -  0 greeting.txt 파일입니다.\n",
      "\n",
      "idx -  1 내용 없음\n",
      "\n",
      "idx -  2 뭐라고하지...?\n",
      "\n",
      "idx -  3 출력하기 연습중\n"
     ]
    }
   ],
   "source": [
    "print('mode = r 읽기 - ')\n",
    "fileSampleFunc('../data/greeting.txt', 'r', 'UTF-8')"
   ]
  },
  {
   "cell_type": "code",
   "execution_count": 43,
   "id": "0b658a62",
   "metadata": {},
   "outputs": [
    {
     "name": "stdout",
     "output_type": "stream",
     "text": [
      "mode = w 쓰기 - \n",
      "데이터를 입력하세요 : 123\n",
      "데이터를 입력하세요 : ㅇㅇ\n",
      "데이터를 입력하세요 : \n"
     ]
    }
   ],
   "source": [
    "print('mode = w 쓰기 - ')\n",
    "fileSampleFunc('../data/testing.txt', 'w', 'UTF-8')"
   ]
  },
  {
   "cell_type": "code",
   "execution_count": 44,
   "id": "c52ee297",
   "metadata": {},
   "outputs": [
    {
     "name": "stdout",
     "output_type": "stream",
     "text": [
      "mode = a 추가 - \n",
      "dir -  ['_CHUNK_SIZE', '__class__', '__del__', '__delattr__', '__dict__', '__dir__', '__doc__', '__enter__', '__eq__', '__exit__', '__format__', '__ge__', '__getattribute__', '__getstate__', '__gt__', '__hash__', '__init__', '__init_subclass__', '__iter__', '__le__', '__lt__', '__ne__', '__new__', '__next__', '__reduce__', '__reduce_ex__', '__repr__', '__setattr__', '__sizeof__', '__str__', '__subclasshook__', '_checkClosed', '_checkReadable', '_checkSeekable', '_checkWritable', '_finalizing', 'buffer', 'close', 'closed', 'detach', 'encoding', 'errors', 'fileno', 'flush', 'isatty', 'line_buffering', 'mode', 'name', 'newlines', 'read', 'readable', 'readline', 'readlines', 'reconfigure', 'seek', 'seekable', 'tell', 'truncate', 'writable', 'write', 'write_through', 'writelines']\n",
      "데이터를 입력하세요 : ㄴㄴ\n",
      "데이터를 입력하세요 : ㅇㅇ\n",
      "데이터를 입력하세요 : \n"
     ]
    }
   ],
   "source": [
    "print('mode = a 추가 - ')\n",
    "fileSampleFunc('../data/testing.txt', 'a', 'UTF-8')"
   ]
  },
  {
   "cell_type": "markdown",
   "id": "8deea36a",
   "metadata": {},
   "source": [
    " Quiz\n",
    "- with open 구문과 input 함수를 이용해서 exit 문자가 들어오기 전까지 입력된 데이터를 파일에 저장\n",
    "- 파일 위치 및 파일명('../data/multiline.txt')\n",
    "- 정상적으로 출력이 되었으면 파일을 읽어보자 read()"
   ]
  },
  {
   "cell_type": "code",
   "execution_count": 45,
   "id": "0ff92103",
   "metadata": {},
   "outputs": [],
   "source": [
    "def writeFile(path, encoding):\n",
    "    with open(path, mode = 'w', encoding = encoding) as file :\n",
    "#         print('dir - ', dir(file))\n",
    "        data = input('데이터를 입력하세요 : ')\n",
    "        while data != 'exit' :     # 증감식 없으면 무한루프됨...\n",
    "            file.write(data+'\\n')\n",
    "            data = input('데이터를 입력하세요 : ')\n",
    "   \n",
    "\n",
    "# 왜 빨간색이야?\n",
    "def fileFunc(path, mode, encoding):\n",
    "    if mode == 'r' :\n",
    "        readFile(path, encoding)\n",
    "    elif mode == 'w':\n",
    "        writeFile(path, encoding)\n",
    "    else: # append\n",
    "        appendFile(path, encoding)"
   ]
  },
  {
   "cell_type": "code",
   "execution_count": 46,
   "id": "91105148",
   "metadata": {},
   "outputs": [
    {
     "name": "stdout",
     "output_type": "stream",
     "text": [
      "mode = w 쓰기 - \n",
      "데이터를 입력하세요 : 글쓰기\n",
      "데이터를 입력하세요 : 둘째줄\n",
      "데이터를 입력하세요 : 계속\n",
      "데이터를 입력하세요 : 끝\n",
      "데이터를 입력하세요 : \n",
      "데이터를 입력하세요 : exit\n"
     ]
    }
   ],
   "source": [
    "print('mode = w 쓰기 - ')\n",
    "fileFunc('../data/multiline.txt', 'w', 'UTF-8')"
   ]
  },
  {
   "cell_type": "code",
   "execution_count": 47,
   "id": "e5e83bb7",
   "metadata": {},
   "outputs": [
    {
     "name": "stdout",
     "output_type": "stream",
     "text": [
      "dir -  <class 'str'>\n",
      "data - \n",
      " 글쓰기\n",
      "둘째줄\n",
      "계속\n",
      "끝\n",
      "\n",
      "\n",
      "type -  <class 'list'>\n",
      "글쓰기\n",
      "둘째줄\n",
      "계속\n",
      "끝\n",
      "\n",
      "\n"
     ]
    }
   ],
   "source": [
    "with open('../data/multiline.txt', mode = 'r', encoding = 'UTF-8') as file :\n",
    "    txt = file.read()\n",
    "    print('dir - ', type(txt))\n",
    "    print('data - \\n' , txt)\n",
    "    \n",
    "    lst = txt.split('\\n')\n",
    "    print('type - ', type(lst))\n",
    "    for data in lst :\n",
    "        print(data)"
   ]
  },
  {
   "cell_type": "code",
   "execution_count": 48,
   "id": "c91c7855",
   "metadata": {},
   "outputs": [
    {
     "name": "stdout",
     "output_type": "stream",
     "text": [
      "데이터를 입력하세요 : 안녕하세요\n",
      "데이터를 입력하세요 : 새로운 파일입니다\n",
      "데이터를 입력하세요 : 길다\n",
      "데이터를 입력하세요 : exit\n"
     ]
    }
   ],
   "source": [
    "# 풀이 (함수 아닌 방법)\n",
    "\n",
    "with open('../data/multiline01.txt', mode = 'w', encoding = 'utf-8') as file :\n",
    "    isFlag = True\n",
    "    while isFlag :\n",
    "        data = input('데이터를 입력하세요 : ')\n",
    "        if data == 'exit' :\n",
    "            isFlag = False\n",
    "        else :\n",
    "            file.write(data+'\\n')"
   ]
  },
  {
   "cell_type": "markdown",
   "id": "549cf11d",
   "metadata": {},
   "source": [
    "#### Quiz\n",
    "- word_cnt.txt 파일로부터 줄 단위로 (readline()) 데이터를 읽어서\n",
    "  단어의 길이가 10 이상인 데이터를 카운팅 한다면?"
   ]
  },
  {
   "cell_type": "code",
   "execution_count": 49,
   "id": "fd84ffb1",
   "metadata": {},
   "outputs": [
    {
     "name": "stdout",
     "output_type": "stream",
     "text": [
      "10자 이상인 단어의 숫자는 :  7\n"
     ]
    }
   ],
   "source": [
    "with open('../data/word_cnt.txt', mode = 'r', encoding = 'utf-8') as file :  # 파일 자체가 객체임\n",
    "    cnt = 0\n",
    "    for line in file :\n",
    "        word = line.strip('\\n')\n",
    "        if len(word) >= 10 :\n",
    "            cnt += 1\n",
    "#             print(word)\n",
    "    print('10자 이상인 단어의 숫자는 : ', cnt)\n",
    "   \n"
   ]
  },
  {
   "cell_type": "markdown",
   "id": "c1cc8b1f",
   "metadata": {},
   "source": [
    "- 제공된 special_words.txt 파일로부터 문자'c'가 포함된 단어를 각 줄에 출력\n",
    "- 단어를 출력할 때 등장한 순서대로 출력\n",
    "- split, in 이용\n",
    "- 특수문자를 제거하기 위해서 정규표현식(re)"
   ]
  },
  {
   "cell_type": "code",
   "execution_count": null,
   "id": "9ef37a9d",
   "metadata": {},
   "outputs": [],
   "source": [
    "with open('../data/special_words.txt', mode = 'r', encoding = 'utf-8') as file :\n",
    "#     print(file.readline())    # 하나의 문자열로 받아옴\n",
    "#     print(file.read())\n",
    "    words = file.read().split()\n",
    "    words = [ word.strip(',.') for word in words ]  # 공백제거 strip() 에 ',.' 특정 단어 넣으면 제거됨\n",
    "#     print(words)    # ', 와 .' 까지 함께 출력됨\n",
    "    for word in words :\n",
    "        if 'c' in word :\n",
    "            print(word)"
   ]
  },
  {
   "cell_type": "code",
   "execution_count": null,
   "id": "e8ba79fe",
   "metadata": {},
   "outputs": [],
   "source": [
    "'''\n",
    "회문(Palindrome)\n",
    "sos\n",
    "madam\n",
    "\n",
    "idx = len(word) // 2\n",
    "0 1 2 3 4 5 6 7 8 9 10\n",
    "m u l t i c a m p a s\n",
    "11 10 9 8 7 6 5 4 3 2 1 (-)\n",
    "'''"
   ]
  },
  {
   "cell_type": "code",
   "execution_count": 52,
   "id": "c44b22f7",
   "metadata": {},
   "outputs": [
    {
     "name": "stdout",
     "output_type": "stream",
     "text": [
      "true\n",
      "\n",
      "\n",
      "true\n"
     ]
    }
   ],
   "source": [
    "word = '12344321'\n",
    "# list(reversed(word))    # 객체를 list 로 형변환\n",
    "if list(word) == list(reversed(word)) :\n",
    "    print('true')\n",
    "else :\n",
    "    print('false')\n",
    "\n",
    "print()\n",
    "print()\n",
    "\n",
    "if word == word[::-1] :\n",
    "    print('true')\n",
    "else :\n",
    "    print('false')"
   ]
  },
  {
   "cell_type": "markdown",
   "id": "b4d0c738",
   "metadata": {},
   "source": [
    "#### 퀴즈\n",
    "- 제공되는 파일을 읽어들여서 회문인 단어를 출력하고 회문인 단어의 갯수를 카운팅하고 싶다면?\n",
    "- 주의) 단어의 줄 바꿈이 발생되는데 해결하라."
   ]
  },
  {
   "cell_type": "code",
   "execution_count": 57,
   "id": "ddcf40f5",
   "metadata": {},
   "outputs": [
    {
     "name": "stdout",
     "output_type": "stream",
     "text": [
      "회문인 단어의 갯수는 :  7\n",
      "회문인 단어의 갯수는 :  7\n",
      "did\n",
      "회문인 단어의 갯수는 :  8\n",
      "회문인 단어의 갯수는 :  8\n",
      "noon\n",
      "회문인 단어의 갯수는 :  9\n",
      "refer\n",
      "회문인 단어의 갯수는 :  10\n",
      "회문인 단어의 갯수는 :  10\n"
     ]
    }
   ],
   "source": [
    "with open('../data/palindrome_words.txt', mode = 'r', encoding = 'utf-8') as file :\n",
    "#     if list(word) == list(reversed(word)) :\n",
    "#     print('true')\n",
    "# else :\n",
    "#     print('false')\n",
    "    for word in file :\n",
    "        if word.strip() == word.strip()[::-1] :\n",
    "            print(word.strip())\n",
    "            cnt += 1\n",
    "        print('회문인 단어의 갯수는 : ', cnt)\n"
   ]
  },
  {
   "cell_type": "code",
   "execution_count": null,
   "id": "6e1c790d",
   "metadata": {},
   "outputs": [],
   "source": [
    "'''\n",
    "json(Java Standard Object Notation)\n",
    "- 네트워크 상에서 표준으로 사용되는 파일 형식\n",
    "- encoding : python(dict), json : dumps()\n",
    "\n",
    "-decoding : json -> python(dict, list) : loads()\n",
    "\n",
    "'''\n"
   ]
  },
  {
   "cell_type": "code",
   "execution_count": null,
   "id": "6ac93077",
   "metadata": {},
   "outputs": [],
   "source": [
    "import json as j    # j = 별칭a\n",
    "\n",
    "tmp = {'id' : 'asf123', 'alias' : '나야'}\n",
    "print('type - ', type(tmp))\n",
    "\n",
    "print()\n",
    "tmpJson = j.dumps(tmp)\n",
    "print('type - ', type(tmpJson), tmpJson)\n",
    "\n",
    "pyJson = j.loads(tmpJson)\n",
    "print('type - ', type(pyJson), pyJson)"
   ]
  },
  {
   "cell_type": "code",
   "execution_count": null,
   "id": "e63c0fe5",
   "metadata": {},
   "outputs": [],
   "source": []
  }
 ],
 "metadata": {
  "kernelspec": {
   "display_name": "Python 3 (ipykernel)",
   "language": "python",
   "name": "python3"
  },
  "language_info": {
   "codemirror_mode": {
    "name": "ipython",
    "version": 3
   },
   "file_extension": ".py",
   "mimetype": "text/x-python",
   "name": "python",
   "nbconvert_exporter": "python",
   "pygments_lexer": "ipython3",
   "version": "3.11.4"
  }
 },
 "nbformat": 4,
 "nbformat_minor": 5
}
