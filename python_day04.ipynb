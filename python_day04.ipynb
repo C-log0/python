{
 "cells": [
  {
   "cell_type": "markdown",
   "id": "66bd4d49",
   "metadata": {},
   "source": [
    "#### boolean type\n",
    "- True | False\n",
    "- 논리연산자 (not, and, or)\n",
    "- 비교연산자 (~, &, |)\n",
    "- 비어있는 값을 False로 본다 : ' ', [ ], { }, ( ), None => Falsy\n"
   ]
  },
  {
   "cell_type": "code",
   "execution_count": 4,
   "id": "ba6cdde6",
   "metadata": {},
   "outputs": [
    {
     "name": "stdout",
     "output_type": "stream",
     "text": [
      "비교연산 -  0\n",
      "비교연산 -  5\n"
     ]
    }
   ],
   "source": [
    "intValue01 = 5  # 0101\n",
    "intValue02 = 0  # 0000\n",
    "print('비교연산 - ', intValue01 & intValue02)\n",
    "print('비교연산 - ', intValue01 | intValue02)"
   ]
  },
  {
   "cell_type": "code",
   "execution_count": 8,
   "id": "6a3e99f7",
   "metadata": {},
   "outputs": [
    {
     "name": "stdout",
     "output_type": "stream",
     "text": [
      "True True True True True\n"
     ]
    }
   ],
   "source": [
    "lstTmp = [1,2]\n",
    "strTmp = 'str'\n",
    "dictTmp = {'key' : 'value'}\n",
    "boolTmp = True\n",
    "intTmp = 1\n",
    "\n",
    "print(bool(lstTmp), bool(strTmp),bool(dictTmp),boolTmp, bool(intTmp))"
   ]
  },
  {
   "cell_type": "code",
   "execution_count": 18,
   "id": "712e8f1d",
   "metadata": {},
   "outputs": [
    {
     "name": "stdout",
     "output_type": "stream",
     "text": [
      "논리연산자 - \n",
      "and -  False\n",
      "or -  True\n",
      "not -  False\n"
     ]
    }
   ],
   "source": [
    "print('논리연산자 - ')\n",
    "trueTmp = True\n",
    "falseTmp = False\n",
    "\n",
    "print('and - ', trueTmp and falseTmp)\n",
    "print('or - ', trueTmp or falseTmp)\n",
    "print('not - ', not trueTmp)"
   ]
  },
  {
   "cell_type": "markdown",
   "id": "845ff5a8",
   "metadata": {},
   "source": [
    "#### 프로그램의 흐름을 제어하는 제어구문과 반복문\n",
    "- 제어구문 (if~ )\n",
    "- 반복구문 (for~ )\n",
    "- 블럭을 의미하는 기호 ':'\n",
    "- 들여쓰기 주의(indentation)"
   ]
  },
  {
   "cell_type": "code",
   "execution_count": 20,
   "id": "123f163f",
   "metadata": {},
   "outputs": [
    {
     "name": "stdout",
     "output_type": "stream",
     "text": [
      "제어구문 형식 - \n"
     ]
    }
   ],
   "source": [
    "print('제어구문 형식 - ')\n",
    "if True :\n",
    "    pass\n",
    "else :\n",
    "    pass\n",
    "    \n",
    "    \n",
    "if True :\n",
    "    pass\n",
    "elif True :\n",
    "    pass\n",
    "elif True :\n",
    "    pass\n",
    "\n",
    "\n",
    "if True :\n",
    "    if True :\n",
    "        pass\n",
    "    else:\n",
    "        pass\n",
    "else :\n",
    "    pass"
   ]
  },
  {
   "cell_type": "code",
   "execution_count": 24,
   "id": "589fd679",
   "metadata": {},
   "outputs": [
    {
     "name": "stdout",
     "output_type": "stream",
     "text": [
      "Bad\n"
     ]
    }
   ],
   "source": [
    "if False :\n",
    "    print('Good^_^')\n",
    "else :\n",
    "    print('Bad')"
   ]
  },
  {
   "cell_type": "code",
   "execution_count": 29,
   "id": "00627653",
   "metadata": {},
   "outputs": [
    {
     "ename": "KeyboardInterrupt",
     "evalue": "Interrupted by user",
     "output_type": "error",
     "traceback": [
      "\u001b[1;31m---------------------------------------------------------------------------\u001b[0m",
      "\u001b[1;31mKeyboardInterrupt\u001b[0m                         Traceback (most recent call last)",
      "Cell \u001b[1;32mIn[29], line 1\u001b[0m\n\u001b[1;32m----> 1\u001b[0m score \u001b[38;5;241m=\u001b[39m \u001b[38;5;28mint\u001b[39m(\u001b[38;5;28minput\u001b[39m(\u001b[38;5;124m'\u001b[39m\u001b[38;5;124m점수를 입력하세요\u001b[39m\u001b[38;5;124m'\u001b[39m))\n\u001b[0;32m      2\u001b[0m \u001b[38;5;28mprint\u001b[39m(score)\n\u001b[0;32m      3\u001b[0m \u001b[38;5;28mprint\u001b[39m()\n",
      "File \u001b[1;32m~\\anaconda3\\Lib\\site-packages\\ipykernel\\kernelbase.py:1175\u001b[0m, in \u001b[0;36mKernel.raw_input\u001b[1;34m(self, prompt)\u001b[0m\n\u001b[0;32m   1171\u001b[0m \u001b[38;5;28;01mif\u001b[39;00m \u001b[38;5;129;01mnot\u001b[39;00m \u001b[38;5;28mself\u001b[39m\u001b[38;5;241m.\u001b[39m_allow_stdin:\n\u001b[0;32m   1172\u001b[0m     \u001b[38;5;28;01mraise\u001b[39;00m StdinNotImplementedError(\n\u001b[0;32m   1173\u001b[0m         \u001b[38;5;124m\"\u001b[39m\u001b[38;5;124mraw_input was called, but this frontend does not support input requests.\u001b[39m\u001b[38;5;124m\"\u001b[39m\n\u001b[0;32m   1174\u001b[0m     )\n\u001b[1;32m-> 1175\u001b[0m \u001b[38;5;28;01mreturn\u001b[39;00m \u001b[38;5;28mself\u001b[39m\u001b[38;5;241m.\u001b[39m_input_request(\n\u001b[0;32m   1176\u001b[0m     \u001b[38;5;28mstr\u001b[39m(prompt),\n\u001b[0;32m   1177\u001b[0m     \u001b[38;5;28mself\u001b[39m\u001b[38;5;241m.\u001b[39m_parent_ident[\u001b[38;5;124m\"\u001b[39m\u001b[38;5;124mshell\u001b[39m\u001b[38;5;124m\"\u001b[39m],\n\u001b[0;32m   1178\u001b[0m     \u001b[38;5;28mself\u001b[39m\u001b[38;5;241m.\u001b[39mget_parent(\u001b[38;5;124m\"\u001b[39m\u001b[38;5;124mshell\u001b[39m\u001b[38;5;124m\"\u001b[39m),\n\u001b[0;32m   1179\u001b[0m     password\u001b[38;5;241m=\u001b[39m\u001b[38;5;28;01mFalse\u001b[39;00m,\n\u001b[0;32m   1180\u001b[0m )\n",
      "File \u001b[1;32m~\\anaconda3\\Lib\\site-packages\\ipykernel\\kernelbase.py:1217\u001b[0m, in \u001b[0;36mKernel._input_request\u001b[1;34m(self, prompt, ident, parent, password)\u001b[0m\n\u001b[0;32m   1214\u001b[0m             \u001b[38;5;28;01mbreak\u001b[39;00m\n\u001b[0;32m   1215\u001b[0m \u001b[38;5;28;01mexcept\u001b[39;00m \u001b[38;5;167;01mKeyboardInterrupt\u001b[39;00m:\n\u001b[0;32m   1216\u001b[0m     \u001b[38;5;66;03m# re-raise KeyboardInterrupt, to truncate traceback\u001b[39;00m\n\u001b[1;32m-> 1217\u001b[0m     \u001b[38;5;28;01mraise\u001b[39;00m \u001b[38;5;167;01mKeyboardInterrupt\u001b[39;00m(\u001b[38;5;124m\"\u001b[39m\u001b[38;5;124mInterrupted by user\u001b[39m\u001b[38;5;124m\"\u001b[39m) \u001b[38;5;28;01mfrom\u001b[39;00m \u001b[38;5;28;01mNone\u001b[39;00m\n\u001b[0;32m   1218\u001b[0m \u001b[38;5;28;01mexcept\u001b[39;00m \u001b[38;5;167;01mException\u001b[39;00m:\n\u001b[0;32m   1219\u001b[0m     \u001b[38;5;28mself\u001b[39m\u001b[38;5;241m.\u001b[39mlog\u001b[38;5;241m.\u001b[39mwarning(\u001b[38;5;124m\"\u001b[39m\u001b[38;5;124mInvalid Message:\u001b[39m\u001b[38;5;124m\"\u001b[39m, exc_info\u001b[38;5;241m=\u001b[39m\u001b[38;5;28;01mTrue\u001b[39;00m)\n",
      "\u001b[1;31mKeyboardInterrupt\u001b[0m: Interrupted by user"
     ]
    }
   ],
   "source": [
    "score = int(input('점수를 입력하세요'))\n",
    "print(score)\n",
    "print()\n",
    "if score >= 60 :\n",
    "    print('pass')\n",
    "else : \n",
    "    print('non-pass')"
   ]
  },
  {
   "cell_type": "markdown",
   "id": "e4c8258b",
   "metadata": {},
   "source": [
    "- 퀴즈\n",
    "- input 함수를 이용하여 점수를 입력받아 학점을 출력하는 제어구문을 작성하시오\n",
    "- 60 미만이면 F학점"
   ]
  },
  {
   "cell_type": "code",
   "execution_count": 33,
   "id": "aea727e3",
   "metadata": {},
   "outputs": [
    {
     "name": "stdout",
     "output_type": "stream",
     "text": [
      "점수를 입력하세요97\n",
      "97 <class 'int'>\n",
      "\n",
      "A+\n"
     ]
    }
   ],
   "source": [
    "score = int(input('점수를 입력하세요'))\n",
    "print(score, type(score))\n",
    "\n",
    "print()\n",
    "\n",
    "if score >= 90 :\n",
    "    if score > 95 :\n",
    "        print('A+')\n",
    "    else : \n",
    "        print('A-')\n",
    "elif score >= 80 :\n",
    "    print('B')\n",
    "elif score >= 70 :\n",
    "    print('C')\n",
    "elif score >= 60 :\n",
    "    print('D')\n",
    "else :\n",
    "    print('F')"
   ]
  },
  {
   "cell_type": "code",
   "execution_count": 43,
   "id": "8ef6f828",
   "metadata": {},
   "outputs": [
    {
     "name": "stdout",
     "output_type": "stream",
     "text": [
      "if ~ in \n"
     ]
    },
    {
     "ename": "KeyboardInterrupt",
     "evalue": "Interrupted by user",
     "output_type": "error",
     "traceback": [
      "\u001b[1;31m---------------------------------------------------------------------------\u001b[0m",
      "\u001b[1;31mKeyboardInterrupt\u001b[0m                         Traceback (most recent call last)",
      "Cell \u001b[1;32mIn[43], line 3\u001b[0m\n\u001b[0;32m      1\u001b[0m \u001b[38;5;28mprint\u001b[39m(\u001b[38;5;124m'\u001b[39m\u001b[38;5;124mif ~ in \u001b[39m\u001b[38;5;124m'\u001b[39m)\n\u001b[0;32m      2\u001b[0m areas \u001b[38;5;241m=\u001b[39m [\u001b[38;5;124m'\u001b[39m\u001b[38;5;124m서울\u001b[39m\u001b[38;5;124m'\u001b[39m, \u001b[38;5;124m'\u001b[39m\u001b[38;5;124m경기\u001b[39m\u001b[38;5;124m'\u001b[39m, \u001b[38;5;124m'\u001b[39m\u001b[38;5;124m부산\u001b[39m\u001b[38;5;124m'\u001b[39m]\n\u001b[1;32m----> 3\u001b[0m region \u001b[38;5;241m=\u001b[39m \u001b[38;5;28minput\u001b[39m(\u001b[38;5;124m'\u001b[39m\u001b[38;5;124m지역을 입력하세요 : \u001b[39m\u001b[38;5;124m'\u001b[39m)\n\u001b[0;32m      5\u001b[0m \u001b[38;5;28;01mif\u001b[39;00m region \u001b[38;5;129;01min\u001b[39;00m areas :\n\u001b[0;32m      6\u001b[0m     \u001b[38;5;28mprint\u001b[39m(\u001b[38;5;124m'\u001b[39m\u001b[38;5;124m존재\u001b[39m\u001b[38;5;124m'\u001b[39m)\n",
      "File \u001b[1;32m~\\anaconda3\\Lib\\site-packages\\ipykernel\\kernelbase.py:1175\u001b[0m, in \u001b[0;36mKernel.raw_input\u001b[1;34m(self, prompt)\u001b[0m\n\u001b[0;32m   1171\u001b[0m \u001b[38;5;28;01mif\u001b[39;00m \u001b[38;5;129;01mnot\u001b[39;00m \u001b[38;5;28mself\u001b[39m\u001b[38;5;241m.\u001b[39m_allow_stdin:\n\u001b[0;32m   1172\u001b[0m     \u001b[38;5;28;01mraise\u001b[39;00m StdinNotImplementedError(\n\u001b[0;32m   1173\u001b[0m         \u001b[38;5;124m\"\u001b[39m\u001b[38;5;124mraw_input was called, but this frontend does not support input requests.\u001b[39m\u001b[38;5;124m\"\u001b[39m\n\u001b[0;32m   1174\u001b[0m     )\n\u001b[1;32m-> 1175\u001b[0m \u001b[38;5;28;01mreturn\u001b[39;00m \u001b[38;5;28mself\u001b[39m\u001b[38;5;241m.\u001b[39m_input_request(\n\u001b[0;32m   1176\u001b[0m     \u001b[38;5;28mstr\u001b[39m(prompt),\n\u001b[0;32m   1177\u001b[0m     \u001b[38;5;28mself\u001b[39m\u001b[38;5;241m.\u001b[39m_parent_ident[\u001b[38;5;124m\"\u001b[39m\u001b[38;5;124mshell\u001b[39m\u001b[38;5;124m\"\u001b[39m],\n\u001b[0;32m   1178\u001b[0m     \u001b[38;5;28mself\u001b[39m\u001b[38;5;241m.\u001b[39mget_parent(\u001b[38;5;124m\"\u001b[39m\u001b[38;5;124mshell\u001b[39m\u001b[38;5;124m\"\u001b[39m),\n\u001b[0;32m   1179\u001b[0m     password\u001b[38;5;241m=\u001b[39m\u001b[38;5;28;01mFalse\u001b[39;00m,\n\u001b[0;32m   1180\u001b[0m )\n",
      "File \u001b[1;32m~\\anaconda3\\Lib\\site-packages\\ipykernel\\kernelbase.py:1217\u001b[0m, in \u001b[0;36mKernel._input_request\u001b[1;34m(self, prompt, ident, parent, password)\u001b[0m\n\u001b[0;32m   1214\u001b[0m             \u001b[38;5;28;01mbreak\u001b[39;00m\n\u001b[0;32m   1215\u001b[0m \u001b[38;5;28;01mexcept\u001b[39;00m \u001b[38;5;167;01mKeyboardInterrupt\u001b[39;00m:\n\u001b[0;32m   1216\u001b[0m     \u001b[38;5;66;03m# re-raise KeyboardInterrupt, to truncate traceback\u001b[39;00m\n\u001b[1;32m-> 1217\u001b[0m     \u001b[38;5;28;01mraise\u001b[39;00m \u001b[38;5;167;01mKeyboardInterrupt\u001b[39;00m(\u001b[38;5;124m\"\u001b[39m\u001b[38;5;124mInterrupted by user\u001b[39m\u001b[38;5;124m\"\u001b[39m) \u001b[38;5;28;01mfrom\u001b[39;00m \u001b[38;5;28;01mNone\u001b[39;00m\n\u001b[0;32m   1218\u001b[0m \u001b[38;5;28;01mexcept\u001b[39;00m \u001b[38;5;167;01mException\u001b[39;00m:\n\u001b[0;32m   1219\u001b[0m     \u001b[38;5;28mself\u001b[39m\u001b[38;5;241m.\u001b[39mlog\u001b[38;5;241m.\u001b[39mwarning(\u001b[38;5;124m\"\u001b[39m\u001b[38;5;124mInvalid Message:\u001b[39m\u001b[38;5;124m\"\u001b[39m, exc_info\u001b[38;5;241m=\u001b[39m\u001b[38;5;28;01mTrue\u001b[39;00m)\n",
      "\u001b[1;31mKeyboardInterrupt\u001b[0m: Interrupted by user"
     ]
    }
   ],
   "source": [
    "print('if ~ in ')\n",
    "areas = ['서울', '경기', '부산']\n",
    "region = input('지역을 입력하세요 : ')\n",
    "\n",
    "if region in areas :\n",
    "    print('존재')\n",
    "else :\n",
    "    print('{} 지역은 대상이 아닙니다.'.format(region))"
   ]
  },
  {
   "cell_type": "code",
   "execution_count": 41,
   "id": "4e158119",
   "metadata": {},
   "outputs": [
    {
     "name": "stdout",
     "output_type": "stream",
     "text": [
      "banana 키는 대상이 아닙니다.\n"
     ]
    }
   ],
   "source": [
    "dictTmp = {'melona' : 100 , 'bravo' : 200, 'nugaba' : 150 }\n",
    "target = 'banana'\n",
    "\n",
    "if target in dictTmp :\n",
    "    print(dictTmp[target])\n",
    "else :\n",
    "    print('{} 키는 대상이 아닙니다.'.format(target))"
   ]
  },
  {
   "cell_type": "markdown",
   "id": "79c7901e",
   "metadata": {},
   "source": [
    "#### 퀴즈\n",
    "- 연산자 % , == , and , or\n",
    "- 윤년의 조건 : 4의 배수이고 100의 배수가 아니거나 400의 배수일 때\n",
    "- input 함수를 이용해서 년도를 입력받아 윤년인지 아닌지를 판단하고 싶다면?"
   ]
  },
  {
   "cell_type": "code",
   "execution_count": 60,
   "id": "4d9871fe",
   "metadata": {
    "scrolled": true
   },
   "outputs": [
    {
     "name": "stdout",
     "output_type": "stream",
     "text": [
      "연도를 입력하세요1\n",
      "윤년아님❌\n",
      "\n",
      "윤년아님❌\n"
     ]
    }
   ],
   "source": [
    "year = int(input('연도를 입력하세요'))\n",
    "if ((year % 4 == 0) and(year % 100 != 0)) or (year % 400 == 0) :\n",
    "    print('윤년임⭕')\n",
    "else :\n",
    "    print('윤년아님❌')\n",
    "    \n",
    "print()\n",
    "\n",
    "if ((year % 4 == 0) and(year % 100 != 0)) :\n",
    "     print('윤년임⭕')\n",
    "elif(year % 400 == 0) :\n",
    "    print('윤년임⭕')\n",
    "else :\n",
    "    print('윤년아님❌')"
   ]
  },
  {
   "cell_type": "markdown",
   "id": "3b9d387d",
   "metadata": {},
   "source": [
    "#### 퀴즈\n",
    "- input 함수를 이용해서 년도, 월 입력받아서 월의 마지막 날을 출력하라\n"
   ]
  },
  {
   "cell_type": "code",
   "execution_count": 112,
   "id": "78e7d085",
   "metadata": {
    "scrolled": true
   },
   "outputs": [
    {
     "name": "stdout",
     "output_type": "stream",
     "text": [
      "연도를 입력하세요\n"
     ]
    },
    {
     "ename": "ValueError",
     "evalue": "invalid literal for int() with base 10: ''",
     "output_type": "error",
     "traceback": [
      "\u001b[1;31m---------------------------------------------------------------------------\u001b[0m",
      "\u001b[1;31mValueError\u001b[0m                                Traceback (most recent call last)",
      "Cell \u001b[1;32mIn[112], line 4\u001b[0m\n\u001b[0;32m      1\u001b[0m yearMonths \u001b[38;5;241m=\u001b[39m [\u001b[38;5;241m31\u001b[39m, \u001b[38;5;241m28\u001b[39m, \u001b[38;5;241m31\u001b[39m, \u001b[38;5;241m30\u001b[39m, \u001b[38;5;241m31\u001b[39m, \u001b[38;5;241m30\u001b[39m, \u001b[38;5;241m31\u001b[39m, \u001b[38;5;241m31\u001b[39m, \u001b[38;5;241m30\u001b[39m, \u001b[38;5;241m31\u001b[39m, \u001b[38;5;241m30\u001b[39m, \u001b[38;5;241m31\u001b[39m]\n\u001b[0;32m      2\u001b[0m leapYearMonths \u001b[38;5;241m=\u001b[39m [\u001b[38;5;241m31\u001b[39m, \u001b[38;5;241m29\u001b[39m, \u001b[38;5;241m31\u001b[39m, \u001b[38;5;241m30\u001b[39m, \u001b[38;5;241m31\u001b[39m, \u001b[38;5;241m30\u001b[39m, \u001b[38;5;241m31\u001b[39m, \u001b[38;5;241m31\u001b[39m, \u001b[38;5;241m30\u001b[39m, \u001b[38;5;241m31\u001b[39m, \u001b[38;5;241m30\u001b[39m, \u001b[38;5;241m31\u001b[39m]\n\u001b[1;32m----> 4\u001b[0m year \u001b[38;5;241m=\u001b[39m \u001b[38;5;28mint\u001b[39m(\u001b[38;5;28minput\u001b[39m(\u001b[38;5;124m'\u001b[39m\u001b[38;5;124m연도를 입력하세요\u001b[39m\u001b[38;5;124m'\u001b[39m))\n\u001b[0;32m      5\u001b[0m month \u001b[38;5;241m=\u001b[39m \u001b[38;5;28mint\u001b[39m(\u001b[38;5;28minput\u001b[39m(\u001b[38;5;124m'\u001b[39m\u001b[38;5;124m월을 입력하세요\u001b[39m\u001b[38;5;124m'\u001b[39m))\n\u001b[0;32m      6\u001b[0m \u001b[38;5;28mprint\u001b[39m(\u001b[38;5;124m'\u001b[39m\u001b[38;5;124m입력한 연, 월 : \u001b[39m\u001b[38;5;124m'\u001b[39m , year, month)\n",
      "\u001b[1;31mValueError\u001b[0m: invalid literal for int() with base 10: ''"
     ]
    }
   ],
   "source": [
    "yearMonths = [31, 28, 31, 30, 31, 30, 31, 31, 30, 31, 30, 31]\n",
    "leapYearMonths = [31, 29, 31, 30, 31, 30, 31, 31, 30, 31, 30, 31]\n",
    "\n",
    "year = int(input('연도를 입력하세요'))\n",
    "month = int(input('월을 입력하세요'))\n",
    "print('입력한 연, 월 : ' , year, month)\n",
    "\n",
    "if ((year % 4 == 0) and(year % 100 != 0)) :\n",
    "     print('{} 년 {} 월의 마지막날은 {}일 입니다.'.format(year, month, leapYearMonths[month-1]))\n",
    "elif (year % 400 == 0) :\n",
    "     print('{} 년 {} 월의 마지막날은 {}일 입니다.'.format(year, month, leapYearMonths[month-1]))\n",
    "else :\n",
    "     print('{} 년 {} 월의 마지막날은 {}일 입니다.'.format(year, month, yearMonths[month-1]))"
   ]
  },
  {
   "cell_type": "markdown",
   "id": "6c906c0d",
   "metadata": {},
   "source": [
    "- date, datetime 날짜 관련 모듈이 있다.\n",
    "- xxxxxxxxx.py(module) - 변수, 함수, 클래스\n",
    "- import, from ~ import\n",
    "- package : 여러개의 모듈을 묶는 것\n",
    "- 함수 < 모듈 < 패키지\n",
    "- 형식) import 모듈\n",
    "- 형식) from 패키지.모듈 import 함수 , 클래스\n",
    "- 형식) from 패키지      import 모듈\n",
    "- 형식) from 모듈        import 함수 , 클래스"
   ]
  },
  {
   "cell_type": "code",
   "execution_count": 113,
   "id": "0233ac5f",
   "metadata": {},
   "outputs": [
    {
     "name": "stdout",
     "output_type": "stream",
     "text": [
      "dir -  ['__add__', '__class__', '__delattr__', '__dir__', '__doc__', '__eq__', '__format__', '__ge__', '__getattribute__', '__getstate__', '__gt__', '__hash__', '__init__', '__init_subclass__', '__le__', '__lt__', '__ne__', '__new__', '__radd__', '__reduce__', '__reduce_ex__', '__repr__', '__rsub__', '__setattr__', '__sizeof__', '__str__', '__sub__', '__subclasshook__', 'ctime', 'day', 'fromisocalendar', 'fromisoformat', 'fromordinal', 'fromtimestamp', 'isocalendar', 'isoformat', 'isoweekday', 'max', 'min', 'month', 'replace', 'resolution', 'strftime', 'timetuple', 'today', 'toordinal', 'weekday', 'year']\n",
      "\n",
      "today -  2023-09-06\n",
      "2023 9 6\n",
      "\n",
      "today -  2023-09-06 14:24:57.829652\n",
      "dir -  ['__add__', '__class__', '__delattr__', '__dir__', '__doc__', '__eq__', '__format__', '__ge__', '__getattribute__', '__getstate__', '__gt__', '__hash__', '__init__', '__init_subclass__', '__le__', '__lt__', '__ne__', '__new__', '__radd__', '__reduce__', '__reduce_ex__', '__repr__', '__rsub__', '__setattr__', '__sizeof__', '__str__', '__sub__', '__subclasshook__', 'astimezone', 'combine', 'ctime', 'date', 'day', 'dst', 'fold', 'fromisocalendar', 'fromisoformat', 'fromordinal', 'fromtimestamp', 'hour', 'isocalendar', 'isoformat', 'isoweekday', 'max', 'microsecond', 'min', 'minute', 'month', 'now', 'replace', 'resolution', 'second', 'strftime', 'strptime', 'time', 'timestamp', 'timetuple', 'timetz', 'today', 'toordinal', 'tzinfo', 'tzname', 'utcfromtimestamp', 'utcnow', 'utcoffset', 'utctimetuple', 'weekday', 'year']\n"
     ]
    }
   ],
   "source": [
    "from datetime import date, datetime\n",
    "\n",
    "today = date.today()\n",
    "print('dir - ', dir(today))\n",
    "\n",
    "print()\n",
    "print('today - ', today)\n",
    "print(today.year, today.month, today.day)\n",
    "\n",
    "print()\n",
    "today = datetime.today()\n",
    "print('today - ', today)\n",
    "print('dir - ', dir(today))\n"
   ]
  },
  {
   "cell_type": "code",
   "execution_count": 114,
   "id": "58ce600b",
   "metadata": {},
   "outputs": [
    {
     "name": "stdout",
     "output_type": "stream",
     "text": [
      "날짜에 대한 연산을 도와주는 함수\n",
      "2023-09-07\n",
      "\n",
      "\n",
      "2025-09-06 2023-10-06 2023-09-07\n",
      "2025-10-07\n"
     ]
    }
   ],
   "source": [
    "print('날짜에 대한 연산을 도와주는 함수')\n",
    "from datetime import timedelta\n",
    "from dateutil.relativedelta import relativedelta\n",
    "\n",
    "today = date.today()\n",
    "day = timedelta(days = 1)  # 더해주고 싶은 값을 (days=1)과 같은 형식으로 넣는다.\n",
    "\n",
    "print(today + day)\n",
    "\n",
    "print()\n",
    "print()\n",
    "\n",
    "day = relativedelta(days = 1)\n",
    "month = relativedelta(months = 1)\n",
    "year = relativedelta(years = 2)\n",
    "\n",
    "print(today + year, today + month, today + day)\n",
    "today = today + year\n",
    "today = today + month\n",
    "today = today + day\n",
    "print(today)"
   ]
  },
  {
   "cell_type": "code",
   "execution_count": 115,
   "id": "cf219cee",
   "metadata": {},
   "outputs": [
    {
     "name": "stdout",
     "output_type": "stream",
     "text": [
      "문자 -> 날짜\n",
      "type -  <class 'str'>\n",
      "\n",
      "문자 -> 날짜\n",
      "2023-09-06 00:00:00 <class 'datetime.datetime'>\n",
      "날짜 -> 문자\n",
      "2023-09-06 <class 'str'>\n"
     ]
    }
   ],
   "source": [
    "print('문자 -> 날짜')\n",
    "\n",
    "strDate = '2023-09-06'\n",
    "print('type - ', type(strDate))\n",
    "\n",
    "print()\n",
    "\n",
    "print('문자 -> 날짜')\n",
    "castingDate = datetime.strptime(strDate, '%Y-%m-%d')\n",
    "print(castingDate, type(castingDate))\n",
    "\n",
    "print('날짜 -> 문자')\n",
    "print(castingDate.strftime('%Y-%m-%d'), type(castingDate.strftime('%Y-%m-%d')))"
   ]
  },
  {
   "cell_type": "code",
   "execution_count": 117,
   "id": "35ba7c9e",
   "metadata": {},
   "outputs": [
    {
     "name": "stdout",
     "output_type": "stream",
     "text": [
      "연도를 입력하세요2023\n",
      "월을 입력하세요1\n",
      "input date -  2023-2 <class 'str'>\n",
      "casting date -  2023-02-01 00:00:00 <class 'datetime.datetime'>\n",
      "lastDay -  31\n",
      "2023 년 1 월의 마지막날은 31일 입니다.\n"
     ]
    }
   ],
   "source": [
    "year = int(input('연도를 입력하세요'))\n",
    "month = int(input('월을 입력하세요'))\n",
    "\n",
    "yearMonth = '{}-{}'.format(year, month + 1)\n",
    "print('input date - ' , yearMonth, type(yearMonth))\n",
    "\n",
    "yearMonthDate = datetime.strptime(yearMonth , '%Y-%m') # 입력받은 숫자를 날짜로 바꿈\n",
    "print('casting date - ' , yearMonthDate, type(yearMonthDate))\n",
    "\n",
    "lastDay = yearMonthDate + relativedelta(days = -1)\n",
    "lastDay = lastDay.day  # day만 꺼내오기 (lastDay가 date 형식이기에 가능함)\n",
    "print('lastDay - ', lastDay)\n",
    "\n",
    "if ((year % 4 == 0) and(year % 100 != 0)) :\n",
    "     print('{} 년 {} 월의 마지막날은 {}일 입니다.'.format(year, month, lastDay))\n",
    "elif (year % 400 == 0) :\n",
    "     print('{} 년 {} 월의 마지막날은 {}일 입니다.'.format(year, month, lastDay))\n",
    "else :\n",
    "     print('{} 년 {} 월의 마지막날은 {}일 입니다.'.format(year, month, lastDay))"
   ]
  },
  {
   "cell_type": "markdown",
   "id": "88860a75",
   "metadata": {},
   "source": [
    "- 3항 연산자 : (조건식) ? 참: 거짓\n",
    "- python : 참 if(조건식) else 거짓\n"
   ]
  },
  {
   "cell_type": "code",
   "execution_count": 121,
   "id": "fbef4cdf",
   "metadata": {},
   "outputs": [
    {
     "name": "stdout",
     "output_type": "stream",
     "text": [
      "18\n",
      "\n",
      "3항 연산자로 변경\n",
      "18\n"
     ]
    }
   ],
   "source": [
    "tmp = 9\n",
    "\n",
    "if tmp >= 5 :\n",
    "    print(tmp * 2)\n",
    "else :\n",
    "    print(tmp + 2)\n",
    "    \n",
    "print()\n",
    "print('3항 연산자로 변경')\n",
    "\n",
    "result = tmp * 2 if tmp >= 5 else tmp + 2\n",
    "print(result)"
   ]
  },
  {
   "cell_type": "markdown",
   "id": "0dee5301",
   "metadata": {},
   "source": [
    "### 퀴즈\n",
    "- 011 SK, 016 KT, 019 LG\n",
    "- input 함수로 011-xxxx-xxxx\n",
    "- 통신사를 판단하고 싶다면? \n",
    "- 출력예시) 당신이 사용하는 통신사는 SK 입니다."
   ]
  },
  {
   "cell_type": "code",
   "execution_count": 153,
   "id": "ecd8a946",
   "metadata": {},
   "outputs": [
    {
     "name": "stdout",
     "output_type": "stream",
     "text": [
      "전화번호를 입력하세요 : 01922229999\n",
      "01922229999\n",
      "019\n",
      "당신이 사용하는 통신사는 LG 입니다\n"
     ]
    }
   ],
   "source": [
    "tmp = input('전화번호를 입력하세요 : ')\n",
    "print(tmp)\n",
    "tmp3 = tmp[0:3]  # slicing으로 앞 3자리만 추출\n",
    "print(tmp3)\n",
    "\n",
    "if tmp3 == '011' :\n",
    "    print('당신이 사용하는 통신사는 SK 입니다')\n",
    "elif tmp3 == '016' :\n",
    "    print('당신이 사용하는 통신사는 KT 입니다')\n",
    "elif tmp3 =='019' :\n",
    "    print('당신이 사용하는 통신사는 LG 입니다')\n",
    "else :\n",
    "    pass"
   ]
  },
  {
   "cell_type": "code",
   "execution_count": null,
   "id": "c146d2d0",
   "metadata": {},
   "outputs": [],
   "source": [
    "print('예시 답안 1')\n",
    "\n",
    "tmp = input('전화번호를 입력하세요 : ')\n",
    "print(tmp)\n",
    "tmp3 = tmp.split('-')[0]\n",
    "\n",
    "if tmp3 == '011' :\n",
    "    print('당신이 사용하는 통신사는 SK 입니다')\n",
    "elif tmp3 == '016' :\n",
    "    print('당신이 사용하는 통신사는 KT 입니다')\n",
    "elif tmp3 =='019' :\n",
    "    print('당신이 사용하는 통신사는 LG 입니다')\n",
    "else :\n",
    "    pass"
   ]
  },
  {
   "cell_type": "code",
   "execution_count": 187,
   "id": "0a766277",
   "metadata": {},
   "outputs": [
    {
     "name": "stdout",
     "output_type": "stream",
     "text": [
      "예시 답안 2 - 3항연산자\n",
      "전화번호를 입력하세요 : 011\n",
      "011\n",
      "SK\n"
     ]
    }
   ],
   "source": [
    "print('예시 답안 2 - 3항연산자')\n",
    "tmp = input('전화번호를 입력하세요 : ')\n",
    "print(tmp)\n",
    "print('SK') if tmp == '011' else print('KT') if tmp == '016' else print('LG') if tmp == '019' else print('알뜰폰') "
   ]
  },
  {
   "cell_type": "code",
   "execution_count": 145,
   "id": "680816cb",
   "metadata": {},
   "outputs": [
    {
     "name": "stdout",
     "output_type": "stream",
     "text": [
      "전화번호를 입력하세요 : 016-3333-4444\n",
      "당신이 사용하는 통신사는 KT 입니다\n"
     ]
    }
   ],
   "source": [
    "# result = print('당신이 사용하는 통신사는 SK 입니다') if tmp3 =='011' else "
   ]
  },
  {
   "cell_type": "markdown",
   "id": "f708fef4",
   "metadata": {},
   "source": [
    "- in, not in"
   ]
  },
  {
   "cell_type": "code",
   "execution_count": 174,
   "id": "6479ae17",
   "metadata": {},
   "outputs": [
    {
     "name": "stdout",
     "output_type": "stream",
     "text": [
      "True\n"
     ]
    }
   ],
   "source": [
    "lstTmp = [10, 20, 30]\n",
    "dictTmp = {'name' : 'jin', 'address' : 'busan'} \n",
    "setTmp = {11, 22, 33}\n",
    "tupleTmp = {1,2,3,4}\n",
    "\n",
    "if '11' not in setTmp :\n",
    "    \n",
    "    print('True')\n",
    "else :\n",
    "    print('False')\n",
    "    \n"
   ]
  },
  {
   "cell_type": "code",
   "execution_count": 180,
   "id": "9029524e",
   "metadata": {},
   "outputs": [
    {
     "name": "stdout",
     "output_type": "stream",
     "text": [
      "== 양 변이 같을 때  False\n",
      "!= 양 변이 다를 때  True\n",
      "> 왼쪽이 클 때  True\n",
      ">= 왼쪽이 크거나 같을 때  True\n",
      "< 오른쪽이 클 때  False\n",
      "<= 오른쪽이 크거나 같을 때  False\n"
     ]
    }
   ],
   "source": [
    "x = 15\n",
    "y = 10\n",
    "\n",
    "print('== 양 변이 같을 때 ', x == y)\n",
    "print('!= 양 변이 다를 때 ', x != y)\n",
    "print('> 왼쪽이 클 때 ', x > y)\n",
    "print('>= 왼쪽이 크거나 같을 때 ', x >= y)\n",
    "print('< 오른쪽이 클 때 ', x < y)\n",
    "print('<= 오른쪽이 크거나 같을 때 ', x <= y)"
   ]
  },
  {
   "cell_type": "code",
   "execution_count": 188,
   "id": "b45fe036",
   "metadata": {},
   "outputs": [
    {
     "name": "stdout",
     "output_type": "stream",
     "text": [
      "연산자는 우선순위 가진다 - \n",
      "산술 > 관계 > 논리\n",
      "False\n",
      "True\n",
      "pass\n"
     ]
    }
   ],
   "source": [
    "print('연산자는 우선순위 가진다 - ')\n",
    "print('산술 > 관계 > 논리')\n",
    "print( (3 + 4) > (7 + 3) )\n",
    "\n",
    "print( ((5 + 10) > 3) and ((7 + 3) == 10) )\n",
    "\n",
    "score = 90\n",
    "grade = 'A'\n",
    "\n",
    "if score >= 90 and grade =='A' :\n",
    "    print('pass')"
   ]
  },
  {
   "cell_type": "code",
   "execution_count": 189,
   "id": "9b8d95e9",
   "metadata": {},
   "outputs": [
    {
     "name": "stdout",
     "output_type": "stream",
     "text": [
      "~실습~\n"
     ]
    }
   ],
   "source": [
    "print('~실습~')"
   ]
  },
  {
   "cell_type": "code",
   "execution_count": 205,
   "id": "e2b29f51",
   "metadata": {},
   "outputs": [
    {
     "name": "stdout",
     "output_type": "stream",
     "text": [
      "< 문제01 >\n"
     ]
    },
    {
     "ename": "KeyboardInterrupt",
     "evalue": "Interrupted by user",
     "output_type": "error",
     "traceback": [
      "\u001b[1;31m---------------------------------------------------------------------------\u001b[0m",
      "\u001b[1;31mKeyboardInterrupt\u001b[0m                         Traceback (most recent call last)",
      "Cell \u001b[1;32mIn[205], line 3\u001b[0m\n\u001b[0;32m      1\u001b[0m \u001b[38;5;28mprint\u001b[39m(\u001b[38;5;124m'\u001b[39m\u001b[38;5;124m< 문제01 >\u001b[39m\u001b[38;5;124m'\u001b[39m)\n\u001b[1;32m----> 3\u001b[0m number \u001b[38;5;241m=\u001b[39m \u001b[38;5;28mint\u001b[39m(\u001b[38;5;28minput\u001b[39m(\u001b[38;5;124m'\u001b[39m\u001b[38;5;124m숫자를 입력하세요 : \u001b[39m\u001b[38;5;124m'\u001b[39m))\n\u001b[0;32m      4\u001b[0m yr \u001b[38;5;241m=\u001b[39m number \u001b[38;5;241m-\u001b[39m \u001b[38;5;241m20\u001b[39m\n\u001b[0;32m      5\u001b[0m \u001b[38;5;66;03m# print(yr)\u001b[39;00m\n",
      "File \u001b[1;32m~\\anaconda3\\Lib\\site-packages\\ipykernel\\kernelbase.py:1175\u001b[0m, in \u001b[0;36mKernel.raw_input\u001b[1;34m(self, prompt)\u001b[0m\n\u001b[0;32m   1171\u001b[0m \u001b[38;5;28;01mif\u001b[39;00m \u001b[38;5;129;01mnot\u001b[39;00m \u001b[38;5;28mself\u001b[39m\u001b[38;5;241m.\u001b[39m_allow_stdin:\n\u001b[0;32m   1172\u001b[0m     \u001b[38;5;28;01mraise\u001b[39;00m StdinNotImplementedError(\n\u001b[0;32m   1173\u001b[0m         \u001b[38;5;124m\"\u001b[39m\u001b[38;5;124mraw_input was called, but this frontend does not support input requests.\u001b[39m\u001b[38;5;124m\"\u001b[39m\n\u001b[0;32m   1174\u001b[0m     )\n\u001b[1;32m-> 1175\u001b[0m \u001b[38;5;28;01mreturn\u001b[39;00m \u001b[38;5;28mself\u001b[39m\u001b[38;5;241m.\u001b[39m_input_request(\n\u001b[0;32m   1176\u001b[0m     \u001b[38;5;28mstr\u001b[39m(prompt),\n\u001b[0;32m   1177\u001b[0m     \u001b[38;5;28mself\u001b[39m\u001b[38;5;241m.\u001b[39m_parent_ident[\u001b[38;5;124m\"\u001b[39m\u001b[38;5;124mshell\u001b[39m\u001b[38;5;124m\"\u001b[39m],\n\u001b[0;32m   1178\u001b[0m     \u001b[38;5;28mself\u001b[39m\u001b[38;5;241m.\u001b[39mget_parent(\u001b[38;5;124m\"\u001b[39m\u001b[38;5;124mshell\u001b[39m\u001b[38;5;124m\"\u001b[39m),\n\u001b[0;32m   1179\u001b[0m     password\u001b[38;5;241m=\u001b[39m\u001b[38;5;28;01mFalse\u001b[39;00m,\n\u001b[0;32m   1180\u001b[0m )\n",
      "File \u001b[1;32m~\\anaconda3\\Lib\\site-packages\\ipykernel\\kernelbase.py:1217\u001b[0m, in \u001b[0;36mKernel._input_request\u001b[1;34m(self, prompt, ident, parent, password)\u001b[0m\n\u001b[0;32m   1214\u001b[0m             \u001b[38;5;28;01mbreak\u001b[39;00m\n\u001b[0;32m   1215\u001b[0m \u001b[38;5;28;01mexcept\u001b[39;00m \u001b[38;5;167;01mKeyboardInterrupt\u001b[39;00m:\n\u001b[0;32m   1216\u001b[0m     \u001b[38;5;66;03m# re-raise KeyboardInterrupt, to truncate traceback\u001b[39;00m\n\u001b[1;32m-> 1217\u001b[0m     \u001b[38;5;28;01mraise\u001b[39;00m \u001b[38;5;167;01mKeyboardInterrupt\u001b[39;00m(\u001b[38;5;124m\"\u001b[39m\u001b[38;5;124mInterrupted by user\u001b[39m\u001b[38;5;124m\"\u001b[39m) \u001b[38;5;28;01mfrom\u001b[39;00m \u001b[38;5;28;01mNone\u001b[39;00m\n\u001b[0;32m   1218\u001b[0m \u001b[38;5;28;01mexcept\u001b[39;00m \u001b[38;5;167;01mException\u001b[39;00m:\n\u001b[0;32m   1219\u001b[0m     \u001b[38;5;28mself\u001b[39m\u001b[38;5;241m.\u001b[39mlog\u001b[38;5;241m.\u001b[39mwarning(\u001b[38;5;124m\"\u001b[39m\u001b[38;5;124mInvalid Message:\u001b[39m\u001b[38;5;124m\"\u001b[39m, exc_info\u001b[38;5;241m=\u001b[39m\u001b[38;5;28;01mTrue\u001b[39;00m)\n",
      "\u001b[1;31mKeyboardInterrupt\u001b[0m: Interrupted by user"
     ]
    }
   ],
   "source": [
    "print('< 문제01 >')\n",
    "# 사용자로부터 하나의 값을 입력받은 후 \n",
    "# 해당 값에 20을 뺀 값을 출력하라. \n",
    "# 단 출력 값의 범위는 0~255이다. \n",
    "# 예를 들어 결괏값이 0보다 작은 값이되는 경우 0을 출력하고 \n",
    "# 255보다 큰 값이 되는 경우 255를 출력해야 한다.\n",
    "\n",
    "\n",
    "number = int(input('숫자를 입력하세요 : '))\n",
    "yr = number - 20\n",
    "# print(yr)\n",
    "\n",
    "if yr >= 0 and yr <= 255 :\n",
    "    print(yr)\n",
    "elif yr <= 0 :\n",
    "    print(0)\n",
    "elif yr >= 255 :\n",
    "    print(255)"
   ]
  },
  {
   "cell_type": "code",
   "execution_count": 213,
   "id": "888038d5",
   "metadata": {},
   "outputs": [
    {
     "name": "stdout",
     "output_type": "stream",
     "text": [
      "< 문제02 >\n",
      "현재시간 : 11:01\n",
      "정각이 아닙니다.\n"
     ]
    }
   ],
   "source": [
    "print('< 문제02 >')\n",
    "# 사용자로부터 입력 받은 시간이 정각인지 판별하라.\n",
    "# 현재시간 : 02:00\n",
    "# 현재시간 : 03:10\n",
    "\n",
    "inputTime = input('현재시간 : ')\n",
    "inputTime  = input('현재시간 : ')\n",
    "if inputTime.split(':')[1] == '00' :\n",
    "    print('정각입니다.')\n",
    "else :\n",
    "    print('정각이 아닙니다.')\n"
   ]
  },
  {
   "cell_type": "code",
   "execution_count": 217,
   "id": "94d04cba",
   "metadata": {},
   "outputs": [
    {
     "name": "stdout",
     "output_type": "stream",
     "text": [
      "< 문제03 >\n",
      "좋아하는 과일이름?국밥\n",
      "틀렸어~\n"
     ]
    }
   ],
   "source": [
    "print('< 문제03 >')\n",
    "# 사용자로 입력받은 단어가 아래 fruit 리스트에 포함되어\n",
    "# 있는지를 확인하라. \n",
    "# 포함되었다면 \"정답입니다\"를 아닐 경우 \"오답입니다\" 출력하라.\n",
    "\n",
    "fruit = [\"사과\", \"포도\", \"홍시\"]\n",
    "inputF = input('좋아하는 과일이름?')\n",
    "# print(inputF)\n",
    "\n",
    "fruit = [\"사과\", \"포도\", \"홍시\"]\n",
    "if inputF in fruit :\n",
    "    print('정답~')\n",
    "else :\n",
    "    print('틀렸어~')"
   ]
  },
  {
   "cell_type": "code",
   "execution_count": 233,
   "id": "6994d943",
   "metadata": {},
   "outputs": [
    {
     "name": "stdout",
     "output_type": "stream",
     "text": [
      "< 문제04 >\n",
      "우편번호를 입력해주세요 : 0191234\n",
      "9 <class 'int'>\n",
      "노원구\n"
     ]
    }
   ],
   "source": [
    "print('< 문제04 >')\n",
    "# 우편번호는 6자리고 구성되는데는 \n",
    "# 예를 들어) 서울의 경우 01 로 시작하고 구별로 인덱스가 부여된다고 가정하자\n",
    "# 0 강북구, 1 강북구, 2 강북구, 3 도봉구, 4 도봉구, 5 도봉구, 6 노원구, 7 노원구, 8 노원구, 9 노원구\n",
    "# 사용자로부터 6자리 우편번호를 입력받고 구를 판별하라\n",
    "# 예시) 014000 이면 도봉구 \n",
    "\n",
    "number = input('우편번호를 입력해주세요 : ')\n",
    "# print(number, type(number))\n",
    "guNum = int(number[2])\n",
    "print(guNum, type(guNum))\n",
    "if guNum >= 0 and guNum <= 2 :\n",
    "    print('강북구')\n",
    "elif guNum >= 3 and guNum <= 5 :\n",
    "    print('도봉구')\n",
    "else :\n",
    "    print('노원구')"
   ]
  },
  {
   "cell_type": "code",
   "execution_count": null,
   "id": "1a795170",
   "metadata": {},
   "outputs": [],
   "source": [
    "print('< 문제05 >')\n",
    "# 주민등록번호 뒷 자리 7자리 중 첫째 자리는 성별을 나타내는데\n",
    "# 1, 3은 남자 2, 4는 여자를 의미한다. \n",
    "# 사용자로부터 13자리의 주민등록번호를 입력 받은 후 성별 (남자, 여자)를 출력하는 프로그램을 작성하라.\n",
    "# >> 주민등록번호: 821010-1635210\n",
    "\n",
    "jumin = input('주민등록번호 : ')\n",
    "num = jumin.split('-')[1]\n",
    "num1 = num[0]\n",
    "if num1 == '1' or num1 == '3' :\n",
    "    print('남자')\n",
    "elif num1 == '2' or num1 == '4' :\n",
    "    print('여자')\n",
    "else : \n",
    "    pass"
   ]
  },
  {
   "cell_type": "code",
   "execution_count": 254,
   "id": "8c6f8a76",
   "metadata": {},
   "outputs": [
    {
     "name": "stdout",
     "output_type": "stream",
     "text": [
      "< 문제06 >\n",
      "주민등록번호 : 900000-1090000\n",
      "09\n",
      "출생지 : 부산\n"
     ]
    }
   ],
   "source": [
    "print('< 문제06 >')\n",
    "# 주민등록번호의 뒷 자리 7자리 중 두번째와 세번째는 지역코드를 의미한다. \n",
    "# 주민 등록 번호를 입력 받은 후 출생지가 서울인지 아닌지 판단하는 코드를 작성하라\n",
    "#지역코드\t출생지\n",
    "# 00 ~ 08\t서울\n",
    "# 09 ~ 12\t부산\n",
    "\n",
    "jumin = input('주민등록번호 : ')\n",
    "num = jumin.split('-')[1]\n",
    "num23 = num[1:3]\n",
    "# print(num23)\n",
    "\n",
    "seoul = ['00', '01', '02', '03', '04', '05', '06', '07', '08']\n",
    "busan = ['09', '10', '11', '12']\n",
    "if num23 in seoul :\n",
    "    print('출생지 : 서울')\n",
    "elif num23 in busan :\n",
    "    print('출생지 : 부산')\n",
    "else :\n",
    "    pass"
   ]
  },
  {
   "cell_type": "code",
   "execution_count": 245,
   "id": "63d90de5",
   "metadata": {},
   "outputs": [
    {
     "name": "stdout",
     "output_type": "stream",
     "text": [
      "< 문제07 >\n",
      "종목명 : \n",
      "투자 경고 종목이 아닙니다.\n"
     ]
    }
   ],
   "source": [
    "print('< 문제07 >')\n",
    "# 투자 경고 종목 리스트가 있을 때 \n",
    "# 사용자로부터 종목명을 입력 받은 후 \n",
    "# 해당 종목이 투자 경고 종목이라면 '투자 경고 종목입니다'를\n",
    "# 아니면 \"투자 경고 종목이 아닙니다.\"를 출력하는 프로그램을 작성하라.\n",
    "\n",
    "warnInvestmentLst = [\"Microsoft\", \"Google\", \"Naver\", \"Kakao\", \"SAMSUNG\", \"LG\"]\n",
    "\n",
    "jm = input('종목명 : ')\n",
    "warnInvestmentLst = [\"Microsoft\", \"Google\", \"Naver\", \"Kakao\", \"SAMSUNG\", \"LG\"]\n",
    "if jm in warnInvestmentLst :\n",
    "    print('투자 경고 종목입니다')\n",
    "else :\n",
    "    print('투자 경고 종목이 아닙니다.')\n",
    "    "
   ]
  },
  {
   "cell_type": "code",
   "execution_count": 299,
   "id": "03095997",
   "metadata": {},
   "outputs": [
    {
     "name": "stdout",
     "output_type": "stream",
     "text": [
      "< 문제08 >\n",
      "계절 : 가을\n",
      "정답입니다\n"
     ]
    }
   ],
   "source": [
    "print('< 문제08 >')\n",
    "# 아래와 같이 fruit 딕셔너리가 정의되어 있다. \n",
    "# 사용자가 입력한 값이 딕셔너리 키 (key) 값에 포함되었다면 \"정답입니다\"를 \n",
    "# 아닐 경우 \"오답입니다\" 출력하라.\n",
    "\n",
    "fruit = {\"봄\" : \"딸기\", \"여름\" : \"토마토\", \"가을\" : \"사과\"}\n",
    "season = input('계절 : ')\n",
    "if season in fruit :\n",
    "    print('정답입니다')\n",
    "else :\n",
    "    print('오답입니다')\n"
   ]
  },
  {
   "cell_type": "code",
   "execution_count": 281,
   "id": "c920f50d",
   "metadata": {},
   "outputs": [
    {
     "name": "stdout",
     "output_type": "stream",
     "text": [
      "< 문제09 >\n",
      "아무 문자나 입력하세요 : P\n",
      "True <class 'str'>\n",
      "p\n"
     ]
    }
   ],
   "source": [
    "print('< 문제09 >')\n",
    "# 사용자로부터 문자 한 개를 입력 받고, \n",
    "# 소문자일 경우 대문자로, \n",
    "# 대문자 일 경우, 소문자로 변경해서 출력하라.\n",
    "# hint -  islower() 함수는 문자의 소문자 여부를 판별합니다.\n",
    "\n",
    "tmp = input('아무 문자나 입력하세요 : ')\n",
    "# print(tmp)\n",
    "inputTmp = str(tmp.isupper())\n",
    "# print(tmp.isupper())\n",
    "# print(tmp.islower())\n",
    "# print(inputTmp, type(inputTmp))\n",
    "\n",
    "if inputTmp == 'True' :\n",
    "    print(tmp.lower())\n",
    "else :\n",
    "    print(tmp.upper())"
   ]
  },
  {
   "cell_type": "code",
   "execution_count": 296,
   "id": "6be2bd9a",
   "metadata": {},
   "outputs": [
    {
     "name": "stdout",
     "output_type": "stream",
     "text": [
      "< 문제10 >\n",
      "점수를 입력하세요 : 30\n",
      "D학점 입니다.\n"
     ]
    }
   ],
   "source": [
    "print('< 문제10 >')\n",
    "# 점수 구간에 해당하는 학점이 아래와 같이 정의되어 있다.\n",
    "# 81~100\tA\n",
    "# 61~80\tB\n",
    "# 41~60\tC\n",
    "# 21~40\tD\n",
    "# 0~20\tE\n",
    "# 사용자로부터 score를 입력받아 학점을 출력하라.\n",
    "\n",
    "score = int(input('점수를 입력하세요 : '))\n",
    "if score >= 81 :\n",
    "    print('A학점 입니다.')\n",
    "elif score >= 61 :\n",
    "    print('B학점 입니다.')\n",
    "elif score >= 41 :\n",
    "    print('C학점 입니다.')\n",
    "elif score >= 21 :\n",
    "    print('D학점 입니다.')\n",
    "else :\n",
    "    print('E학점 입니다.')"
   ]
  },
  {
   "cell_type": "code",
   "execution_count": 285,
   "id": "d80d2578",
   "metadata": {},
   "outputs": [
    {
     "name": "stdout",
     "output_type": "stream",
     "text": [
      "< 문제11 >\n",
      "number : 9\n",
      "number : 5\n",
      "number : 2\n",
      "9\n"
     ]
    }
   ],
   "source": [
    "print('< 문제11 >')\n",
    "# 사용자로부터 세 개의 숫자를 입력 받은 후 \n",
    "# 가장 큰 숫자를 출력하라.\n",
    "# input number1: 10\n",
    "# input number2: 9\n",
    "# input number3: 20\n",
    "\n",
    "num01 = int(input('number : '))\n",
    "num02 = int(input('number : '))\n",
    "num03 = int(input('number : '))\n",
    "\n",
    "if num01 > num02 and num01 > num03 :\n",
    "    print(num01)\n",
    "elif num02 > num01 and num02 > num03 :\n",
    "    print(num02)\n",
    "else :\n",
    "    print(num03)"
   ]
  },
  {
   "cell_type": "code",
   "execution_count": 287,
   "id": "c6aa8217",
   "metadata": {},
   "outputs": [
    {
     "name": "stdout",
     "output_type": "stream",
     "text": [
      "< 문제12 >\n",
      "숫자를 입력하세요 : 2\n",
      "짝수\n"
     ]
    }
   ],
   "source": [
    "print('< 문제12 >')\n",
    "# input()함수를 이용하여 입력받은 숫자가 홀수인지 짝수인지를 판단하는 프로그램을 작성하라.\n",
    "# 홀수면 '홀수'라고 출력하고 짝수면 '짝수'라고 출력하시오\n",
    "# +, - , / , * , %(나머지 연산자)\n",
    "\n",
    "num = int(input('숫자를 입력하세요 : '))\n",
    "if num % 2 == 0 :\n",
    "    print('짝수')\n",
    "else :\n",
    "    print('홀수')"
   ]
  }
 ],
 "metadata": {
  "kernelspec": {
   "display_name": "Python 3 (ipykernel)",
   "language": "python",
   "name": "python3"
  },
  "language_info": {
   "codemirror_mode": {
    "name": "ipython",
    "version": 3
   },
   "file_extension": ".py",
   "mimetype": "text/x-python",
   "name": "python",
   "nbconvert_exporter": "python",
   "pygments_lexer": "ipython3",
   "version": "3.11.4"
  }
 },
 "nbformat": 4,
 "nbformat_minor": 5
}
